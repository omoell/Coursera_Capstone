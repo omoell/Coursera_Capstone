{
 "cells": [
  {
   "cell_type": "code",
   "execution_count": 126,
   "metadata": {},
   "outputs": [],
   "source": [
    "with open('Preisaenderungen.txt', 'r') as txt:\n",
    "    text = txt.readlines()"
   ]
  },
  {
   "cell_type": "code",
   "execution_count": 121,
   "metadata": {},
   "outputs": [],
   "source": [
    "def create_html(table):\n",
    "    table_header = table[:1]\n",
    "    table_body = table[1:]\n",
    "    n_cols = len(table_header[0].split('\\t'))\n",
    "    header = add_tags(table_header, 'th', n_cols)\n",
    "    body = add_tags(table_body, 'td', n_cols)\n",
    "    return str(''.join(header) + ''.join(body))\n",
    "\n",
    "def add_tags(data, tag, n_cols):\n",
    "    t_data = []\n",
    "    for item in data:\n",
    "        item = item.strip().split('\\t')\n",
    "        item = item + [' ']*(n_cols - len(item))\n",
    "        item = [f'<{tag}>{x}</{tag}>' for x in item]\n",
    "        t_data.append(f'<tr>{\"\".join(item)}</tr>')\n",
    "    return t_data"
   ]
  },
  {
   "cell_type": "code",
   "execution_count": 132,
   "metadata": {},
   "outputs": [
    {
     "name": "stdin",
     "output_type": "stream",
     "text": [
      "Enter the table id: test\n"
     ]
    },
    {
     "name": "stdout",
     "output_type": "stream",
     "text": [
      "Copy and paste below text into markdown field:\n",
      "\n",
      "<table id=\"test\"><tr><th>Diesel</th><th>E5</th><th>E10</th></tr><tr><td>new</td><td>3</td><td>12</td><td>48</td></tr><tr><td>removed</td><td>2</td><td>8</td><td>32</td></tr><tr><td>changed</td><td>1</td><td>4</td><td>16</td></tr></table>\n"
     ]
    }
   ],
   "source": [
    "html_table = create_html(text)\n",
    "table_id = input('Enter the table id:')\n",
    "print('Copy and paste below text into markdown field:\\n')\n",
    "print(f'<table id=\"{table_id}\">{html_table}</table>')"
   ]
  }
 ],
 "metadata": {
  "kernelspec": {
   "display_name": "Python (data_science)",
   "language": "python",
   "name": "data_science"
  },
  "language_info": {
   "codemirror_mode": {
    "name": "ipython",
    "version": 3
   },
   "file_extension": ".py",
   "mimetype": "text/x-python",
   "name": "python",
   "nbconvert_exporter": "python",
   "pygments_lexer": "ipython3",
   "version": "3.7.6"
  }
 },
 "nbformat": 4,
 "nbformat_minor": 4
}
