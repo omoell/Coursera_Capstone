{
 "cells": [
  {
   "cell_type": "code",
   "execution_count": 1,
   "metadata": {},
   "outputs": [],
   "source": [
    "import pandas as pd\n",
    "from pandas.io.json import json_normalize\n",
    "pd.set_option('display.max_columns', None) # display all columns of a df inline\n",
    "pd.set_option('display.max_rows', None) # display all rows of a df inline\n",
    "\n",
    "import json\n",
    "import requests\n",
    "\n",
    "from sklearn.cluster import KMeans\n",
    "\n",
    "# Folium and geopy handle and display geospatial data\n",
    "import folium # display data on interactive map\n",
    "from geopy.geocoders import Nominatim # get langitude and longitude for an address\n",
    "\n",
    "# Import BeautifulSoup for scraping table from wiki-page\n",
    "from bs4 import BeautifulSoup"
   ]
  },
  {
   "cell_type": "code",
   "execution_count": null,
   "metadata": {},
   "outputs": [],
   "source": [
    "website_url = 'https://en.wikipedia.org/wiki/List_of_postal_codes_of_Canada:_M' # define wikipedia url\n",
    "html_content = requests.get(website_url).text # download html flatfile from wikipedia\n",
    "soup = BeautifulSoup(website_url, 'lxml') # create parse tree object\n",
    "print(soup.prettify()) # display html data with indents"
   ]
  },
  {
   "cell_type": "code",
   "execution_count": 41,
   "metadata": {},
   "outputs": [],
   "source": [
    "# extract table and store in variable 'table'\n",
    "table = soup.find('table',{'class':'wikitable sortable'})"
   ]
  },
  {
   "cell_type": "code",
   "execution_count": null,
   "metadata": {},
   "outputs": [],
   "source": [
    "# Get headers of table and store in t_headers\n",
    "t_headers = ['PostalCode', 'Borough', 'Neighborhood']\n",
    "\n",
    "# Following code to be uncommented in case table headers from website should be used\n",
    "# for th in table.find_all(\"th\"):\n",
    "#     # remove any newlines and extra spaces from left and right\n",
    "#     t_headers.append(th.text.replace('\\n', ' ').strip())\n",
    "\n",
    "# Get all the rows of table and store in t_data\n",
    "t_data = []\n",
    "for tr in table.tbody.find_all(\"tr\"): # find all tr's from table's tbody\n",
    "    t_row = {}\n",
    "    # Each table row is stored in the form of\n",
    "    # t_row = {'Postcode': '', 'Borough': '', 'Neighbourhood': ''}\n",
    "\n",
    "    # find all td's(3) in tr and zip it with t_header\n",
    "    for td, th in zip(tr.find_all(\"td\"), t_headers): \n",
    "        t_row[th] = td.text.replace('\\n', '').strip()\n",
    "    t_data.append(t_row)\n",
    "\n",
    "# remove first row, as it included only th (table headers) and thus is empty dictionary\n",
    "t_data = t_data[1:]\n",
    "print(t_data)"
   ]
  },
  {
   "cell_type": "code",
   "execution_count": null,
   "metadata": {},
   "outputs": [],
   "source": [
    "# Convert t_data into pandas DataFrame\n",
    "toronto_data_full = pd.DataFrame(t_data)"
   ]
  },
  {
   "cell_type": "code",
   "execution_count": 177,
   "metadata": {},
   "outputs": [
    {
     "data": {
      "text/html": [
       "<div>\n",
       "<style scoped>\n",
       "    .dataframe tbody tr th:only-of-type {\n",
       "        vertical-align: middle;\n",
       "    }\n",
       "\n",
       "    .dataframe tbody tr th {\n",
       "        vertical-align: top;\n",
       "    }\n",
       "\n",
       "    .dataframe thead th {\n",
       "        text-align: right;\n",
       "    }\n",
       "</style>\n",
       "<table border=\"1\" class=\"dataframe\">\n",
       "  <thead>\n",
       "    <tr style=\"text-align: right;\">\n",
       "      <th></th>\n",
       "      <th>PostalCode</th>\n",
       "      <th>Borough</th>\n",
       "      <th>Neighborhood</th>\n",
       "    </tr>\n",
       "  </thead>\n",
       "  <tbody>\n",
       "    <tr>\n",
       "      <th>0</th>\n",
       "      <td>M1B</td>\n",
       "      <td>Scarborough</td>\n",
       "      <td>Rouge, Malvern</td>\n",
       "    </tr>\n",
       "    <tr>\n",
       "      <th>1</th>\n",
       "      <td>M1C</td>\n",
       "      <td>Scarborough</td>\n",
       "      <td>Highland Creek, Rouge Hill, Port Union</td>\n",
       "    </tr>\n",
       "    <tr>\n",
       "      <th>2</th>\n",
       "      <td>M1E</td>\n",
       "      <td>Scarborough</td>\n",
       "      <td>Guildwood, Morningside, West Hill</td>\n",
       "    </tr>\n",
       "    <tr>\n",
       "      <th>3</th>\n",
       "      <td>M1G</td>\n",
       "      <td>Scarborough</td>\n",
       "      <td>Woburn</td>\n",
       "    </tr>\n",
       "    <tr>\n",
       "      <th>4</th>\n",
       "      <td>M1H</td>\n",
       "      <td>Scarborough</td>\n",
       "      <td>Cedarbrae</td>\n",
       "    </tr>\n",
       "  </tbody>\n",
       "</table>\n",
       "</div>"
      ],
      "text/plain": [
       "  PostalCode      Borough                            Neighborhood\n",
       "0        M1B  Scarborough                          Rouge, Malvern\n",
       "1        M1C  Scarborough  Highland Creek, Rouge Hill, Port Union\n",
       "2        M1E  Scarborough       Guildwood, Morningside, West Hill\n",
       "3        M1G  Scarborough                                  Woburn\n",
       "4        M1H  Scarborough                               Cedarbrae"
      ]
     },
     "execution_count": 177,
     "metadata": {},
     "output_type": "execute_result"
    }
   ],
   "source": [
    "# Fill Borough, if Neighborhood is not assigned\n",
    "def fill_neighborhood(df):\n",
    "    return df.apply(lambda x: x['Borough'] if x['Neighborhood'] == 'Not assigned' else x['Neighborhood'], axis=1)\n",
    "\n",
    "# Clean data step-by-step with method chaining\n",
    "toronto_data = (toronto_data_full.query(\"Borough != 'Not assigned'\") # Remove entries without an assigned Borough\n",
    "                                 # Fill Neighborhood with Borough, if Neighborhood is not filled\n",
    "                                 .assign(Neighborhood=fill_neighborhood) \n",
    "                                 # Merge multiple Neighborhoods on shared PostalCode \n",
    "                                 .groupby(['PostalCode', 'Borough'])['Neighborhood'].apply(lambda x: ', '.join(x))\n",
    "                                 # Convert MultiIndex to columns\n",
    "                                 .reset_index(drop=False)\n",
    "               )\n",
    "\n",
    "toronto_data.head()"
   ]
  },
  {
   "cell_type": "code",
   "execution_count": 178,
   "metadata": {},
   "outputs": [
    {
     "name": "stdout",
     "output_type": "stream",
     "text": [
      "Shape: (103, 3)\n"
     ]
    }
   ],
   "source": [
    "print(f'Shape: {toronto_data.shape}')"
   ]
  }
 ],
 "metadata": {
  "kernelspec": {
   "display_name": "Python (ibm_capstone)",
   "language": "python",
   "name": "ibm_capstone"
  },
  "language_info": {
   "codemirror_mode": {
    "name": "ipython",
    "version": 3
   },
   "file_extension": ".py",
   "mimetype": "text/x-python",
   "name": "python",
   "nbconvert_exporter": "python",
   "pygments_lexer": "ipython3",
   "version": "3.8.0"
  }
 },
 "nbformat": 4,
 "nbformat_minor": 4
}
