{
 "cells": [
  {
   "cell_type": "code",
   "execution_count": 1,
   "metadata": {
    "Collapsed": "false"
   },
   "outputs": [],
   "source": [
    "# Pandas and numpy for analysing and preparing data\n",
    "import pandas as pd\n",
    "from pandas.io.json import json_normalize\n",
    "pd.set_option('display.max_columns', None) # display all columns of a df inline\n",
    "pd.set_option('display.max_rows', None) # display all rows of a df inline\n",
    "import numpy as np\n",
    "\n",
    "# GeoPandas for handling GeoJSON\n",
    "import geopandas as gpd\n",
    "\n",
    "# Matplotlib colors\n",
    "import matplotlib.cm as cm\n",
    "import matplotlib.colors as colors\n",
    "\n",
    "# Seaborn and Matplotlib for plotting data\n",
    "import matplotlib.pyplot as plt\n",
    "import seaborn as sns\n",
    "\n",
    "# Handling URL queries\n",
    "import json\n",
    "import requests\n",
    "\n",
    "# Folium and geopy handle and display geospatial data\n",
    "import folium # display data on interactive map\n",
    "from geopy.geocoders import Nominatim # get langitude and longitude for an address\n",
    "\n",
    "# Import BeautifulSoup for scraping table from wiki-page\n",
    "from bs4 import BeautifulSoup\n",
    "\n",
    "# To cluster neighborhoods\n",
    "from sklearn.cluster import KMeans\n",
    "\n",
    "# Read environment variables with foursquare API credentials\n",
    "import os"
   ]
  },
  {
   "cell_type": "markdown",
   "metadata": {
    "Collapsed": "false"
   },
   "source": [
    "# Get data for neighborhoods in Duesseldorf\n",
    "\n",
    "https://public.opendatasoft.com provides data on the borders of the neighborhoods, as well as on the population."
   ]
  },
  {
   "cell_type": "code",
   "execution_count": 2,
   "metadata": {
    "Collapsed": "false"
   },
   "outputs": [
    {
     "ename": "CalledProcessError",
     "evalue": "Command 'b\"\\n# Download GeoJSON for geo coordinates of neighborhoods in Duesseldorf\\n!wget --quiet 'https://opendata.duesseldorf.de/sites/default/files/Stadtteile_WGS84_4326.geojson' -O dus_neighborhoods.geojson\\n\\n# Download GeoJSON for geo coordinates of residential areas in Duesseldorf\\n!wget --quiet 'https://opendata.duesseldorf.de/sites/default/files/Wohnquartiere_Duesseldorf_WGS84_4326.geojson' -O dus_residential_areas.geojson\\n\\n# Download JSON with movements into the areas (2017)\\n# Description of Data: https://opendata.duesseldorf.de/dataset/bev%C3%B6lkerungswanderung-den-wohnquartieren-d%C3%BCsseldorf\\n!wget --quiet 'https://opendata.duesseldorf.de/api/action/datastore/search.json?resource_id=1564e254-213c-4b35-a1a9-b0e8a070ced0&limit=400' -O dus_move_in.json\\n\\n# Download JSON with movements out of the areas (2017)\\n# Description of Data: https://opendata.duesseldorf.de/dataset/bev%C3%B6lkerungswanderung-den-wohnquartieren-d%C3%BCsseldorf\\n!wget --quiet 'https://opendata.duesseldorf.de/api/action/datastore/search.json?resource_id=b7f96ca0-735d-4c9b-862c-99813429e0cd&limit=400' -O dus_move_out.json\\n\\n# Download CSV (JSON file was not available) with total size of population per neighborhood in Duesseldorf (2012 - 2018)\\n# Description of Data: https://opendata.duesseldorf.de/dataset/einwohnerzahl-d%C3%BCsseldorf-seit-2012-einwohnermeldedaten\\n!wget --quiet 'https://opendata.duesseldorf.de/sites/default/files/Bev%C3%B6lkerungsstand%20in%20den%20Stadtteilen%20seit%202012_0.csv' -O dus_population.csv\\n\"' returned non-zero exit status 1.",
     "output_type": "error",
     "traceback": [
      "\u001b[0;31m---------------------------------------------------------------------------\u001b[0m",
      "\u001b[0;31mCalledProcessError\u001b[0m                        Traceback (most recent call last)",
      "\u001b[0;32m<ipython-input-2-f7e9ee1f2d61>\u001b[0m in \u001b[0;36m<module>\u001b[0;34m\u001b[0m\n\u001b[0;32m----> 1\u001b[0;31m \u001b[0mget_ipython\u001b[0m\u001b[0;34m(\u001b[0m\u001b[0;34m)\u001b[0m\u001b[0;34m.\u001b[0m\u001b[0mrun_cell_magic\u001b[0m\u001b[0;34m(\u001b[0m\u001b[0;34m'script'\u001b[0m\u001b[0;34m,\u001b[0m \u001b[0;34m'false'\u001b[0m\u001b[0;34m,\u001b[0m \u001b[0;34m\"\\n# Download GeoJSON for geo coordinates of neighborhoods in Duesseldorf\\n!wget --quiet 'https://opendata.duesseldorf.de/sites/default/files/Stadtteile_WGS84_4326.geojson' -O dus_neighborhoods.geojson\\n\\n# Download GeoJSON for geo coordinates of residential areas in Duesseldorf\\n!wget --quiet 'https://opendata.duesseldorf.de/sites/default/files/Wohnquartiere_Duesseldorf_WGS84_4326.geojson' -O dus_residential_areas.geojson\\n\\n# Download JSON with movements into the areas (2017)\\n# Description of Data: https://opendata.duesseldorf.de/dataset/bev%C3%B6lkerungswanderung-den-wohnquartieren-d%C3%BCsseldorf\\n!wget --quiet 'https://opendata.duesseldorf.de/api/action/datastore/search.json?resource_id=1564e254-213c-4b35-a1a9-b0e8a070ced0&limit=400' -O dus_move_in.json\\n\\n# Download JSON with movements out of the areas (2017)\\n# Description of Data: https://opendata.duesseldorf.de/dataset/bev%C3%B6lkerungswanderung-den-wohnquartieren-d%C3%BCsseldorf\\n!wget --quiet 'https://opendata.duesseldorf.de/api/action/datastore/search.json?resource_id=b7f96ca0-735d-4c9b-862c-99813429e0cd&limit=400' -O dus_move_out.json\\n\\n# Download CSV (JSON file was not available) with total size of population per neighborhood in Duesseldorf (2012 - 2018)\\n# Description of Data: https://opendata.duesseldorf.de/dataset/einwohnerzahl-d%C3%BCsseldorf-seit-2012-einwohnermeldedaten\\n!wget --quiet 'https://opendata.duesseldorf.de/sites/default/files/Bev%C3%B6lkerungsstand%20in%20den%20Stadtteilen%20seit%202012_0.csv' -O dus_population.csv\\n\"\u001b[0m\u001b[0;34m)\u001b[0m\u001b[0;34m\u001b[0m\u001b[0;34m\u001b[0m\u001b[0m\n\u001b[0m",
      "\u001b[0;32m~/miniconda3/envs/ibm_capstone/lib/python3.7/site-packages/IPython/core/interactiveshell.py\u001b[0m in \u001b[0;36mrun_cell_magic\u001b[0;34m(self, magic_name, line, cell)\u001b[0m\n\u001b[1;32m   2350\u001b[0m             \u001b[0;32mwith\u001b[0m \u001b[0mself\u001b[0m\u001b[0;34m.\u001b[0m\u001b[0mbuiltin_trap\u001b[0m\u001b[0;34m:\u001b[0m\u001b[0;34m\u001b[0m\u001b[0;34m\u001b[0m\u001b[0m\n\u001b[1;32m   2351\u001b[0m                 \u001b[0margs\u001b[0m \u001b[0;34m=\u001b[0m \u001b[0;34m(\u001b[0m\u001b[0mmagic_arg_s\u001b[0m\u001b[0;34m,\u001b[0m \u001b[0mcell\u001b[0m\u001b[0;34m)\u001b[0m\u001b[0;34m\u001b[0m\u001b[0;34m\u001b[0m\u001b[0m\n\u001b[0;32m-> 2352\u001b[0;31m                 \u001b[0mresult\u001b[0m \u001b[0;34m=\u001b[0m \u001b[0mfn\u001b[0m\u001b[0;34m(\u001b[0m\u001b[0;34m*\u001b[0m\u001b[0margs\u001b[0m\u001b[0;34m,\u001b[0m \u001b[0;34m**\u001b[0m\u001b[0mkwargs\u001b[0m\u001b[0;34m)\u001b[0m\u001b[0;34m\u001b[0m\u001b[0;34m\u001b[0m\u001b[0m\n\u001b[0m\u001b[1;32m   2353\u001b[0m             \u001b[0;32mreturn\u001b[0m \u001b[0mresult\u001b[0m\u001b[0;34m\u001b[0m\u001b[0;34m\u001b[0m\u001b[0m\n\u001b[1;32m   2354\u001b[0m \u001b[0;34m\u001b[0m\u001b[0m\n",
      "\u001b[0;32m</home/oli/miniconda3/envs/ibm_capstone/lib/python3.7/site-packages/decorator.py:decorator-gen-110>\u001b[0m in \u001b[0;36mshebang\u001b[0;34m(self, line, cell)\u001b[0m\n",
      "\u001b[0;32m~/miniconda3/envs/ibm_capstone/lib/python3.7/site-packages/IPython/core/magic.py\u001b[0m in \u001b[0;36m<lambda>\u001b[0;34m(f, *a, **k)\u001b[0m\n\u001b[1;32m    185\u001b[0m     \u001b[0;31m# but it's overkill for just that one bit of state.\u001b[0m\u001b[0;34m\u001b[0m\u001b[0;34m\u001b[0m\u001b[0;34m\u001b[0m\u001b[0m\n\u001b[1;32m    186\u001b[0m     \u001b[0;32mdef\u001b[0m \u001b[0mmagic_deco\u001b[0m\u001b[0;34m(\u001b[0m\u001b[0marg\u001b[0m\u001b[0;34m)\u001b[0m\u001b[0;34m:\u001b[0m\u001b[0;34m\u001b[0m\u001b[0;34m\u001b[0m\u001b[0m\n\u001b[0;32m--> 187\u001b[0;31m         \u001b[0mcall\u001b[0m \u001b[0;34m=\u001b[0m \u001b[0;32mlambda\u001b[0m \u001b[0mf\u001b[0m\u001b[0;34m,\u001b[0m \u001b[0;34m*\u001b[0m\u001b[0ma\u001b[0m\u001b[0;34m,\u001b[0m \u001b[0;34m**\u001b[0m\u001b[0mk\u001b[0m\u001b[0;34m:\u001b[0m \u001b[0mf\u001b[0m\u001b[0;34m(\u001b[0m\u001b[0;34m*\u001b[0m\u001b[0ma\u001b[0m\u001b[0;34m,\u001b[0m \u001b[0;34m**\u001b[0m\u001b[0mk\u001b[0m\u001b[0;34m)\u001b[0m\u001b[0;34m\u001b[0m\u001b[0;34m\u001b[0m\u001b[0m\n\u001b[0m\u001b[1;32m    188\u001b[0m \u001b[0;34m\u001b[0m\u001b[0m\n\u001b[1;32m    189\u001b[0m         \u001b[0;32mif\u001b[0m \u001b[0mcallable\u001b[0m\u001b[0;34m(\u001b[0m\u001b[0marg\u001b[0m\u001b[0;34m)\u001b[0m\u001b[0;34m:\u001b[0m\u001b[0;34m\u001b[0m\u001b[0;34m\u001b[0m\u001b[0m\n",
      "\u001b[0;32m~/miniconda3/envs/ibm_capstone/lib/python3.7/site-packages/IPython/core/magics/script.py\u001b[0m in \u001b[0;36mshebang\u001b[0;34m(self, line, cell)\u001b[0m\n\u001b[1;32m    243\u001b[0m             \u001b[0msys\u001b[0m\u001b[0;34m.\u001b[0m\u001b[0mstderr\u001b[0m\u001b[0;34m.\u001b[0m\u001b[0mflush\u001b[0m\u001b[0;34m(\u001b[0m\u001b[0;34m)\u001b[0m\u001b[0;34m\u001b[0m\u001b[0;34m\u001b[0m\u001b[0m\n\u001b[1;32m    244\u001b[0m         \u001b[0;32mif\u001b[0m \u001b[0margs\u001b[0m\u001b[0;34m.\u001b[0m\u001b[0mraise_error\u001b[0m \u001b[0;32mand\u001b[0m \u001b[0mp\u001b[0m\u001b[0;34m.\u001b[0m\u001b[0mreturncode\u001b[0m\u001b[0;34m!=\u001b[0m\u001b[0;36m0\u001b[0m\u001b[0;34m:\u001b[0m\u001b[0;34m\u001b[0m\u001b[0;34m\u001b[0m\u001b[0m\n\u001b[0;32m--> 245\u001b[0;31m             \u001b[0;32mraise\u001b[0m \u001b[0mCalledProcessError\u001b[0m\u001b[0;34m(\u001b[0m\u001b[0mp\u001b[0m\u001b[0;34m.\u001b[0m\u001b[0mreturncode\u001b[0m\u001b[0;34m,\u001b[0m \u001b[0mcell\u001b[0m\u001b[0;34m,\u001b[0m \u001b[0moutput\u001b[0m\u001b[0;34m=\u001b[0m\u001b[0mout\u001b[0m\u001b[0;34m,\u001b[0m \u001b[0mstderr\u001b[0m\u001b[0;34m=\u001b[0m\u001b[0merr\u001b[0m\u001b[0;34m)\u001b[0m\u001b[0;34m\u001b[0m\u001b[0;34m\u001b[0m\u001b[0m\n\u001b[0m\u001b[1;32m    246\u001b[0m \u001b[0;34m\u001b[0m\u001b[0m\n\u001b[1;32m    247\u001b[0m     \u001b[0;32mdef\u001b[0m \u001b[0m_run_script\u001b[0m\u001b[0;34m(\u001b[0m\u001b[0mself\u001b[0m\u001b[0;34m,\u001b[0m \u001b[0mp\u001b[0m\u001b[0;34m,\u001b[0m \u001b[0mcell\u001b[0m\u001b[0;34m,\u001b[0m \u001b[0mto_close\u001b[0m\u001b[0;34m)\u001b[0m\u001b[0;34m:\u001b[0m\u001b[0;34m\u001b[0m\u001b[0;34m\u001b[0m\u001b[0m\n",
      "\u001b[0;31mCalledProcessError\u001b[0m: Command 'b\"\\n# Download GeoJSON for geo coordinates of neighborhoods in Duesseldorf\\n!wget --quiet 'https://opendata.duesseldorf.de/sites/default/files/Stadtteile_WGS84_4326.geojson' -O dus_neighborhoods.geojson\\n\\n# Download GeoJSON for geo coordinates of residential areas in Duesseldorf\\n!wget --quiet 'https://opendata.duesseldorf.de/sites/default/files/Wohnquartiere_Duesseldorf_WGS84_4326.geojson' -O dus_residential_areas.geojson\\n\\n# Download JSON with movements into the areas (2017)\\n# Description of Data: https://opendata.duesseldorf.de/dataset/bev%C3%B6lkerungswanderung-den-wohnquartieren-d%C3%BCsseldorf\\n!wget --quiet 'https://opendata.duesseldorf.de/api/action/datastore/search.json?resource_id=1564e254-213c-4b35-a1a9-b0e8a070ced0&limit=400' -O dus_move_in.json\\n\\n# Download JSON with movements out of the areas (2017)\\n# Description of Data: https://opendata.duesseldorf.de/dataset/bev%C3%B6lkerungswanderung-den-wohnquartieren-d%C3%BCsseldorf\\n!wget --quiet 'https://opendata.duesseldorf.de/api/action/datastore/search.json?resource_id=b7f96ca0-735d-4c9b-862c-99813429e0cd&limit=400' -O dus_move_out.json\\n\\n# Download CSV (JSON file was not available) with total size of population per neighborhood in Duesseldorf (2012 - 2018)\\n# Description of Data: https://opendata.duesseldorf.de/dataset/einwohnerzahl-d%C3%BCsseldorf-seit-2012-einwohnermeldedaten\\n!wget --quiet 'https://opendata.duesseldorf.de/sites/default/files/Bev%C3%B6lkerungsstand%20in%20den%20Stadtteilen%20seit%202012_0.csv' -O dus_population.csv\\n\"' returned non-zero exit status 1."
     ]
    }
   ],
   "source": [
    "# Download GeoJSON for geo coordinates of neighborhoods in Duesseldorf\n",
    "!wget --quiet 'https://opendata.duesseldorf.de/sites/default/files/Stadtteile_WGS84_4326.geojson' -O dus_neighborhoods.geojson\n",
    "\n",
    "# Download GeoJSON for geo coordinates of residential areas in Duesseldorf\n",
    "!wget --quiet 'https://opendata.duesseldorf.de/sites/default/files/Wohnquartiere_Duesseldorf_WGS84_4326.geojson' -O dus_residential_areas.geojson\n",
    "\n",
    "# Download JSON with movements into the areas (2017)\n",
    "# Description of Data: https://opendata.duesseldorf.de/dataset/bev%C3%B6lkerungswanderung-den-wohnquartieren-d%C3%BCsseldorf\n",
    "!wget --quiet 'https://opendata.duesseldorf.de/api/action/datastore/search.json?resource_id=1564e254-213c-4b35-a1a9-b0e8a070ced0&limit=400' -O dus_move_in.json\n",
    "\n",
    "# Download JSON with movements out of the areas (2017)\n",
    "# Description of Data: https://opendata.duesseldorf.de/dataset/bev%C3%B6lkerungswanderung-den-wohnquartieren-d%C3%BCsseldorf\n",
    "!wget --quiet 'https://opendata.duesseldorf.de/api/action/datastore/search.json?resource_id=b7f96ca0-735d-4c9b-862c-99813429e0cd&limit=400' -O dus_move_out.json\n",
    "\n",
    "# Download CSV (JSON file was not available) with total size of population per neighborhood in Duesseldorf (2012 - 2018)\n",
    "# Description of Data: https://opendata.duesseldorf.de/dataset/einwohnerzahl-d%C3%BCsseldorf-seit-2012-einwohnermeldedaten\n",
    "!wget --quiet 'https://opendata.duesseldorf.de/sites/default/files/Bev%C3%B6lkerungsstand%20in%20den%20Stadtteilen%20seit%202012_0.csv' -O dus_population.csv"
   ]
  },
  {
   "cell_type": "markdown",
   "metadata": {
    "Collapsed": "false"
   },
   "source": [
    "## Extract ID, name and geometry of each neighborhood"
   ]
  },
  {
   "cell_type": "code",
   "execution_count": 3,
   "metadata": {
    "Collapsed": "false"
   },
   "outputs": [
    {
     "name": "stdout",
     "output_type": "stream",
     "text": [
      "(50, 6)\n"
     ]
    },
    {
     "data": {
      "text/html": [
       "<div>\n",
       "<style scoped>\n",
       "    .dataframe tbody tr th:only-of-type {\n",
       "        vertical-align: middle;\n",
       "    }\n",
       "\n",
       "    .dataframe tbody tr th {\n",
       "        vertical-align: top;\n",
       "    }\n",
       "\n",
       "    .dataframe thead th {\n",
       "        text-align: right;\n",
       "    }\n",
       "</style>\n",
       "<table border=\"1\" class=\"dataframe\">\n",
       "  <thead>\n",
       "    <tr style=\"text-align: right;\">\n",
       "      <th></th>\n",
       "      <th>Quelle</th>\n",
       "      <th>Stand</th>\n",
       "      <th>Stadtbezirk</th>\n",
       "      <th>Stadtteil</th>\n",
       "      <th>Name</th>\n",
       "      <th>geometry</th>\n",
       "    </tr>\n",
       "  </thead>\n",
       "  <tbody>\n",
       "    <tr>\n",
       "      <th>0</th>\n",
       "      <td>Amt 12/2</td>\n",
       "      <td>31.12.2017</td>\n",
       "      <td>5</td>\n",
       "      <td>54</td>\n",
       "      <td>Wittlaer</td>\n",
       "      <td>POLYGON ((6.76623 51.31355, 6.76618 51.31359, ...</td>\n",
       "    </tr>\n",
       "    <tr>\n",
       "      <th>1</th>\n",
       "      <td>Amt 12/2</td>\n",
       "      <td>31.12.2017</td>\n",
       "      <td>5</td>\n",
       "      <td>55</td>\n",
       "      <td>Angermund</td>\n",
       "      <td>POLYGON ((6.80952 51.34292, 6.80948 51.34302, ...</td>\n",
       "    </tr>\n",
       "    <tr>\n",
       "      <th>2</th>\n",
       "      <td>Amt 12/2</td>\n",
       "      <td>31.12.2017</td>\n",
       "      <td>4</td>\n",
       "      <td>43</td>\n",
       "      <td>Lörick</td>\n",
       "      <td>POLYGON ((6.74610 51.25203, 6.74602 51.25205, ...</td>\n",
       "    </tr>\n",
       "    <tr>\n",
       "      <th>3</th>\n",
       "      <td>Amt 12/2</td>\n",
       "      <td>31.12.2017</td>\n",
       "      <td>4</td>\n",
       "      <td>42</td>\n",
       "      <td>Heerdt</td>\n",
       "      <td>POLYGON ((6.73560 51.23767, 6.73522 51.23780, ...</td>\n",
       "    </tr>\n",
       "    <tr>\n",
       "      <th>4</th>\n",
       "      <td>Amt 12/2</td>\n",
       "      <td>31.12.2017</td>\n",
       "      <td>4</td>\n",
       "      <td>41</td>\n",
       "      <td>Oberkassel</td>\n",
       "      <td>POLYGON ((6.76868 51.23195, 6.76868 51.23196, ...</td>\n",
       "    </tr>\n",
       "  </tbody>\n",
       "</table>\n",
       "</div>"
      ],
      "text/plain": [
       "     Quelle       Stand  Stadtbezirk  Stadtteil        Name  \\\n",
       "0  Amt 12/2  31.12.2017            5         54    Wittlaer   \n",
       "1  Amt 12/2  31.12.2017            5         55   Angermund   \n",
       "2  Amt 12/2  31.12.2017            4         43      Lörick   \n",
       "3  Amt 12/2  31.12.2017            4         42      Heerdt   \n",
       "4  Amt 12/2  31.12.2017            4         41  Oberkassel   \n",
       "\n",
       "                                            geometry  \n",
       "0  POLYGON ((6.76623 51.31355, 6.76618 51.31359, ...  \n",
       "1  POLYGON ((6.80952 51.34292, 6.80948 51.34302, ...  \n",
       "2  POLYGON ((6.74610 51.25203, 6.74602 51.25205, ...  \n",
       "3  POLYGON ((6.73560 51.23767, 6.73522 51.23780, ...  \n",
       "4  POLYGON ((6.76868 51.23195, 6.76868 51.23196, ...  "
      ]
     },
     "execution_count": 3,
     "metadata": {},
     "output_type": "execute_result"
    }
   ],
   "source": [
    "neighborhoods_orig = gpd.read_file('dus_neighborhoods.geojson')\n",
    "print(neighborhoods_orig.shape)\n",
    "neighborhoods_orig.head()"
   ]
  },
  {
   "cell_type": "code",
   "execution_count": 4,
   "metadata": {
    "Collapsed": "false"
   },
   "outputs": [
    {
     "name": "stdout",
     "output_type": "stream",
     "text": [
      "(50, 2)\n"
     ]
    },
    {
     "data": {
      "text/html": [
       "<div>\n",
       "<style scoped>\n",
       "    .dataframe tbody tr th:only-of-type {\n",
       "        vertical-align: middle;\n",
       "    }\n",
       "\n",
       "    .dataframe tbody tr th {\n",
       "        vertical-align: top;\n",
       "    }\n",
       "\n",
       "    .dataframe thead th {\n",
       "        text-align: right;\n",
       "    }\n",
       "</style>\n",
       "<table border=\"1\" class=\"dataframe\">\n",
       "  <thead>\n",
       "    <tr style=\"text-align: right;\">\n",
       "      <th></th>\n",
       "      <th>Neighborhood</th>\n",
       "      <th>Neighborhood Geometry</th>\n",
       "    </tr>\n",
       "    <tr>\n",
       "      <th>Neighborhood ID</th>\n",
       "      <th></th>\n",
       "      <th></th>\n",
       "    </tr>\n",
       "  </thead>\n",
       "  <tbody>\n",
       "    <tr>\n",
       "      <th>054</th>\n",
       "      <td>Wittlaer</td>\n",
       "      <td>POLYGON ((6.76623 51.31355, 6.76618 51.31359, ...</td>\n",
       "    </tr>\n",
       "    <tr>\n",
       "      <th>055</th>\n",
       "      <td>Angermund</td>\n",
       "      <td>POLYGON ((6.80952 51.34292, 6.80948 51.34302, ...</td>\n",
       "    </tr>\n",
       "    <tr>\n",
       "      <th>043</th>\n",
       "      <td>Lörick</td>\n",
       "      <td>POLYGON ((6.74610 51.25203, 6.74602 51.25205, ...</td>\n",
       "    </tr>\n",
       "    <tr>\n",
       "      <th>042</th>\n",
       "      <td>Heerdt</td>\n",
       "      <td>POLYGON ((6.73560 51.23767, 6.73522 51.23780, ...</td>\n",
       "    </tr>\n",
       "    <tr>\n",
       "      <th>041</th>\n",
       "      <td>Oberkassel</td>\n",
       "      <td>POLYGON ((6.76868 51.23195, 6.76868 51.23196, ...</td>\n",
       "    </tr>\n",
       "  </tbody>\n",
       "</table>\n",
       "</div>"
      ],
      "text/plain": [
       "                Neighborhood  \\\n",
       "Neighborhood ID                \n",
       "054                 Wittlaer   \n",
       "055                Angermund   \n",
       "043                   Lörick   \n",
       "042                   Heerdt   \n",
       "041               Oberkassel   \n",
       "\n",
       "                                             Neighborhood Geometry  \n",
       "Neighborhood ID                                                     \n",
       "054              POLYGON ((6.76623 51.31355, 6.76618 51.31359, ...  \n",
       "055              POLYGON ((6.80952 51.34292, 6.80948 51.34302, ...  \n",
       "043              POLYGON ((6.74610 51.25203, 6.74602 51.25205, ...  \n",
       "042              POLYGON ((6.73560 51.23767, 6.73522 51.23780, ...  \n",
       "041              POLYGON ((6.76868 51.23195, 6.76868 51.23196, ...  "
      ]
     },
     "execution_count": 4,
     "metadata": {},
     "output_type": "execute_result"
    }
   ],
   "source": [
    "neighborhoods = (neighborhoods_orig.drop(['Quelle', 'Stand', 'Stadtbezirk'], axis=1)\n",
    "                                   .rename(columns={'Stadtteil': 'Neighborhood ID',\n",
    "                                                    'Name': 'Neighborhood',\n",
    "                                                    'geometry': 'Neighborhood Geometry'\n",
    "                                                   })\n",
    "                                   .set_index('Neighborhood ID')\n",
    "                                   .rename(index=lambda x: f'{x:03d}')\n",
    "                )\n",
    "\n",
    "print(neighborhoods.shape)\n",
    "neighborhoods.head()"
   ]
  },
  {
   "cell_type": "markdown",
   "metadata": {
    "Collapsed": "false"
   },
   "source": [
    "## Extract ID, name and geometry of each residential area"
   ]
  },
  {
   "cell_type": "code",
   "execution_count": 5,
   "metadata": {
    "Collapsed": "false"
   },
   "outputs": [
    {
     "name": "stdout",
     "output_type": "stream",
     "text": [
      "(373, 10)\n"
     ]
    },
    {
     "data": {
      "text/html": [
       "<div>\n",
       "<style scoped>\n",
       "    .dataframe tbody tr th:only-of-type {\n",
       "        vertical-align: middle;\n",
       "    }\n",
       "\n",
       "    .dataframe tbody tr th {\n",
       "        vertical-align: top;\n",
       "    }\n",
       "\n",
       "    .dataframe thead th {\n",
       "        text-align: right;\n",
       "    }\n",
       "</style>\n",
       "<table border=\"1\" class=\"dataframe\">\n",
       "  <thead>\n",
       "    <tr style=\"text-align: right;\">\n",
       "      <th></th>\n",
       "      <th>Stand</th>\n",
       "      <th>STADTBEZIR</th>\n",
       "      <th>STADTTEIL</th>\n",
       "      <th>NAME</th>\n",
       "      <th>FLAECHE</th>\n",
       "      <th>QUARTIER</th>\n",
       "      <th>QUARTIERID</th>\n",
       "      <th>wq_typ</th>\n",
       "      <th>wq_typ_txt</th>\n",
       "      <th>geometry</th>\n",
       "    </tr>\n",
       "  </thead>\n",
       "  <tbody>\n",
       "    <tr>\n",
       "      <th>0</th>\n",
       "      <td>01.01.2017</td>\n",
       "      <td>10</td>\n",
       "      <td>101</td>\n",
       "      <td>Garath</td>\n",
       "      <td>209136.4219</td>\n",
       "      <td>001</td>\n",
       "      <td>101001</td>\n",
       "      <td>1</td>\n",
       "      <td>Einfamilienhausgebiet</td>\n",
       "      <td>POLYGON ((6.89133 51.15247, 6.89116 51.15306, ...</td>\n",
       "    </tr>\n",
       "    <tr>\n",
       "      <th>1</th>\n",
       "      <td>01.01.2017</td>\n",
       "      <td>10</td>\n",
       "      <td>101</td>\n",
       "      <td>Garath</td>\n",
       "      <td>235757.3594</td>\n",
       "      <td>002</td>\n",
       "      <td>101002</td>\n",
       "      <td>3</td>\n",
       "      <td>Gemischte Bautypologie vor 1970</td>\n",
       "      <td>POLYGON ((6.90024 51.15157, 6.90020 51.15158, ...</td>\n",
       "    </tr>\n",
       "    <tr>\n",
       "      <th>2</th>\n",
       "      <td>01.01.2017</td>\n",
       "      <td>10</td>\n",
       "      <td>101</td>\n",
       "      <td>Garath</td>\n",
       "      <td>161858.3281</td>\n",
       "      <td>003</td>\n",
       "      <td>101003</td>\n",
       "      <td>3</td>\n",
       "      <td>Gemischte Bautypologie vor 1970</td>\n",
       "      <td>POLYGON ((6.89141 51.14165, 6.89150 51.14175, ...</td>\n",
       "    </tr>\n",
       "    <tr>\n",
       "      <th>3</th>\n",
       "      <td>01.01.2017</td>\n",
       "      <td>10</td>\n",
       "      <td>101</td>\n",
       "      <td>Garath</td>\n",
       "      <td>507920.5313</td>\n",
       "      <td>004</td>\n",
       "      <td>101004</td>\n",
       "      <td>3</td>\n",
       "      <td>Gemischte Bautypologie vor 1970</td>\n",
       "      <td>POLYGON ((6.89008 51.15150, 6.88966 51.15131, ...</td>\n",
       "    </tr>\n",
       "    <tr>\n",
       "      <th>4</th>\n",
       "      <td>01.01.2017</td>\n",
       "      <td>10</td>\n",
       "      <td>101</td>\n",
       "      <td>Garath</td>\n",
       "      <td>254522.9688</td>\n",
       "      <td>005</td>\n",
       "      <td>101005</td>\n",
       "      <td>3</td>\n",
       "      <td>Gemischte Bautypologie vor 1970</td>\n",
       "      <td>POLYGON ((6.89499 51.14917, 6.89133 51.15247, ...</td>\n",
       "    </tr>\n",
       "  </tbody>\n",
       "</table>\n",
       "</div>"
      ],
      "text/plain": [
       "        Stand  STADTBEZIR STADTTEIL    NAME      FLAECHE QUARTIER QUARTIERID  \\\n",
       "0  01.01.2017          10       101  Garath  209136.4219      001     101001   \n",
       "1  01.01.2017          10       101  Garath  235757.3594      002     101002   \n",
       "2  01.01.2017          10       101  Garath  161858.3281      003     101003   \n",
       "3  01.01.2017          10       101  Garath  507920.5313      004     101004   \n",
       "4  01.01.2017          10       101  Garath  254522.9688      005     101005   \n",
       "\n",
       "   wq_typ                       wq_typ_txt  \\\n",
       "0       1            Einfamilienhausgebiet   \n",
       "1       3  Gemischte Bautypologie vor 1970   \n",
       "2       3  Gemischte Bautypologie vor 1970   \n",
       "3       3  Gemischte Bautypologie vor 1970   \n",
       "4       3  Gemischte Bautypologie vor 1970   \n",
       "\n",
       "                                            geometry  \n",
       "0  POLYGON ((6.89133 51.15247, 6.89116 51.15306, ...  \n",
       "1  POLYGON ((6.90024 51.15157, 6.90020 51.15158, ...  \n",
       "2  POLYGON ((6.89141 51.14165, 6.89150 51.14175, ...  \n",
       "3  POLYGON ((6.89008 51.15150, 6.88966 51.15131, ...  \n",
       "4  POLYGON ((6.89499 51.14917, 6.89133 51.15247, ...  "
      ]
     },
     "execution_count": 5,
     "metadata": {},
     "output_type": "execute_result"
    }
   ],
   "source": [
    "residentials_orig = gpd.read_file('dus_residential_areas.geojson')\n",
    "print(residentials_orig.shape)\n",
    "residentials_orig.head()"
   ]
  },
  {
   "cell_type": "code",
   "execution_count": 6,
   "metadata": {
    "Collapsed": "false"
   },
   "outputs": [
    {
     "name": "stdout",
     "output_type": "stream",
     "text": [
      "(373, 5)\n"
     ]
    },
    {
     "data": {
      "text/html": [
       "<div>\n",
       "<style scoped>\n",
       "    .dataframe tbody tr th:only-of-type {\n",
       "        vertical-align: middle;\n",
       "    }\n",
       "\n",
       "    .dataframe tbody tr th {\n",
       "        vertical-align: top;\n",
       "    }\n",
       "\n",
       "    .dataframe thead th {\n",
       "        text-align: right;\n",
       "    }\n",
       "</style>\n",
       "<table border=\"1\" class=\"dataframe\">\n",
       "  <thead>\n",
       "    <tr style=\"text-align: right;\">\n",
       "      <th></th>\n",
       "      <th>Residential Area Size</th>\n",
       "      <th>Residential Area ID</th>\n",
       "      <th>Area Type ID</th>\n",
       "      <th>Area Type</th>\n",
       "      <th>Area Geometry</th>\n",
       "    </tr>\n",
       "    <tr>\n",
       "      <th>Neighborhood ID</th>\n",
       "      <th></th>\n",
       "      <th></th>\n",
       "      <th></th>\n",
       "      <th></th>\n",
       "      <th></th>\n",
       "    </tr>\n",
       "  </thead>\n",
       "  <tbody>\n",
       "    <tr>\n",
       "      <th>101</th>\n",
       "      <td>209136.4219</td>\n",
       "      <td>101001</td>\n",
       "      <td>1</td>\n",
       "      <td>Einfamilienhausgebiet</td>\n",
       "      <td>POLYGON ((6.89133 51.15247, 6.89116 51.15306, ...</td>\n",
       "    </tr>\n",
       "    <tr>\n",
       "      <th>101</th>\n",
       "      <td>235757.3594</td>\n",
       "      <td>101002</td>\n",
       "      <td>3</td>\n",
       "      <td>Gemischte Bautypologie vor 1970</td>\n",
       "      <td>POLYGON ((6.90024 51.15157, 6.90020 51.15158, ...</td>\n",
       "    </tr>\n",
       "    <tr>\n",
       "      <th>101</th>\n",
       "      <td>161858.3281</td>\n",
       "      <td>101003</td>\n",
       "      <td>3</td>\n",
       "      <td>Gemischte Bautypologie vor 1970</td>\n",
       "      <td>POLYGON ((6.89141 51.14165, 6.89150 51.14175, ...</td>\n",
       "    </tr>\n",
       "    <tr>\n",
       "      <th>101</th>\n",
       "      <td>507920.5313</td>\n",
       "      <td>101004</td>\n",
       "      <td>3</td>\n",
       "      <td>Gemischte Bautypologie vor 1970</td>\n",
       "      <td>POLYGON ((6.89008 51.15150, 6.88966 51.15131, ...</td>\n",
       "    </tr>\n",
       "    <tr>\n",
       "      <th>101</th>\n",
       "      <td>254522.9688</td>\n",
       "      <td>101005</td>\n",
       "      <td>3</td>\n",
       "      <td>Gemischte Bautypologie vor 1970</td>\n",
       "      <td>POLYGON ((6.89499 51.14917, 6.89133 51.15247, ...</td>\n",
       "    </tr>\n",
       "  </tbody>\n",
       "</table>\n",
       "</div>"
      ],
      "text/plain": [
       "                 Residential Area Size Residential Area ID  Area Type ID  \\\n",
       "Neighborhood ID                                                            \n",
       "101                        209136.4219              101001             1   \n",
       "101                        235757.3594              101002             3   \n",
       "101                        161858.3281              101003             3   \n",
       "101                        507920.5313              101004             3   \n",
       "101                        254522.9688              101005             3   \n",
       "\n",
       "                                       Area Type  \\\n",
       "Neighborhood ID                                    \n",
       "101                        Einfamilienhausgebiet   \n",
       "101              Gemischte Bautypologie vor 1970   \n",
       "101              Gemischte Bautypologie vor 1970   \n",
       "101              Gemischte Bautypologie vor 1970   \n",
       "101              Gemischte Bautypologie vor 1970   \n",
       "\n",
       "                                                     Area Geometry  \n",
       "Neighborhood ID                                                     \n",
       "101              POLYGON ((6.89133 51.15247, 6.89116 51.15306, ...  \n",
       "101              POLYGON ((6.90024 51.15157, 6.90020 51.15158, ...  \n",
       "101              POLYGON ((6.89141 51.14165, 6.89150 51.14175, ...  \n",
       "101              POLYGON ((6.89008 51.15150, 6.88966 51.15131, ...  \n",
       "101              POLYGON ((6.89499 51.14917, 6.89133 51.15247, ...  "
      ]
     },
     "execution_count": 6,
     "metadata": {},
     "output_type": "execute_result"
    }
   ],
   "source": [
    "residentials = (residentials_orig.drop(['Stand', 'STADTBEZIR', 'NAME', 'QUARTIER'], axis=1)\n",
    "                                   .rename(columns={'STADTTEIL': 'Neighborhood ID',\n",
    "                                                    'FLAECHE': 'Residential Area Size',\n",
    "                                                    'QUARTIERID': 'Residential Area ID',\n",
    "                                                    'wq_typ': 'Area Type ID',\n",
    "                                                    'wq_typ_txt': 'Area Type',\n",
    "                                                    'geometry': 'Area Geometry'\n",
    "                                                   })\n",
    "                                   .set_index('Neighborhood ID')\n",
    "                                   .rename(index=lambda x: f'{int(x):03d}')\n",
    "                )\n",
    "\n",
    "print(residentials.shape)\n",
    "residentials.head()"
   ]
  },
  {
   "cell_type": "markdown",
   "metadata": {
    "Collapsed": "false"
   },
   "source": [
    "## Import total population"
   ]
  },
  {
   "cell_type": "code",
   "execution_count": 7,
   "metadata": {
    "Collapsed": "false"
   },
   "outputs": [
    {
     "name": "stdout",
     "output_type": "stream",
     "text": [
      "(50, 1)\n"
     ]
    },
    {
     "data": {
      "text/html": [
       "<div>\n",
       "<style scoped>\n",
       "    .dataframe tbody tr th:only-of-type {\n",
       "        vertical-align: middle;\n",
       "    }\n",
       "\n",
       "    .dataframe tbody tr th {\n",
       "        vertical-align: top;\n",
       "    }\n",
       "\n",
       "    .dataframe thead th {\n",
       "        text-align: right;\n",
       "    }\n",
       "</style>\n",
       "<table border=\"1\" class=\"dataframe\">\n",
       "  <thead>\n",
       "    <tr style=\"text-align: right;\">\n",
       "      <th></th>\n",
       "      <th>Population</th>\n",
       "    </tr>\n",
       "    <tr>\n",
       "      <th>Neighborhood ID</th>\n",
       "      <th></th>\n",
       "    </tr>\n",
       "  </thead>\n",
       "  <tbody>\n",
       "    <tr>\n",
       "      <th>011</th>\n",
       "      <td>2358</td>\n",
       "    </tr>\n",
       "    <tr>\n",
       "      <th>012</th>\n",
       "      <td>2279</td>\n",
       "    </tr>\n",
       "    <tr>\n",
       "      <th>013</th>\n",
       "      <td>14840</td>\n",
       "    </tr>\n",
       "    <tr>\n",
       "      <th>014</th>\n",
       "      <td>32626</td>\n",
       "    </tr>\n",
       "    <tr>\n",
       "      <th>015</th>\n",
       "      <td>20651</td>\n",
       "    </tr>\n",
       "  </tbody>\n",
       "</table>\n",
       "</div>"
      ],
      "text/plain": [
       "                 Population\n",
       "Neighborhood ID            \n",
       "011                    2358\n",
       "012                    2279\n",
       "013                   14840\n",
       "014                   32626\n",
       "015                   20651"
      ]
     },
     "execution_count": 7,
     "metadata": {},
     "output_type": "execute_result"
    }
   ],
   "source": [
    "names = ['Neighborhood ID', 'Neighborhood'] + [str(x) for x in range(2012, 2019)]\n",
    "population_import = pd.read_csv('dus_population.csv', sep=';', header=0, names=names)\n",
    "population = pd.DataFrame({'Neighborhood ID': population_import[\"Neighborhood ID\"].map(lambda x: f'{x:03d}'),\n",
    "                           'Population': population_import['2017']}\n",
    "                         ).set_index('Neighborhood ID')\n",
    "print(population.shape)\n",
    "population.head()"
   ]
  },
  {
   "cell_type": "markdown",
   "metadata": {
    "Collapsed": "false"
   },
   "source": [
    "### Analyse Data"
   ]
  },
  {
   "cell_type": "markdown",
   "metadata": {
    "Collapsed": "false"
   },
   "source": [
    "#### Relation between Residential Areas and Neighborhoods"
   ]
  },
  {
   "cell_type": "code",
   "execution_count": 8,
   "metadata": {
    "Collapsed": "false"
   },
   "outputs": [
    {
     "data": {
      "text/html": [
       "<div>\n",
       "<style scoped>\n",
       "    .dataframe tbody tr th:only-of-type {\n",
       "        vertical-align: middle;\n",
       "    }\n",
       "\n",
       "    .dataframe tbody tr th {\n",
       "        vertical-align: top;\n",
       "    }\n",
       "\n",
       "    .dataframe thead th {\n",
       "        text-align: right;\n",
       "    }\n",
       "</style>\n",
       "<table border=\"1\" class=\"dataframe\">\n",
       "  <thead>\n",
       "    <tr style=\"text-align: right;\">\n",
       "      <th></th>\n",
       "      <th>Neighborhood ID</th>\n",
       "      <th>Residential Area ID</th>\n",
       "    </tr>\n",
       "  </thead>\n",
       "  <tbody>\n",
       "    <tr>\n",
       "      <th>0</th>\n",
       "      <td>101</td>\n",
       "      <td>101001</td>\n",
       "    </tr>\n",
       "    <tr>\n",
       "      <th>1</th>\n",
       "      <td>101</td>\n",
       "      <td>101002</td>\n",
       "    </tr>\n",
       "    <tr>\n",
       "      <th>2</th>\n",
       "      <td>101</td>\n",
       "      <td>101003</td>\n",
       "    </tr>\n",
       "    <tr>\n",
       "      <th>3</th>\n",
       "      <td>101</td>\n",
       "      <td>101004</td>\n",
       "    </tr>\n",
       "    <tr>\n",
       "      <th>4</th>\n",
       "      <td>101</td>\n",
       "      <td>101005</td>\n",
       "    </tr>\n",
       "  </tbody>\n",
       "</table>\n",
       "</div>"
      ],
      "text/plain": [
       "  Neighborhood ID Residential Area ID\n",
       "0             101              101001\n",
       "1             101              101002\n",
       "2             101              101003\n",
       "3             101              101004\n",
       "4             101              101005"
      ]
     },
     "execution_count": 8,
     "metadata": {},
     "output_type": "execute_result"
    }
   ],
   "source": [
    "residentials.reset_index(drop=False)[['Neighborhood ID', 'Residential Area ID']].head()"
   ]
  },
  {
   "cell_type": "markdown",
   "metadata": {
    "Collapsed": "false"
   },
   "source": [
    "**Finding:** A residential area can be located across multiple neighborhoods."
   ]
  },
  {
   "cell_type": "markdown",
   "metadata": {
    "Collapsed": "false"
   },
   "source": [
    "#### Area Types"
   ]
  },
  {
   "cell_type": "markdown",
   "metadata": {
    "Collapsed": "false",
    "toc-hr-collapsed": false
   },
   "source": [
    "## Extract data for movements in and out of the residential areas"
   ]
  },
  {
   "cell_type": "code",
   "execution_count": 9,
   "metadata": {
    "Collapsed": "false"
   },
   "outputs": [
    {
     "name": "stdout",
     "output_type": "stream",
     "text": [
      "(373, 9)\n"
     ]
    },
    {
     "data": {
      "text/html": [
       "<div>\n",
       "<style scoped>\n",
       "    .dataframe tbody tr th:only-of-type {\n",
       "        vertical-align: middle;\n",
       "    }\n",
       "\n",
       "    .dataframe tbody tr th {\n",
       "        vertical-align: top;\n",
       "    }\n",
       "\n",
       "    .dataframe thead th {\n",
       "        text-align: right;\n",
       "    }\n",
       "</style>\n",
       "<table border=\"1\" class=\"dataframe\">\n",
       "  <thead>\n",
       "    <tr style=\"text-align: right;\">\n",
       "      <th></th>\n",
       "      <th>Zuzüge unter 6 Jahren</th>\n",
       "      <th>Zuzüge 6 bis unter 10 Jahren</th>\n",
       "      <th>Zuzüge 10 bis unter 18 Jahren</th>\n",
       "      <th>Zuzüge 18 bis unter 25 Jahren</th>\n",
       "      <th>Zuzüge 25 bis unter 30 Jahren</th>\n",
       "      <th>Zuzüge 30 bis unter 50 Jahren</th>\n",
       "      <th>Zuzüge 50 bis unter 65 Jahren</th>\n",
       "      <th>Zuzüge 65 und mehr Jahren</th>\n",
       "      <th>Total</th>\n",
       "    </tr>\n",
       "    <tr>\n",
       "      <th>Residential Area ID</th>\n",
       "      <th></th>\n",
       "      <th></th>\n",
       "      <th></th>\n",
       "      <th></th>\n",
       "      <th></th>\n",
       "      <th></th>\n",
       "      <th></th>\n",
       "      <th></th>\n",
       "      <th></th>\n",
       "    </tr>\n",
       "  </thead>\n",
       "  <tbody>\n",
       "    <tr>\n",
       "      <th>11001</th>\n",
       "      <td>27</td>\n",
       "      <td>11</td>\n",
       "      <td>21</td>\n",
       "      <td>111</td>\n",
       "      <td>123</td>\n",
       "      <td>206</td>\n",
       "      <td>73</td>\n",
       "      <td>72</td>\n",
       "      <td>644</td>\n",
       "    </tr>\n",
       "    <tr>\n",
       "      <th>11002</th>\n",
       "      <td>0</td>\n",
       "      <td>0</td>\n",
       "      <td>0</td>\n",
       "      <td>0</td>\n",
       "      <td>0</td>\n",
       "      <td>0</td>\n",
       "      <td>0</td>\n",
       "      <td>0</td>\n",
       "      <td>0</td>\n",
       "    </tr>\n",
       "    <tr>\n",
       "      <th>12001</th>\n",
       "      <td>25</td>\n",
       "      <td>12</td>\n",
       "      <td>8</td>\n",
       "      <td>80</td>\n",
       "      <td>75</td>\n",
       "      <td>136</td>\n",
       "      <td>28</td>\n",
       "      <td>8</td>\n",
       "      <td>372</td>\n",
       "    </tr>\n",
       "    <tr>\n",
       "      <th>12002</th>\n",
       "      <td>0</td>\n",
       "      <td>0</td>\n",
       "      <td>0</td>\n",
       "      <td>0</td>\n",
       "      <td>0</td>\n",
       "      <td>0</td>\n",
       "      <td>0</td>\n",
       "      <td>0</td>\n",
       "      <td>0</td>\n",
       "    </tr>\n",
       "    <tr>\n",
       "      <th>13001</th>\n",
       "      <td>0</td>\n",
       "      <td>0</td>\n",
       "      <td>0</td>\n",
       "      <td>0</td>\n",
       "      <td>0</td>\n",
       "      <td>0</td>\n",
       "      <td>0</td>\n",
       "      <td>0</td>\n",
       "      <td>0</td>\n",
       "    </tr>\n",
       "  </tbody>\n",
       "</table>\n",
       "</div>"
      ],
      "text/plain": [
       "                     Zuzüge unter 6 Jahren  Zuzüge 6 bis unter 10 Jahren  \\\n",
       "Residential Area ID                                                        \n",
       "11001                                   27                            11   \n",
       "11002                                    0                             0   \n",
       "12001                                   25                            12   \n",
       "12002                                    0                             0   \n",
       "13001                                    0                             0   \n",
       "\n",
       "                     Zuzüge 10 bis unter 18 Jahren  \\\n",
       "Residential Area ID                                  \n",
       "11001                                           21   \n",
       "11002                                            0   \n",
       "12001                                            8   \n",
       "12002                                            0   \n",
       "13001                                            0   \n",
       "\n",
       "                     Zuzüge 18 bis unter 25 Jahren  \\\n",
       "Residential Area ID                                  \n",
       "11001                                          111   \n",
       "11002                                            0   \n",
       "12001                                           80   \n",
       "12002                                            0   \n",
       "13001                                            0   \n",
       "\n",
       "                     Zuzüge 25 bis unter 30 Jahren  \\\n",
       "Residential Area ID                                  \n",
       "11001                                          123   \n",
       "11002                                            0   \n",
       "12001                                           75   \n",
       "12002                                            0   \n",
       "13001                                            0   \n",
       "\n",
       "                     Zuzüge 30 bis unter 50 Jahren  \\\n",
       "Residential Area ID                                  \n",
       "11001                                          206   \n",
       "11002                                            0   \n",
       "12001                                          136   \n",
       "12002                                            0   \n",
       "13001                                            0   \n",
       "\n",
       "                     Zuzüge 50 bis unter 65 Jahren  Zuzüge 65 und mehr Jahren  \\\n",
       "Residential Area ID                                                             \n",
       "11001                                           73                         72   \n",
       "11002                                            0                          0   \n",
       "12001                                           28                          8   \n",
       "12002                                            0                          0   \n",
       "13001                                            0                          0   \n",
       "\n",
       "                     Total  \n",
       "Residential Area ID         \n",
       "11001                  644  \n",
       "11002                    0  \n",
       "12001                  372  \n",
       "12002                    0  \n",
       "13001                    0  "
      ]
     },
     "execution_count": 9,
     "metadata": {},
     "output_type": "execute_result"
    }
   ],
   "source": [
    "with open('dus_move_in.json', 'r') as f:\n",
    "    json_decode = json.load(f)\n",
    "    \n",
    "move_in_orig = json_normalize(json_decode['result']['records'])\n",
    "move_in = (move_in_orig.rename(columns={'Wohnquartier': 'Residential Area ID'})\n",
    "                       .set_index('Residential Area ID')\n",
    "                       .fillna(value='0')\n",
    "                       .astype('int64')\n",
    "                       .assign(Total=lambda x: x.sum(axis=1))\n",
    "          )\n",
    "\n",
    "print(move_in.shape)\n",
    "move_in.head()"
   ]
  },
  {
   "cell_type": "code",
   "execution_count": 10,
   "metadata": {
    "Collapsed": "false"
   },
   "outputs": [
    {
     "name": "stdout",
     "output_type": "stream",
     "text": [
      "(373, 9)\n"
     ]
    },
    {
     "data": {
      "text/html": [
       "<div>\n",
       "<style scoped>\n",
       "    .dataframe tbody tr th:only-of-type {\n",
       "        vertical-align: middle;\n",
       "    }\n",
       "\n",
       "    .dataframe tbody tr th {\n",
       "        vertical-align: top;\n",
       "    }\n",
       "\n",
       "    .dataframe thead th {\n",
       "        text-align: right;\n",
       "    }\n",
       "</style>\n",
       "<table border=\"1\" class=\"dataframe\">\n",
       "  <thead>\n",
       "    <tr style=\"text-align: right;\">\n",
       "      <th></th>\n",
       "      <th>Fortzüge unter 6 Jahren</th>\n",
       "      <th>Fortzüge 6 bis unter 10 Jahren</th>\n",
       "      <th>Fortzüge 10 bis unter 18 Jahren</th>\n",
       "      <th>Fortzüge 18 bis unter 25 Jahren</th>\n",
       "      <th>Fortzüge 25 bis unter 30 Jahren</th>\n",
       "      <th>Fortzüge 30 bis unter 50 Jahren</th>\n",
       "      <th>Fortzüge 50 bis unter 65 Jahren</th>\n",
       "      <th>Fortzüge 65 Jahre und älter</th>\n",
       "      <th>Total</th>\n",
       "    </tr>\n",
       "    <tr>\n",
       "      <th>Residential Area ID</th>\n",
       "      <th></th>\n",
       "      <th></th>\n",
       "      <th></th>\n",
       "      <th></th>\n",
       "      <th></th>\n",
       "      <th></th>\n",
       "      <th></th>\n",
       "      <th></th>\n",
       "      <th></th>\n",
       "    </tr>\n",
       "  </thead>\n",
       "  <tbody>\n",
       "    <tr>\n",
       "      <th>11001</th>\n",
       "      <td>24</td>\n",
       "      <td>12</td>\n",
       "      <td>16</td>\n",
       "      <td>66</td>\n",
       "      <td>104</td>\n",
       "      <td>215</td>\n",
       "      <td>36</td>\n",
       "      <td>28</td>\n",
       "      <td>501</td>\n",
       "    </tr>\n",
       "    <tr>\n",
       "      <th>11002</th>\n",
       "      <td>0</td>\n",
       "      <td>0</td>\n",
       "      <td>0</td>\n",
       "      <td>0</td>\n",
       "      <td>0</td>\n",
       "      <td>0</td>\n",
       "      <td>0</td>\n",
       "      <td>0</td>\n",
       "      <td>0</td>\n",
       "    </tr>\n",
       "    <tr>\n",
       "      <th>12001</th>\n",
       "      <td>66</td>\n",
       "      <td>32</td>\n",
       "      <td>56</td>\n",
       "      <td>117</td>\n",
       "      <td>96</td>\n",
       "      <td>235</td>\n",
       "      <td>45</td>\n",
       "      <td>34</td>\n",
       "      <td>681</td>\n",
       "    </tr>\n",
       "    <tr>\n",
       "      <th>12002</th>\n",
       "      <td>0</td>\n",
       "      <td>0</td>\n",
       "      <td>0</td>\n",
       "      <td>0</td>\n",
       "      <td>0</td>\n",
       "      <td>0</td>\n",
       "      <td>0</td>\n",
       "      <td>0</td>\n",
       "      <td>0</td>\n",
       "    </tr>\n",
       "    <tr>\n",
       "      <th>13001</th>\n",
       "      <td>0</td>\n",
       "      <td>0</td>\n",
       "      <td>0</td>\n",
       "      <td>0</td>\n",
       "      <td>0</td>\n",
       "      <td>0</td>\n",
       "      <td>0</td>\n",
       "      <td>0</td>\n",
       "      <td>0</td>\n",
       "    </tr>\n",
       "  </tbody>\n",
       "</table>\n",
       "</div>"
      ],
      "text/plain": [
       "                     Fortzüge unter 6 Jahren  Fortzüge 6 bis unter 10 Jahren  \\\n",
       "Residential Area ID                                                            \n",
       "11001                                     24                              12   \n",
       "11002                                      0                               0   \n",
       "12001                                     66                              32   \n",
       "12002                                      0                               0   \n",
       "13001                                      0                               0   \n",
       "\n",
       "                     Fortzüge 10 bis unter 18 Jahren  \\\n",
       "Residential Area ID                                    \n",
       "11001                                             16   \n",
       "11002                                              0   \n",
       "12001                                             56   \n",
       "12002                                              0   \n",
       "13001                                              0   \n",
       "\n",
       "                     Fortzüge 18 bis unter 25 Jahren  \\\n",
       "Residential Area ID                                    \n",
       "11001                                             66   \n",
       "11002                                              0   \n",
       "12001                                            117   \n",
       "12002                                              0   \n",
       "13001                                              0   \n",
       "\n",
       "                     Fortzüge 25 bis unter 30 Jahren  \\\n",
       "Residential Area ID                                    \n",
       "11001                                            104   \n",
       "11002                                              0   \n",
       "12001                                             96   \n",
       "12002                                              0   \n",
       "13001                                              0   \n",
       "\n",
       "                     Fortzüge 30 bis unter 50 Jahren  \\\n",
       "Residential Area ID                                    \n",
       "11001                                            215   \n",
       "11002                                              0   \n",
       "12001                                            235   \n",
       "12002                                              0   \n",
       "13001                                              0   \n",
       "\n",
       "                     Fortzüge 50 bis unter 65 Jahren  \\\n",
       "Residential Area ID                                    \n",
       "11001                                             36   \n",
       "11002                                              0   \n",
       "12001                                             45   \n",
       "12002                                              0   \n",
       "13001                                              0   \n",
       "\n",
       "                     Fortzüge 65 Jahre und älter  Total  \n",
       "Residential Area ID                                      \n",
       "11001                                         28    501  \n",
       "11002                                          0      0  \n",
       "12001                                         34    681  \n",
       "12002                                          0      0  \n",
       "13001                                          0      0  "
      ]
     },
     "execution_count": 10,
     "metadata": {},
     "output_type": "execute_result"
    }
   ],
   "source": [
    "with open('dus_move_out.json', 'r') as f:\n",
    "    json_decode = json.load(f)\n",
    "    \n",
    "move_out_orig = json_normalize(json_decode['result']['records'])\n",
    "move_out = (move_out_orig.rename(columns={'Wohnquartier': 'Residential Area ID'})\n",
    "                         .set_index('Residential Area ID')\n",
    "                         .fillna(value='0')\n",
    "                         .astype('int64')\n",
    "                         .assign(Total=lambda x: x.sum(axis=1))\n",
    "          )\n",
    "\n",
    "print(move_out.shape)\n",
    "move_out.head()"
   ]
  },
  {
   "cell_type": "code",
   "execution_count": 11,
   "metadata": {
    "Collapsed": "false"
   },
   "outputs": [
    {
     "name": "stdout",
     "output_type": "stream",
     "text": [
      "(373, 3)\n"
     ]
    },
    {
     "data": {
      "text/html": [
       "<div>\n",
       "<style scoped>\n",
       "    .dataframe tbody tr th:only-of-type {\n",
       "        vertical-align: middle;\n",
       "    }\n",
       "\n",
       "    .dataframe tbody tr th {\n",
       "        vertical-align: top;\n",
       "    }\n",
       "\n",
       "    .dataframe thead th {\n",
       "        text-align: right;\n",
       "    }\n",
       "</style>\n",
       "<table border=\"1\" class=\"dataframe\">\n",
       "  <thead>\n",
       "    <tr style=\"text-align: right;\">\n",
       "      <th></th>\n",
       "      <th>Moving In</th>\n",
       "      <th>Moving Out</th>\n",
       "      <th>Movings</th>\n",
       "    </tr>\n",
       "    <tr>\n",
       "      <th>Residential Area ID</th>\n",
       "      <th></th>\n",
       "      <th></th>\n",
       "      <th></th>\n",
       "    </tr>\n",
       "  </thead>\n",
       "  <tbody>\n",
       "    <tr>\n",
       "      <th>11001</th>\n",
       "      <td>644</td>\n",
       "      <td>501</td>\n",
       "      <td>143</td>\n",
       "    </tr>\n",
       "    <tr>\n",
       "      <th>11002</th>\n",
       "      <td>0</td>\n",
       "      <td>0</td>\n",
       "      <td>0</td>\n",
       "    </tr>\n",
       "    <tr>\n",
       "      <th>12001</th>\n",
       "      <td>372</td>\n",
       "      <td>681</td>\n",
       "      <td>-309</td>\n",
       "    </tr>\n",
       "    <tr>\n",
       "      <th>12002</th>\n",
       "      <td>0</td>\n",
       "      <td>0</td>\n",
       "      <td>0</td>\n",
       "    </tr>\n",
       "    <tr>\n",
       "      <th>13001</th>\n",
       "      <td>0</td>\n",
       "      <td>0</td>\n",
       "      <td>0</td>\n",
       "    </tr>\n",
       "  </tbody>\n",
       "</table>\n",
       "</div>"
      ],
      "text/plain": [
       "                     Moving In  Moving Out  Movings\n",
       "Residential Area ID                                \n",
       "11001                      644         501      143\n",
       "11002                        0           0        0\n",
       "12001                      372         681     -309\n",
       "12002                        0           0        0\n",
       "13001                        0           0        0"
      ]
     },
     "execution_count": 11,
     "metadata": {},
     "output_type": "execute_result"
    }
   ],
   "source": [
    "moves = (move_in[['Total']].join(move_out[['Total']], lsuffix='_In', rsuffix='_Out')\n",
    "                           .assign(Total_Net=lambda x: x['Total_In'] - x['Total_Out'])\n",
    "                           .rename(columns={'Total_In': 'Moving In',\n",
    "                                            'Total_Out': 'Moving Out',\n",
    "                                            'Total_Net': 'Movings'\n",
    "                                           })\n",
    "        )\n",
    "\n",
    "print(moves.shape)\n",
    "moves.head()"
   ]
  },
  {
   "cell_type": "markdown",
   "metadata": {
    "Collapsed": "false"
   },
   "source": [
    "## Merge data"
   ]
  },
  {
   "cell_type": "code",
   "execution_count": 12,
   "metadata": {
    "Collapsed": "false"
   },
   "outputs": [
    {
     "data": {
      "text/html": [
       "<div>\n",
       "<style scoped>\n",
       "    .dataframe tbody tr th:only-of-type {\n",
       "        vertical-align: middle;\n",
       "    }\n",
       "\n",
       "    .dataframe tbody tr th {\n",
       "        vertical-align: top;\n",
       "    }\n",
       "\n",
       "    .dataframe thead th {\n",
       "        text-align: right;\n",
       "    }\n",
       "</style>\n",
       "<table border=\"1\" class=\"dataframe\">\n",
       "  <thead>\n",
       "    <tr style=\"text-align: right;\">\n",
       "      <th></th>\n",
       "      <th>Neighborhood ID</th>\n",
       "      <th>Neighborhood</th>\n",
       "      <th>Neighborhood Geometry</th>\n",
       "      <th>Residential Area Size</th>\n",
       "      <th>Residential Area ID</th>\n",
       "      <th>Area Type ID</th>\n",
       "      <th>Area Type</th>\n",
       "      <th>Area Geometry</th>\n",
       "      <th>Moving In</th>\n",
       "      <th>Moving Out</th>\n",
       "      <th>Movings</th>\n",
       "    </tr>\n",
       "  </thead>\n",
       "  <tbody>\n",
       "    <tr>\n",
       "      <th>0</th>\n",
       "      <td>011</td>\n",
       "      <td>Altstadt</td>\n",
       "      <td>POLYGON ((6.77727 51.23037, 6.77726 51.23047, ...</td>\n",
       "      <td>325257.3281</td>\n",
       "      <td>11001</td>\n",
       "      <td>7</td>\n",
       "      <td>Geschosswohnungsbaugebiete (versch. Baualter)</td>\n",
       "      <td>POLYGON ((6.77035 51.22534, 6.77044 51.22533, ...</td>\n",
       "      <td>644</td>\n",
       "      <td>501</td>\n",
       "      <td>143</td>\n",
       "    </tr>\n",
       "    <tr>\n",
       "      <th>1</th>\n",
       "      <td>011</td>\n",
       "      <td>Altstadt</td>\n",
       "      <td>POLYGON ((6.77727 51.23037, 6.77726 51.23047, ...</td>\n",
       "      <td>120219.9531</td>\n",
       "      <td>11002</td>\n",
       "      <td>9</td>\n",
       "      <td>Freiraum</td>\n",
       "      <td>POLYGON ((6.77153 51.23150, 6.77136 51.23150, ...</td>\n",
       "      <td>0</td>\n",
       "      <td>0</td>\n",
       "      <td>0</td>\n",
       "    </tr>\n",
       "    <tr>\n",
       "      <th>2</th>\n",
       "      <td>012</td>\n",
       "      <td>Carlstadt</td>\n",
       "      <td>POLYGON ((6.77569 51.22498, 6.77563 51.22501, ...</td>\n",
       "      <td>311189.7188</td>\n",
       "      <td>12001</td>\n",
       "      <td>7</td>\n",
       "      <td>Geschosswohnungsbaugebiete (versch. Baualter)</td>\n",
       "      <td>POLYGON ((6.76768 51.21919, 6.76769 51.21919, ...</td>\n",
       "      <td>372</td>\n",
       "      <td>681</td>\n",
       "      <td>-309</td>\n",
       "    </tr>\n",
       "    <tr>\n",
       "      <th>3</th>\n",
       "      <td>012</td>\n",
       "      <td>Carlstadt</td>\n",
       "      <td>POLYGON ((6.77569 51.22498, 6.77563 51.22501, ...</td>\n",
       "      <td>143192.4844</td>\n",
       "      <td>12002</td>\n",
       "      <td>9</td>\n",
       "      <td>Freiraum</td>\n",
       "      <td>POLYGON ((6.77035 51.22534, 6.77032 51.22535, ...</td>\n",
       "      <td>0</td>\n",
       "      <td>0</td>\n",
       "      <td>0</td>\n",
       "    </tr>\n",
       "    <tr>\n",
       "      <th>4</th>\n",
       "      <td>013</td>\n",
       "      <td>Stadtmitte</td>\n",
       "      <td>POLYGON ((6.79958 51.22495, 6.79956 51.22496, ...</td>\n",
       "      <td>516954.9844</td>\n",
       "      <td>13001</td>\n",
       "      <td>8</td>\n",
       "      <td>Gewerbe/Einzelhandel</td>\n",
       "      <td>POLYGON ((6.78124 51.22863, 6.78091 51.23018, ...</td>\n",
       "      <td>0</td>\n",
       "      <td>0</td>\n",
       "      <td>0</td>\n",
       "    </tr>\n",
       "  </tbody>\n",
       "</table>\n",
       "</div>"
      ],
      "text/plain": [
       "  Neighborhood ID Neighborhood  \\\n",
       "0             011     Altstadt   \n",
       "1             011     Altstadt   \n",
       "2             012    Carlstadt   \n",
       "3             012    Carlstadt   \n",
       "4             013   Stadtmitte   \n",
       "\n",
       "                               Neighborhood Geometry  Residential Area Size  \\\n",
       "0  POLYGON ((6.77727 51.23037, 6.77726 51.23047, ...            325257.3281   \n",
       "1  POLYGON ((6.77727 51.23037, 6.77726 51.23047, ...            120219.9531   \n",
       "2  POLYGON ((6.77569 51.22498, 6.77563 51.22501, ...            311189.7188   \n",
       "3  POLYGON ((6.77569 51.22498, 6.77563 51.22501, ...            143192.4844   \n",
       "4  POLYGON ((6.79958 51.22495, 6.79956 51.22496, ...            516954.9844   \n",
       "\n",
       "  Residential Area ID  Area Type ID  \\\n",
       "0               11001             7   \n",
       "1               11002             9   \n",
       "2               12001             7   \n",
       "3               12002             9   \n",
       "4               13001             8   \n",
       "\n",
       "                                       Area Type  \\\n",
       "0  Geschosswohnungsbaugebiete (versch. Baualter)   \n",
       "1                                       Freiraum   \n",
       "2  Geschosswohnungsbaugebiete (versch. Baualter)   \n",
       "3                                       Freiraum   \n",
       "4                           Gewerbe/Einzelhandel   \n",
       "\n",
       "                                       Area Geometry  Moving In  Moving Out  \\\n",
       "0  POLYGON ((6.77035 51.22534, 6.77044 51.22533, ...        644         501   \n",
       "1  POLYGON ((6.77153 51.23150, 6.77136 51.23150, ...          0           0   \n",
       "2  POLYGON ((6.76768 51.21919, 6.76769 51.21919, ...        372         681   \n",
       "3  POLYGON ((6.77035 51.22534, 6.77032 51.22535, ...          0           0   \n",
       "4  POLYGON ((6.78124 51.22863, 6.78091 51.23018, ...          0           0   \n",
       "\n",
       "   Movings  \n",
       "0      143  \n",
       "1        0  \n",
       "2     -309  \n",
       "3        0  \n",
       "4        0  "
      ]
     },
     "execution_count": 12,
     "metadata": {},
     "output_type": "execute_result"
    }
   ],
   "source": [
    "dus_data_full = (neighborhoods.join(residentials)\n",
    "                              .reset_index(drop=False)\n",
    "                              .merge(moves, how='inner', left_on='Residential Area ID', right_on='Residential Area ID')\n",
    "                )\n",
    "\n",
    "dus_data_full.head()"
   ]
  },
  {
   "cell_type": "code",
   "execution_count": 13,
   "metadata": {
    "Collapsed": "false"
   },
   "outputs": [
    {
     "name": "stdout",
     "output_type": "stream",
     "text": [
      "<class 'pandas.core.frame.DataFrame'>\n",
      "(50, 7)\n"
     ]
    },
    {
     "data": {
      "text/html": [
       "<div>\n",
       "<style scoped>\n",
       "    .dataframe tbody tr th:only-of-type {\n",
       "        vertical-align: middle;\n",
       "    }\n",
       "\n",
       "    .dataframe tbody tr th {\n",
       "        vertical-align: top;\n",
       "    }\n",
       "\n",
       "    .dataframe thead th {\n",
       "        text-align: right;\n",
       "    }\n",
       "</style>\n",
       "<table border=\"1\" class=\"dataframe\">\n",
       "  <thead>\n",
       "    <tr style=\"text-align: right;\">\n",
       "      <th></th>\n",
       "      <th>Neighborhood ID</th>\n",
       "      <th>Neighborhood</th>\n",
       "      <th>Moving In</th>\n",
       "      <th>Moving Out</th>\n",
       "      <th>Movings</th>\n",
       "      <th>Population</th>\n",
       "      <th>Neighborhood Geometry</th>\n",
       "    </tr>\n",
       "  </thead>\n",
       "  <tbody>\n",
       "    <tr>\n",
       "      <th>0</th>\n",
       "      <td>011</td>\n",
       "      <td>Altstadt</td>\n",
       "      <td>644</td>\n",
       "      <td>501</td>\n",
       "      <td>143</td>\n",
       "      <td>2358</td>\n",
       "      <td>POLYGON ((6.77727 51.23037, 6.77726 51.23047, ...</td>\n",
       "    </tr>\n",
       "    <tr>\n",
       "      <th>1</th>\n",
       "      <td>012</td>\n",
       "      <td>Carlstadt</td>\n",
       "      <td>372</td>\n",
       "      <td>681</td>\n",
       "      <td>-309</td>\n",
       "      <td>2279</td>\n",
       "      <td>POLYGON ((6.77569 51.22498, 6.77563 51.22501, ...</td>\n",
       "    </tr>\n",
       "    <tr>\n",
       "      <th>2</th>\n",
       "      <td>013</td>\n",
       "      <td>Stadtmitte</td>\n",
       "      <td>3720</td>\n",
       "      <td>3948</td>\n",
       "      <td>-228</td>\n",
       "      <td>14840</td>\n",
       "      <td>POLYGON ((6.79958 51.22495, 6.79956 51.22496, ...</td>\n",
       "    </tr>\n",
       "    <tr>\n",
       "      <th>3</th>\n",
       "      <td>014</td>\n",
       "      <td>Pempelfort</td>\n",
       "      <td>5940</td>\n",
       "      <td>5385</td>\n",
       "      <td>555</td>\n",
       "      <td>32626</td>\n",
       "      <td>POLYGON ((6.79800 51.23008, 6.79800 51.23009, ...</td>\n",
       "    </tr>\n",
       "    <tr>\n",
       "      <th>4</th>\n",
       "      <td>015</td>\n",
       "      <td>Derendorf</td>\n",
       "      <td>3094</td>\n",
       "      <td>2891</td>\n",
       "      <td>203</td>\n",
       "      <td>20651</td>\n",
       "      <td>POLYGON ((6.79620 51.24362, 6.79618 51.24368, ...</td>\n",
       "    </tr>\n",
       "  </tbody>\n",
       "</table>\n",
       "</div>"
      ],
      "text/plain": [
       "  Neighborhood ID Neighborhood  Moving In  Moving Out  Movings  Population  \\\n",
       "0             011     Altstadt        644         501      143        2358   \n",
       "1             012    Carlstadt        372         681     -309        2279   \n",
       "2             013   Stadtmitte       3720        3948     -228       14840   \n",
       "3             014   Pempelfort       5940        5385      555       32626   \n",
       "4             015    Derendorf       3094        2891      203       20651   \n",
       "\n",
       "                               Neighborhood Geometry  \n",
       "0  POLYGON ((6.77727 51.23037, 6.77726 51.23047, ...  \n",
       "1  POLYGON ((6.77569 51.22498, 6.77563 51.22501, ...  \n",
       "2  POLYGON ((6.79958 51.22495, 6.79956 51.22496, ...  \n",
       "3  POLYGON ((6.79800 51.23008, 6.79800 51.23009, ...  \n",
       "4  POLYGON ((6.79620 51.24362, 6.79618 51.24368, ...  "
      ]
     },
     "execution_count": 13,
     "metadata": {},
     "output_type": "execute_result"
    }
   ],
   "source": [
    "dus_data = (dus_data_full.pivot_table(index=['Neighborhood ID', 'Neighborhood'], values=['Moving In', 'Moving Out', 'Movings'], aggfunc=np.sum)\n",
    "                         .reset_index(drop=False)\n",
    "                         .merge(population, how='inner', on='Neighborhood ID')\n",
    "                         .merge(neighborhoods['Neighborhood Geometry'], how='inner', on='Neighborhood ID')\n",
    "           )\n",
    "\n",
    "print(type(dus_data))\n",
    "print(dus_data.shape)\n",
    "dus_data.head()"
   ]
  },
  {
   "cell_type": "markdown",
   "metadata": {
    "Collapsed": "false"
   },
   "source": [
    "Create GeoDataFrame for neighborhood data"
   ]
  },
  {
   "cell_type": "code",
   "execution_count": 14,
   "metadata": {
    "Collapsed": "false"
   },
   "outputs": [
    {
     "name": "stdout",
     "output_type": "stream",
     "text": [
      "<class 'geopandas.geodataframe.GeoDataFrame'>\n",
      "(50, 9)\n"
     ]
    },
    {
     "data": {
      "text/html": [
       "<div>\n",
       "<style scoped>\n",
       "    .dataframe tbody tr th:only-of-type {\n",
       "        vertical-align: middle;\n",
       "    }\n",
       "\n",
       "    .dataframe tbody tr th {\n",
       "        vertical-align: top;\n",
       "    }\n",
       "\n",
       "    .dataframe thead th {\n",
       "        text-align: right;\n",
       "    }\n",
       "</style>\n",
       "<table border=\"1\" class=\"dataframe\">\n",
       "  <thead>\n",
       "    <tr style=\"text-align: right;\">\n",
       "      <th></th>\n",
       "      <th>Neighborhood ID</th>\n",
       "      <th>Neighborhood</th>\n",
       "      <th>Moving In</th>\n",
       "      <th>Moving Out</th>\n",
       "      <th>Movings</th>\n",
       "      <th>Population</th>\n",
       "      <th>Neighborhood Geometry</th>\n",
       "      <th>Latitude</th>\n",
       "      <th>Longitude</th>\n",
       "    </tr>\n",
       "  </thead>\n",
       "  <tbody>\n",
       "    <tr>\n",
       "      <th>0</th>\n",
       "      <td>011</td>\n",
       "      <td>Altstadt</td>\n",
       "      <td>644</td>\n",
       "      <td>501</td>\n",
       "      <td>143</td>\n",
       "      <td>2358</td>\n",
       "      <td>POLYGON ((6.77727 51.23037, 6.77726 51.23047, ...</td>\n",
       "      <td>51.228143</td>\n",
       "      <td>6.772752</td>\n",
       "    </tr>\n",
       "    <tr>\n",
       "      <th>1</th>\n",
       "      <td>012</td>\n",
       "      <td>Carlstadt</td>\n",
       "      <td>372</td>\n",
       "      <td>681</td>\n",
       "      <td>-309</td>\n",
       "      <td>2279</td>\n",
       "      <td>POLYGON ((6.77569 51.22498, 6.77563 51.22501, ...</td>\n",
       "      <td>51.221887</td>\n",
       "      <td>6.770316</td>\n",
       "    </tr>\n",
       "    <tr>\n",
       "      <th>2</th>\n",
       "      <td>013</td>\n",
       "      <td>Stadtmitte</td>\n",
       "      <td>3720</td>\n",
       "      <td>3948</td>\n",
       "      <td>-228</td>\n",
       "      <td>14840</td>\n",
       "      <td>POLYGON ((6.79958 51.22495, 6.79956 51.22496, ...</td>\n",
       "      <td>51.223960</td>\n",
       "      <td>6.787155</td>\n",
       "    </tr>\n",
       "    <tr>\n",
       "      <th>3</th>\n",
       "      <td>014</td>\n",
       "      <td>Pempelfort</td>\n",
       "      <td>5940</td>\n",
       "      <td>5385</td>\n",
       "      <td>555</td>\n",
       "      <td>32626</td>\n",
       "      <td>POLYGON ((6.79800 51.23008, 6.79800 51.23009, ...</td>\n",
       "      <td>51.235780</td>\n",
       "      <td>6.784435</td>\n",
       "    </tr>\n",
       "    <tr>\n",
       "      <th>4</th>\n",
       "      <td>015</td>\n",
       "      <td>Derendorf</td>\n",
       "      <td>3094</td>\n",
       "      <td>2891</td>\n",
       "      <td>203</td>\n",
       "      <td>20651</td>\n",
       "      <td>POLYGON ((6.79620 51.24362, 6.79618 51.24368, ...</td>\n",
       "      <td>51.253922</td>\n",
       "      <td>6.781928</td>\n",
       "    </tr>\n",
       "  </tbody>\n",
       "</table>\n",
       "</div>"
      ],
      "text/plain": [
       "  Neighborhood ID Neighborhood  Moving In  Moving Out  Movings  Population  \\\n",
       "0             011     Altstadt        644         501      143        2358   \n",
       "1             012    Carlstadt        372         681     -309        2279   \n",
       "2             013   Stadtmitte       3720        3948     -228       14840   \n",
       "3             014   Pempelfort       5940        5385      555       32626   \n",
       "4             015    Derendorf       3094        2891      203       20651   \n",
       "\n",
       "                               Neighborhood Geometry   Latitude  Longitude  \n",
       "0  POLYGON ((6.77727 51.23037, 6.77726 51.23047, ...  51.228143   6.772752  \n",
       "1  POLYGON ((6.77569 51.22498, 6.77563 51.22501, ...  51.221887   6.770316  \n",
       "2  POLYGON ((6.79958 51.22495, 6.79956 51.22496, ...  51.223960   6.787155  \n",
       "3  POLYGON ((6.79800 51.23008, 6.79800 51.23009, ...  51.235780   6.784435  \n",
       "4  POLYGON ((6.79620 51.24362, 6.79618 51.24368, ...  51.253922   6.781928  "
      ]
     },
     "execution_count": 14,
     "metadata": {},
     "output_type": "execute_result"
    }
   ],
   "source": [
    "dus_data_geo = (gpd.GeoDataFrame(dus_data, geometry='Neighborhood Geometry')\n",
    "                   .assign(Latitude=lambda x: x['Neighborhood Geometry'].map(lambda x: x.centroid.y))\n",
    "                   .assign(Longitude=lambda x: x['Neighborhood Geometry'].map(lambda x: x.centroid.x))\n",
    "               )\n",
    "\n",
    "print(type(dus_data_geo))\n",
    "print(dus_data_geo.shape)\n",
    "dus_data_geo.head()"
   ]
  },
  {
   "cell_type": "markdown",
   "metadata": {
    "Collapsed": "false"
   },
   "source": [
    "## Visual Data Analysis"
   ]
  },
  {
   "cell_type": "markdown",
   "metadata": {
    "Collapsed": "false"
   },
   "source": [
    "### Graphs"
   ]
  },
  {
   "cell_type": "code",
   "execution_count": 15,
   "metadata": {
    "Collapsed": "false"
   },
   "outputs": [
    {
     "data": {
      "image/png": "[encoded data removed]",
      "text/plain": [
       "<Figure size 864x504 with 1 Axes>"
      ]
     },
     "metadata": {
      "needs_background": "light"
     },
     "output_type": "display_data"
    }
   ],
   "source": [
    "top = 10\n",
    "top_bottom = np.r_[0:top, -top:0]\n",
    "\n",
    "dus_top_bottom = dus_data.sort_values(by='Movings', ascending=True).iloc[top_bottom]\n",
    "pos_neg = (dus_top_bottom['Movings'] > 0).map({True: 'g', False: 'r'})\n",
    "\n",
    "fig = plt.figure(figsize=(12,7))\n",
    "ax0 = fig.add_subplot(111)\n",
    "dus_top_bottom.plot(kind='bar',\n",
    "                    x='Neighborhood',\n",
    "                    y='Movings',\n",
    "                    legend=False,\n",
    "                    color=pos_neg,\n",
    "                    ax=ax0\n",
    "                   );"
   ]
  },
  {
   "cell_type": "code",
   "execution_count": 16,
   "metadata": {
    "Collapsed": "false"
   },
   "outputs": [
    {
     "data": {
      "image/png": "[encoded data removed]",
      "text/plain": [
       "<Figure size 864x504 with 1 Axes>"
      ]
     },
     "metadata": {
      "needs_background": "light"
     },
     "output_type": "display_data"
    }
   ],
   "source": [
    "top = 10\n",
    "top_bottom = np.r_[0:top, -top:0]\n",
    "\n",
    "dus_top_bottom = (dus_data.assign(MovingsPerc=lambda x: x['Movings']/x['Population']*100)\n",
    "                          .sort_values(by='MovingsPerc', ascending=True)\n",
    "                          .iloc[top_bottom])\n",
    "pos_neg = (dus_top_bottom['MovingsPerc'] > 0).map({True: 'g', False: 'r'})\n",
    "\n",
    "fig = plt.figure(figsize=(12,7))\n",
    "ax0 = fig.add_subplot(111)\n",
    "dus_top_bottom.plot(kind='bar',\n",
    "                    x='Neighborhood',\n",
    "                    y='MovingsPerc',\n",
    "                    legend=False,\n",
    "                    color=pos_neg,\n",
    "                    ax=ax0\n",
    "                   );"
   ]
  },
  {
   "cell_type": "markdown",
   "metadata": {
    "Collapsed": "false"
   },
   "source": [
    "## Venues"
   ]
  },
  {
   "cell_type": "markdown",
   "metadata": {
    "Collapsed": "false"
   },
   "source": [
    "### Build category hierarchy"
   ]
  },
  {
   "cell_type": "markdown",
   "metadata": {
    "Collapsed": "false"
   },
   "source": [
    "#### Pull categories from foursquare API as JSON and extract categories"
   ]
  },
  {
   "cell_type": "code",
   "execution_count": 17,
   "metadata": {
    "Collapsed": "false"
   },
   "outputs": [],
   "source": [
    "url = 'https://api.foursquare.com/v2/venues/categories'\n",
    "params = dict(client_id=os.getenv('FS_CLIENT_ID'),\n",
    "              client_secret=os.getenv('FS_CLIENT_SECRET'),\n",
    "              v='20190106'\n",
    "             )\n",
    "\n",
    "results = requests.get(url=url, params=params).json()['response']['categories']"
   ]
  },
  {
   "cell_type": "code",
   "execution_count": 18,
   "metadata": {
    "Collapsed": "false"
   },
   "outputs": [],
   "source": [
    "def extract_rows(category, new_data, next_level, level):\n",
    "    \n",
    "    if len(category['categories']) > 0:\n",
    "        new_data.extend([{f'{level}_ID': category['id'],\n",
    "                          f'{level}': category['shortName'],\n",
    "                          f'{level}_SUB_ID': sub_cat['id']} for sub_cat in category['categories']\n",
    "                        ])\n",
    "        next_level.extend(category['categories'])\n",
    "    else:\n",
    "        new_data.append({f'{level}_ID': category['id'],\n",
    "                         f'{level}': category['shortName'],\n",
    "                         f'{level}_SUB_ID': np.nan\n",
    "                        })\n",
    "    \n",
    "    return (new_data, next_level)"
   ]
  },
  {
   "cell_type": "code",
   "execution_count": 19,
   "metadata": {
    "Collapsed": "false"
   },
   "outputs": [],
   "source": [
    "def expand_df(df, df_new_data, level):\n",
    "    \n",
    "    if level == 1:\n",
    "        df = df_new_data\n",
    "    else:\n",
    "        df = df.merge(df_new_data,\n",
    "                      how='left',\n",
    "                      left_on=df.columns[-1],\n",
    "                      right_on=df_new_data.columns[0]\n",
    "                     )\n",
    "    \n",
    "    return df"
   ]
  },
  {
   "cell_type": "code",
   "execution_count": 20,
   "metadata": {
    "Collapsed": "false"
   },
   "outputs": [],
   "source": [
    "def extract_categories(data, level, df=pd.DataFrame()):\n",
    "    \n",
    "    new_data = []\n",
    "    next_level = []\n",
    "    for category in data:\n",
    "        new_data, next_level = extract_rows(category, new_data, next_level, level)\n",
    "    \n",
    "    df_new_data = pd.DataFrame([row for row in new_data])\n",
    "    df = expand_df(df, df_new_data, level)\n",
    "    \n",
    "    if len(next_level) > 0:\n",
    "        df = extract_categories(next_level, (level+1), df)\n",
    "    \n",
    "    columns_to_drop = df.columns[df.columns.str.contains('SUB_ID')]\n",
    "    df = df.drop(columns_to_drop, axis=1)\n",
    "    \n",
    "    return df\n"
   ]
  },
  {
   "cell_type": "code",
   "execution_count": 21,
   "metadata": {
    "Collapsed": "false"
   },
   "outputs": [
    {
     "name": "stdout",
     "output_type": "stream",
     "text": [
      "(865, 10)\n"
     ]
    },
    {
     "data": {
      "text/html": [
       "<div>\n",
       "<style scoped>\n",
       "    .dataframe tbody tr th:only-of-type {\n",
       "        vertical-align: middle;\n",
       "    }\n",
       "\n",
       "    .dataframe tbody tr th {\n",
       "        vertical-align: top;\n",
       "    }\n",
       "\n",
       "    .dataframe thead th {\n",
       "        text-align: right;\n",
       "    }\n",
       "</style>\n",
       "<table border=\"1\" class=\"dataframe\">\n",
       "  <thead>\n",
       "    <tr style=\"text-align: right;\">\n",
       "      <th></th>\n",
       "      <th>1_ID</th>\n",
       "      <th>1</th>\n",
       "      <th>2_ID</th>\n",
       "      <th>2</th>\n",
       "      <th>3_ID</th>\n",
       "      <th>3</th>\n",
       "      <th>4_ID</th>\n",
       "      <th>4</th>\n",
       "      <th>5_ID</th>\n",
       "      <th>5</th>\n",
       "    </tr>\n",
       "  </thead>\n",
       "  <tbody>\n",
       "    <tr>\n",
       "      <th>0</th>\n",
       "      <td>4d4b7104d754a06370d81259</td>\n",
       "      <td>Arts &amp; Entertainment</td>\n",
       "      <td>56aa371be4b08b9a8d5734db</td>\n",
       "      <td>Amphitheater</td>\n",
       "      <td>NaN</td>\n",
       "      <td>NaN</td>\n",
       "      <td>NaN</td>\n",
       "      <td>NaN</td>\n",
       "      <td>NaN</td>\n",
       "      <td>NaN</td>\n",
       "    </tr>\n",
       "    <tr>\n",
       "      <th>1</th>\n",
       "      <td>4d4b7104d754a06370d81259</td>\n",
       "      <td>Arts &amp; Entertainment</td>\n",
       "      <td>4fceea171983d5d06c3e9823</td>\n",
       "      <td>Aquarium</td>\n",
       "      <td>NaN</td>\n",
       "      <td>NaN</td>\n",
       "      <td>NaN</td>\n",
       "      <td>NaN</td>\n",
       "      <td>NaN</td>\n",
       "      <td>NaN</td>\n",
       "    </tr>\n",
       "    <tr>\n",
       "      <th>2</th>\n",
       "      <td>4d4b7104d754a06370d81259</td>\n",
       "      <td>Arts &amp; Entertainment</td>\n",
       "      <td>4bf58dd8d48988d1e1931735</td>\n",
       "      <td>Arcade</td>\n",
       "      <td>NaN</td>\n",
       "      <td>NaN</td>\n",
       "      <td>NaN</td>\n",
       "      <td>NaN</td>\n",
       "      <td>NaN</td>\n",
       "      <td>NaN</td>\n",
       "    </tr>\n",
       "    <tr>\n",
       "      <th>3</th>\n",
       "      <td>4d4b7104d754a06370d81259</td>\n",
       "      <td>Arts &amp; Entertainment</td>\n",
       "      <td>4bf58dd8d48988d1e2931735</td>\n",
       "      <td>Art Gallery</td>\n",
       "      <td>NaN</td>\n",
       "      <td>NaN</td>\n",
       "      <td>NaN</td>\n",
       "      <td>NaN</td>\n",
       "      <td>NaN</td>\n",
       "      <td>NaN</td>\n",
       "    </tr>\n",
       "    <tr>\n",
       "      <th>4</th>\n",
       "      <td>4d4b7104d754a06370d81259</td>\n",
       "      <td>Arts &amp; Entertainment</td>\n",
       "      <td>4bf58dd8d48988d1e4931735</td>\n",
       "      <td>Bowling Alley</td>\n",
       "      <td>NaN</td>\n",
       "      <td>NaN</td>\n",
       "      <td>NaN</td>\n",
       "      <td>NaN</td>\n",
       "      <td>NaN</td>\n",
       "      <td>NaN</td>\n",
       "    </tr>\n",
       "  </tbody>\n",
       "</table>\n",
       "</div>"
      ],
      "text/plain": [
       "                       1_ID                     1                      2_ID  \\\n",
       "0  4d4b7104d754a06370d81259  Arts & Entertainment  56aa371be4b08b9a8d5734db   \n",
       "1  4d4b7104d754a06370d81259  Arts & Entertainment  4fceea171983d5d06c3e9823   \n",
       "2  4d4b7104d754a06370d81259  Arts & Entertainment  4bf58dd8d48988d1e1931735   \n",
       "3  4d4b7104d754a06370d81259  Arts & Entertainment  4bf58dd8d48988d1e2931735   \n",
       "4  4d4b7104d754a06370d81259  Arts & Entertainment  4bf58dd8d48988d1e4931735   \n",
       "\n",
       "               2 3_ID    3 4_ID    4 5_ID    5  \n",
       "0   Amphitheater  NaN  NaN  NaN  NaN  NaN  NaN  \n",
       "1       Aquarium  NaN  NaN  NaN  NaN  NaN  NaN  \n",
       "2         Arcade  NaN  NaN  NaN  NaN  NaN  NaN  \n",
       "3    Art Gallery  NaN  NaN  NaN  NaN  NaN  NaN  \n",
       "4  Bowling Alley  NaN  NaN  NaN  NaN  NaN  NaN  "
      ]
     },
     "execution_count": 21,
     "metadata": {},
     "output_type": "execute_result"
    }
   ],
   "source": [
    "start_level = 1\n",
    "\n",
    "foursquare_cat = extract_categories(results, start_level)\n",
    "\n",
    "print(foursquare_cat.shape)\n",
    "foursquare_cat.head()"
   ]
  },
  {
   "cell_type": "code",
   "execution_count": 22,
   "metadata": {
    "Collapsed": "false"
   },
   "outputs": [
    {
     "name": "stdout",
     "output_type": "stream",
     "text": [
      "Number of categories per category level:\n",
      "Level 1: 10\n",
      "Level 2: 450\n",
      "Level 3: 360\n",
      "Level 4: 92\n",
      "Level 5: 14\n"
     ]
    }
   ],
   "source": [
    "columns = foursquare_cat.columns[~foursquare_cat.columns.str.contains('_ID')]\n",
    "print('Number of categories per category level:')\n",
    "print('\\n'.join([f'Level {x}: {len(foursquare_cat[x].unique())}' for x in columns]))"
   ]
  },
  {
   "cell_type": "markdown",
   "metadata": {
    "Collapsed": "false"
   },
   "source": [
    "Not all level 2 categories also have a level 3 category. Therefore assign all categories to level 2, as all venues can be categorized on this level."
   ]
  },
  {
   "cell_type": "markdown",
   "metadata": {
    "Collapsed": "false"
   },
   "source": [
    "#### Create dictionary to look up Category LVL of a Category ID"
   ]
  },
  {
   "cell_type": "code",
   "execution_count": 23,
   "metadata": {
    "Collapsed": "false"
   },
   "outputs": [],
   "source": [
    "def create_lvl_dict(df):\n",
    "    \n",
    "    levels_dict = {}\n",
    "    \n",
    "    lvl = len(df.columns) // 2\n",
    "    levels = [str(i) for i in range(1, (lvl+1))]\n",
    "    for level in levels:\n",
    "        column = f'{level}_ID'\n",
    "        cat_id = list(df[column][df[column].notnull()].unique())\n",
    "        lvl_list = [level] * len(cat_id)\n",
    "        levels_dict.update(dict(zip(cat_id, lvl_list)))\n",
    "    \n",
    "    return levels_dict\n",
    "        "
   ]
  },
  {
   "cell_type": "code",
   "execution_count": 24,
   "metadata": {
    "Collapsed": "false"
   },
   "outputs": [],
   "source": [
    "cat_lvl = create_lvl_dict(foursquare_cat)"
   ]
  },
  {
   "cell_type": "markdown",
   "metadata": {
    "Collapsed": "false"
   },
   "source": [
    "### Create list of venues per neighborhood"
   ]
  },
  {
   "cell_type": "markdown",
   "metadata": {
    "Collapsed": "false"
   },
   "source": [
    "#### Get list of venus via Foursquare API"
   ]
  },
  {
   "cell_type": "code",
   "execution_count": null,
   "metadata": {
    "Collapsed": "false"
   },
   "outputs": [],
   "source": [
    "# Build one DataFrame with top venues per neighborhood\n",
    "def getNearbyVenues(neighborhoods, latitudes, longitudes, radius=500):\n",
    "    \n",
    "    venues_list = []\n",
    "    # Iterate through list of neighborhoods\n",
    "    for neighborhood, lat, lng in zip(neighborhoods, latitudes, longitudes):\n",
    "        # create the API request URL\n",
    "        url = 'https://api.foursquare.com/v2/venues/explore'\n",
    "        params = dict(client_id=os.getenv('FS_CLIENT_ID'),\n",
    "                      client_secret=os.getenv('FS_CLIENT_SECRET'),\n",
    "                      v='20190106',\n",
    "                      ll=f'{lat},{lng}',\n",
    "                      radius=radius,\n",
    "                      limit=100\n",
    "                     )\n",
    "\n",
    "        # make the GET request\n",
    "        results = requests.get(url=url, params=params).json()\n",
    "        try:\n",
    "            results = results['response']['groups'][0]['items']\n",
    "\n",
    "        except:\n",
    "            print('Something went wrong with the query. Here are some information:')\n",
    "            print(f'Neighborhood: {neighborhood}, lat,lng: {lat},{lng}')\n",
    "            print(results)\n",
    "        # List of list with only relevant information per venue\n",
    "        # Multiple entries per venue, if multiple categories have been assigned\n",
    "        for v in results: \n",
    "            venues_list.append([(neighborhood,\n",
    "                                 lat,\n",
    "                                 lng,\n",
    "                                 v['venue']['name'],\n",
    "                                 v['venue']['location']['lat'],\n",
    "                                 v['venue']['location']['lng'],\n",
    "                                 n['id']) for n in v['venue']['categories']]\n",
    "                              )\n",
    "\n",
    "        # Create DataFrame\n",
    "        columns = ['Neighborhood ID', 'Neighborhood Latitude', 'Neighborhood Longitude',\n",
    "                   'Venue', 'Venue Latitude', 'Venue Longitude', 'Venue Category ID']\n",
    "        nearby_venues = pd.DataFrame([item for venue_list in venues_list for item in venue_list])\n",
    "        nearby_venues.columns = columns\n",
    "        nearby_venues.set_index('Neighborhood ID')\n",
    "    \n",
    "    return nearby_venues"
   ]
  },
  {
   "cell_type": "code",
   "execution_count": null,
   "metadata": {
    "Collapsed": "false"
   },
   "outputs": [],
   "source": [
    "# Create DataFrame with one row per venue returned matching the neighborhood it belongs to \n",
    "dus_venues = getNearbyVenues(neighborhoods=dus_data['Neighborhood ID'],\n",
    "                             latitudes = dus_data_geo['Latitude'],\n",
    "                             longitudes = dus_data_geo['Longitude'],\n",
    "                             radius=700\n",
    "                            )\n",
    "\n",
    "print(dus_venues.shape)\n",
    "dus_venues.head()"
   ]
  },
  {
   "cell_type": "markdown",
   "metadata": {
    "Collapsed": "false"
   },
   "source": [
    "Pickle results to continue working on the data at a later point in time."
   ]
  },
  {
   "cell_type": "code",
   "execution_count": null,
   "metadata": {
    "Collapsed": "false"
   },
   "outputs": [],
   "source": [
    "dus_venues.to_pickle('dus_venues.pkl', compression='gzip')"
   ]
  },
  {
   "cell_type": "code",
   "execution_count": 26,
   "metadata": {},
   "outputs": [],
   "source": [
    "dus_venues = pd.read_pickle('dus_venues.pkl', compression='gzip')"
   ]
  },
  {
   "cell_type": "markdown",
   "metadata": {
    "Collapsed": "false"
   },
   "source": [
    "### Combine Venue and Category information"
   ]
  },
  {
   "cell_type": "markdown",
   "metadata": {
    "Collapsed": "false"
   },
   "source": [
    "As defined earlier target is to map all venues to a category on the second level. Before this it is required to analyse the initial category level assignments."
   ]
  },
  {
   "cell_type": "code",
   "execution_count": 27,
   "metadata": {
    "Collapsed": "false"
   },
   "outputs": [
    {
     "data": {
      "text/plain": [
       "2    745\n",
       "3    305\n",
       "4     23\n",
       "1      1\n",
       "Name: Venue Category Lvl, dtype: int64"
      ]
     },
     "execution_count": 27,
     "metadata": {},
     "output_type": "execute_result"
    }
   ],
   "source": [
    "kwargs = {'Venue Category Lvl': dus_venues['Venue Category ID'].map(lambda x: cat_lvl[x])}\n",
    "\n",
    "dus_venues_analysis = (dus_venues.assign(**kwargs))\n",
    "dus_venues_analysis['Venue Category Lvl'].astype('int64').value_counts()"
   ]
  },
  {
   "cell_type": "markdown",
   "metadata": {
    "Collapsed": "false"
   },
   "source": [
    "One venue has been assigned to category level 1 and therefore needs to be assigned manually to a category at level 2."
   ]
  },
  {
   "cell_type": "code",
   "execution_count": 28,
   "metadata": {
    "Collapsed": "false"
   },
   "outputs": [
    {
     "data": {
      "text/html": [
       "<div>\n",
       "<style scoped>\n",
       "    .dataframe tbody tr th:only-of-type {\n",
       "        vertical-align: middle;\n",
       "    }\n",
       "\n",
       "    .dataframe tbody tr th {\n",
       "        vertical-align: top;\n",
       "    }\n",
       "\n",
       "    .dataframe thead th {\n",
       "        text-align: right;\n",
       "    }\n",
       "</style>\n",
       "<table border=\"1\" class=\"dataframe\">\n",
       "  <thead>\n",
       "    <tr style=\"text-align: right;\">\n",
       "      <th></th>\n",
       "      <th>Neighborhood ID</th>\n",
       "      <th>Neighborhood Latitude</th>\n",
       "      <th>Neighborhood Longitude</th>\n",
       "      <th>Venue</th>\n",
       "      <th>Venue Latitude</th>\n",
       "      <th>Venue Longitude</th>\n",
       "      <th>Venue Category ID</th>\n",
       "      <th>Venue Category Lvl</th>\n",
       "    </tr>\n",
       "  </thead>\n",
       "  <tbody>\n",
       "    <tr>\n",
       "      <th>579</th>\n",
       "      <td>031</td>\n",
       "      <td>51.214279</td>\n",
       "      <td>6.783253</td>\n",
       "      <td>Düssel</td>\n",
       "      <td>51.208952</td>\n",
       "      <td>6.785794</td>\n",
       "      <td>4d4b7105d754a06377d81259</td>\n",
       "      <td>1</td>\n",
       "    </tr>\n",
       "  </tbody>\n",
       "</table>\n",
       "</div>"
      ],
      "text/plain": [
       "    Neighborhood ID  Neighborhood Latitude  Neighborhood Longitude   Venue  \\\n",
       "579             031              51.214279                6.783253  Düssel   \n",
       "\n",
       "     Venue Latitude  Venue Longitude         Venue Category ID  \\\n",
       "579       51.208952         6.785794  4d4b7105d754a06377d81259   \n",
       "\n",
       "    Venue Category Lvl  \n",
       "579                  1  "
      ]
     },
     "execution_count": 28,
     "metadata": {},
     "output_type": "execute_result"
    }
   ],
   "source": [
    "dus_venues_analysis[dus_venues_analysis['Venue Category Lvl'] == '1']"
   ]
  },
  {
   "cell_type": "markdown",
   "metadata": {
    "Collapsed": "false"
   },
   "source": [
    "The 'Düssel' is a canal in the midst of the city and thus will be assigned to this category."
   ]
  },
  {
   "cell_type": "code",
   "execution_count": 29,
   "metadata": {
    "Collapsed": "false"
   },
   "outputs": [],
   "source": [
    "# Get category id for category 'Canal'\n",
    "canal_id = foursquare_cat['2_ID'][foursquare_cat['2'] == 'Canal'].values[0]\n",
    "\n",
    "# Assign this category_id to venue 'Düssel'\n",
    "# dus_venues.loc[dus_venues['Venue'] == 'Düssel', 'Venue Category ID'] = canal_id\n",
    "dus_venues.at[579, 'Venue Category ID'] = canal_id"
   ]
  },
  {
   "cell_type": "code",
   "execution_count": 30,
   "metadata": {
    "Collapsed": "false"
   },
   "outputs": [
    {
     "data": {
      "text/html": [
       "<div>\n",
       "<style scoped>\n",
       "    .dataframe tbody tr th:only-of-type {\n",
       "        vertical-align: middle;\n",
       "    }\n",
       "\n",
       "    .dataframe tbody tr th {\n",
       "        vertical-align: top;\n",
       "    }\n",
       "\n",
       "    .dataframe thead th {\n",
       "        text-align: right;\n",
       "    }\n",
       "</style>\n",
       "<table border=\"1\" class=\"dataframe\">\n",
       "  <thead>\n",
       "    <tr style=\"text-align: right;\">\n",
       "      <th></th>\n",
       "      <th>Neighborhood ID</th>\n",
       "      <th>Neighborhood Latitude</th>\n",
       "      <th>Neighborhood Longitude</th>\n",
       "      <th>Venue</th>\n",
       "      <th>Venue Latitude</th>\n",
       "      <th>Venue Longitude</th>\n",
       "      <th>Venue Category ID</th>\n",
       "    </tr>\n",
       "  </thead>\n",
       "  <tbody>\n",
       "    <tr>\n",
       "      <th>579</th>\n",
       "      <td>031</td>\n",
       "      <td>51.214279</td>\n",
       "      <td>6.783253</td>\n",
       "      <td>Düssel</td>\n",
       "      <td>51.208952</td>\n",
       "      <td>6.785794</td>\n",
       "      <td>56aa371be4b08b9a8d573562</td>\n",
       "    </tr>\n",
       "  </tbody>\n",
       "</table>\n",
       "</div>"
      ],
      "text/plain": [
       "    Neighborhood ID  Neighborhood Latitude  Neighborhood Longitude   Venue  \\\n",
       "579             031              51.214279                6.783253  Düssel   \n",
       "\n",
       "     Venue Latitude  Venue Longitude         Venue Category ID  \n",
       "579       51.208952         6.785794  56aa371be4b08b9a8d573562  "
      ]
     },
     "execution_count": 30,
     "metadata": {},
     "output_type": "execute_result"
    }
   ],
   "source": [
    "dus_venues[dus_venues['Venue'] == 'Düssel']"
   ]
  },
  {
   "cell_type": "code",
   "execution_count": 79,
   "metadata": {},
   "outputs": [],
   "source": [
    "def harmonize_cat_level(cat_ids, target_lvl, cat_lvl, foursquare_cat):\n",
    "    \n",
    "    categories = []\n",
    "    \n",
    "    for cat_id in cat_ids:\n",
    "        level = cat_lvl[cat_id]\n",
    "        if level != target_lvl:\n",
    "            cat_id = foursquare_cat.at[foursquare_cat.index[foursquare_cat[f'{level}_ID'] == cat_id][0],\n",
    "                                       f'{target_lvl}_ID']\n",
    "        \n",
    "        category = foursquare_cat.at[foursquare_cat.index[foursquare_cat[f'{target_lvl}_ID'] == cat_id][0],\n",
    "                                     target_lvl]\n",
    "        categories.append(category)\n",
    "    \n",
    "    return categories"
   ]
  },
  {
   "cell_type": "code",
   "execution_count": 81,
   "metadata": {},
   "outputs": [
    {
     "data": {
      "text/html": [
       "<div>\n",
       "<style scoped>\n",
       "    .dataframe tbody tr th:only-of-type {\n",
       "        vertical-align: middle;\n",
       "    }\n",
       "\n",
       "    .dataframe tbody tr th {\n",
       "        vertical-align: top;\n",
       "    }\n",
       "\n",
       "    .dataframe thead th {\n",
       "        text-align: right;\n",
       "    }\n",
       "</style>\n",
       "<table border=\"1\" class=\"dataframe\">\n",
       "  <thead>\n",
       "    <tr style=\"text-align: right;\">\n",
       "      <th></th>\n",
       "      <th>Neighborhood ID</th>\n",
       "      <th>Neighborhood Latitude</th>\n",
       "      <th>Neighborhood Longitude</th>\n",
       "      <th>Venue</th>\n",
       "      <th>Venue Latitude</th>\n",
       "      <th>Venue Longitude</th>\n",
       "      <th>Venue Category ID</th>\n",
       "      <th>Venue Category</th>\n",
       "    </tr>\n",
       "  </thead>\n",
       "  <tbody>\n",
       "    <tr>\n",
       "      <th>0</th>\n",
       "      <td>011</td>\n",
       "      <td>51.228143</td>\n",
       "      <td>6.772752</td>\n",
       "      <td>Elephant Bar</td>\n",
       "      <td>51.226851</td>\n",
       "      <td>6.772636</td>\n",
       "      <td>4bf58dd8d48988d11e941735</td>\n",
       "      <td>Bar</td>\n",
       "    </tr>\n",
       "    <tr>\n",
       "      <th>1</th>\n",
       "      <td>011</td>\n",
       "      <td>51.228143</td>\n",
       "      <td>6.772752</td>\n",
       "      <td>Bar Chérie</td>\n",
       "      <td>51.226886</td>\n",
       "      <td>6.772424</td>\n",
       "      <td>4bf58dd8d48988d116941735</td>\n",
       "      <td>Bar</td>\n",
       "    </tr>\n",
       "    <tr>\n",
       "      <th>2</th>\n",
       "      <td>011</td>\n",
       "      <td>51.228143</td>\n",
       "      <td>6.772752</td>\n",
       "      <td>Kreuzherreneck</td>\n",
       "      <td>51.228895</td>\n",
       "      <td>6.773122</td>\n",
       "      <td>4bf58dd8d48988d116941735</td>\n",
       "      <td>Bar</td>\n",
       "    </tr>\n",
       "    <tr>\n",
       "      <th>3</th>\n",
       "      <td>011</td>\n",
       "      <td>51.228143</td>\n",
       "      <td>6.772752</td>\n",
       "      <td>Brauerei Kürzer</td>\n",
       "      <td>51.226973</td>\n",
       "      <td>6.773423</td>\n",
       "      <td>50327c8591d4c4b30a586d5d</td>\n",
       "      <td>Brewery</td>\n",
       "    </tr>\n",
       "    <tr>\n",
       "      <th>4</th>\n",
       "      <td>011</td>\n",
       "      <td>51.228143</td>\n",
       "      <td>6.772752</td>\n",
       "      <td>Rheintreppen</td>\n",
       "      <td>51.227463</td>\n",
       "      <td>6.770819</td>\n",
       "      <td>4bf58dd8d48988d164941735</td>\n",
       "      <td>Plaza</td>\n",
       "    </tr>\n",
       "  </tbody>\n",
       "</table>\n",
       "</div>"
      ],
      "text/plain": [
       "  Neighborhood ID  Neighborhood Latitude  Neighborhood Longitude  \\\n",
       "0             011              51.228143                6.772752   \n",
       "1             011              51.228143                6.772752   \n",
       "2             011              51.228143                6.772752   \n",
       "3             011              51.228143                6.772752   \n",
       "4             011              51.228143                6.772752   \n",
       "\n",
       "             Venue  Venue Latitude  Venue Longitude         Venue Category ID  \\\n",
       "0     Elephant Bar       51.226851         6.772636  4bf58dd8d48988d11e941735   \n",
       "1       Bar Chérie       51.226886         6.772424  4bf58dd8d48988d116941735   \n",
       "2   Kreuzherreneck       51.228895         6.773122  4bf58dd8d48988d116941735   \n",
       "3  Brauerei Kürzer       51.226973         6.773423  50327c8591d4c4b30a586d5d   \n",
       "4     Rheintreppen       51.227463         6.770819  4bf58dd8d48988d164941735   \n",
       "\n",
       "  Venue Category  \n",
       "0            Bar  \n",
       "1            Bar  \n",
       "2            Bar  \n",
       "3        Brewery  \n",
       "4          Plaza  "
      ]
     },
     "execution_count": 81,
     "metadata": {},
     "output_type": "execute_result"
    }
   ],
   "source": [
    "target_lvl = '2'\n",
    "\n",
    "dus_venues['Venue Category'] = harmonize_cat_level(dus_venues['Venue Category ID'], target_lvl, cat_lvl, foursquare_cat)\n",
    "dus_venues.head()"
   ]
  },
  {
   "cell_type": "markdown",
   "metadata": {
    "Collapsed": "false"
   },
   "source": [
    "## Blabla "
   ]
  },
  {
   "cell_type": "code",
   "execution_count": null,
   "metadata": {
    "Collapsed": "false"
   },
   "outputs": [],
   "source": [
    "def return_top_nationalities(neighborhood, top, threshold=1):\n",
    "    top += 1\n",
    "    top_nationalities = (neighborhood.sort_values(ascending=False)\n",
    "                                     .head(top)[1:top] # Germany is in all neighborhoods top 1 nationality, therefore drop it\n",
    "                                     .index\n",
    "                        )\n",
    "    return top_nationalities"
   ]
  },
  {
   "cell_type": "code",
   "execution_count": null,
   "metadata": {
    "Collapsed": "false"
   },
   "outputs": [],
   "source": [
    "top = 10\n",
    "top_nationalities_dict = {}\n",
    "nationality_t = nationality.apply(lambda x: x / x.sum(), axis=1).transpose()\n",
    "\n",
    "for neighborhood in nationality_t:\n",
    "    top_nationalities_dict[neighborhood] = return_top_nationalities(nationality_t[neighborhood], top)\n",
    "\n",
    "columns = [str(x) for x in range(1, top + 1)]\n",
    "top_nationalities = pd.DataFrame(top_nationalities_dict).transpose()\n",
    "top_nationalities.columns = columns\n",
    "top_nationalities.head()"
   ]
  },
  {
   "cell_type": "code",
   "execution_count": null,
   "metadata": {
    "Collapsed": "false"
   },
   "outputs": [],
   "source": [
    "# Join neighborhoods and nationality data on 'Neighborhood ID' and calculate percentage of nationality per neighborhood\n",
    "dus_data = neighborhoods.merge(top_nationalities,\n",
    "                               how='inner',\n",
    "                               left_index=True,\n",
    "                               right_index=True\n",
    "                              )\n",
    "print(dus_data.shape)\n",
    "dus_data.head()"
   ]
  },
  {
   "cell_type": "markdown",
   "metadata": {
    "Collapsed": "false"
   },
   "source": [
    "#### Visualize data on a map"
   ]
  },
  {
   "cell_type": "code",
   "execution_count": null,
   "metadata": {
    "Collapsed": "false"
   },
   "outputs": [],
   "source": [
    "dus_centre = Nominatim(user_agent='dus')\n",
    "location = dus_centre.geocode(query='Unterbilk, Düsseldorf', country_codes='de')\n",
    "dus_latitude = location.latitude\n",
    "dus_longitude = location.longitude\n",
    "\n",
    "print(f'The coordinates of Duesseldorf are {dus_latitude}, {dus_longitude}.')"
   ]
  },
  {
   "cell_type": "code",
   "execution_count": null,
   "metadata": {
    "Collapsed": "false"
   },
   "outputs": [],
   "source": [
    "# create map centered on Duesseldorf\n",
    "map_dus = folium.Map(location=[dus_latitude, dus_longitude],\n",
    "                     zoom_start=11,\n",
    "                     min_zoom=10,\n",
    "                     max_zoom=19,\n",
    "                     zoom_control=False\n",
    "                    )\n",
    "\n",
    "# for code, lat, lng in zip(dus_data['Postal Code'], dus_data['Latitude'], dus_data['Longitude']):\n",
    "#     folium.Marker(location=[lat, lng],\n",
    "#                   icon=folium.DivIcon(html=f\"\"\"<div style=\"color: black;\">{code}</div>\"\"\")\n",
    "#                  ).add_to(map_dus)\n",
    "\n",
    "# generate choropleth map to show postal code areas\n",
    "folium.GeoJson(data=dus_data[['geometry', 'Neighborhood', '1', '2', '3']],\n",
    "               tooltip=folium.features.GeoJsonTooltip(['Neighborhood', '1', '2', '3'])\n",
    "              ).add_to(map_dus)\n",
    "\n",
    "map_dus"
   ]
  },
  {
   "cell_type": "code",
   "execution_count": null,
   "metadata": {
    "Collapsed": "false"
   },
   "outputs": [],
   "source": [
    "# Build one DataFrame with top venues per neighborhood\n",
    "def getNearbyVenues(postal_codes, names, latitudes, longitudes, radius=500):\n",
    "    \n",
    "    venues_list = []\n",
    "    # Iterate through list of neighborhoods\n",
    "    for postal_code, name, lat, lng in zip(postal_codes, names, latitudes, longitudes):\n",
    "        # create the API request URL\n",
    "        url = 'https://api.foursquare.com/v2/venues/explore'\n",
    "        params = dict(client_id=os.getenv('FS_CLIENT_ID'),\n",
    "                      client_secret=os.getenv('FS_CLIENT_SECRET'),\n",
    "                      v='20180323',\n",
    "                      ll=f'{lat},{lng}',\n",
    "                      radius=radius,\n",
    "                      limit=100\n",
    "                     )\n",
    "\n",
    "        # make the GET request\n",
    "        results = requests.get(url=url, params=params).json()\n",
    "        try:\n",
    "            results = results['response']['groups'][0]['items']\n",
    "\n",
    "        except:\n",
    "            print('Something went wrong with the query. Here are some information:')\n",
    "            print(f'Postal Code: {postal_code}, Section: {section}')\n",
    "            print(results)\n",
    "        # List of list with only relevant information per venue\n",
    "        # Multiple entries per venue, if multiple categories have been assigned\n",
    "        for v in results: \n",
    "            venues_list.append([(postal_code,\n",
    "                                 name,\n",
    "                                 lat,\n",
    "                                 lng,\n",
    "                                 v['venue']['name'],\n",
    "                                 v['venue']['location']['lat'],\n",
    "                                 v['venue']['location']['lng'],\n",
    "                                 n['name']) for n in v['venue']['categories']]\n",
    "                              )\n",
    "\n",
    "        # Create DataFrame\n",
    "        columns = ['Postal Code', 'Neighborhood', 'Neighborhood Latitude', 'Neighborhood Longitude',\n",
    "                   'Venue', 'Venue Latitude', 'Venue Longitude', 'Venue Category']\n",
    "        nearby_venues = pd.DataFrame([item for venue_list in venues_list for item in venue_list])\n",
    "        nearby_venues.columns = columns\n",
    "    \n",
    "    return(nearby_venues)"
   ]
  },
  {
   "cell_type": "code",
   "execution_count": null,
   "metadata": {
    "Collapsed": "false"
   },
   "outputs": [],
   "source": [
    "# Create DataFrame with one row per venue returned matching the neighborhood it belongs to \n",
    "dus_venues = getNearbyVenues(postal_codes=dus_data['Postal Code'],\n",
    "                             names=dus_data['Neighborhood'],\n",
    "                             latitudes=dus_data['Latitude'],\n",
    "                             longitudes=dus_data['Longitude']\n",
    "                            )"
   ]
  },
  {
   "cell_type": "code",
   "execution_count": null,
   "metadata": {
    "Collapsed": "false"
   },
   "outputs": [],
   "source": [
    "dus_venues.head()"
   ]
  },
  {
   "cell_type": "code",
   "execution_count": null,
   "metadata": {
    "Collapsed": "false"
   },
   "outputs": [],
   "source": [
    "dus_venues.to_pickle('dus_venues.pkl', compression=\"gzip\")"
   ]
  },
  {
   "cell_type": "code",
   "execution_count": null,
   "metadata": {
    "Collapsed": "false"
   },
   "outputs": [],
   "source": [
    "venue_counts = (dus_venues['Postal Code'].value_counts()\n",
    "                                        .to_frame()\n",
    "                                        .reset_index(drop=False)\n",
    "                                        .rename(columns={'index':'Postal Code', 'Postal Code':'Venues'})\n",
    "               )\n",
    "venue_counts"
   ]
  },
  {
   "cell_type": "markdown",
   "metadata": {
    "Collapsed": "false"
   },
   "source": [
    "For 35 of the 37 postal code areas, min. one venue has been returned."
   ]
  },
  {
   "cell_type": "code",
   "execution_count": null,
   "metadata": {
    "Collapsed": "false"
   },
   "outputs": [],
   "source": [
    "len(dus_venues['Postal Code'].value_counts())"
   ]
  },
  {
   "cell_type": "code",
   "execution_count": null,
   "metadata": {
    "Collapsed": "false"
   },
   "outputs": [],
   "source": [
    "color_scale = np.array(['#053061','#2166ac','#4393c3','#92c5de','#d1e5f0','#fddbc7','#f4a582','#d6604d','#b2182b','#67001f'])\n",
    "sns.palplot(sns.color_palette(color_scale))"
   ]
  },
  {
   "cell_type": "code",
   "execution_count": null,
   "metadata": {
    "Collapsed": "false"
   },
   "outputs": [],
   "source": [
    "# Create map centered on Duesseldorf\n",
    "map_dus = folium.Map(location=[dus_latitude, dus_longitude],\n",
    "                     zoom_start=11,\n",
    "                     min_zoom=10,\n",
    "                     max_zoom=19,\n",
    "                     zoom_control=False\n",
    "                    )\n",
    "\n",
    "# for code, lat, lng in zip(dus_data['Postal Code'], dus_data['Latitude'], dus_data['Longitude']):\n",
    "#     folium.Marker(location=[lat, lng],\n",
    "#                   icon=folium.DivIcon(html=f\"\"\"<div style=\"color: black;\">{code}</div>\"\"\")\n",
    "#                  ).add_to(map_dus)\n",
    "\n",
    "# Define bins for coloring\n",
    "threshold_scale = list(range(0,101,20))\n",
    "threshold_scale[-1] = threshold_scale[-1] + 0.1\n",
    "\n",
    "# Generate choropleth map to show postal code areas\n",
    "folium.Choropleth(\n",
    "    geo_data='dus_postal_code_geo.json',\n",
    "    key_on='feature.properties.plz',\n",
    "    data=venue_counts,\n",
    "    columns=['Postal Code', 'Venues'],\n",
    "    fill_color='BuGn',\n",
    "    threshold_scale=threshold_scale,\n",
    "    fill_opacity=0.7, \n",
    "    line_opacity=0.5,\n",
    "    legend_name='Venues per Postal Code'\n",
    ").add_to(map_dus)\n",
    "\n",
    "map_dus"
   ]
  },
  {
   "cell_type": "code",
   "execution_count": null,
   "metadata": {
    "Collapsed": "false"
   },
   "outputs": [],
   "source": [
    "dus_venues_one_hot = pd.get_dummies(dus_venues[['Postal Code', 'Venue Category']], columns=['Venue Category'])"
   ]
  },
  {
   "cell_type": "code",
   "execution_count": null,
   "metadata": {
    "Collapsed": "false"
   },
   "outputs": [],
   "source": [
    "dus_venues_mean = dus_venues_one_hot.groupby(by='Postal Code').agg('mean').reset_index(drop=False)"
   ]
  },
  {
   "cell_type": "code",
   "execution_count": null,
   "metadata": {
    "Collapsed": "false"
   },
   "outputs": [],
   "source": []
  }
 ],
 "metadata": {
  "kernelspec": {
   "display_name": "Python (ibm_capstone)",
   "language": "python",
   "name": "ibm_capstone"
  },
  "language_info": {
   "codemirror_mode": {
    "name": "ipython",
    "version": 3
   },
   "file_extension": ".py",
   "mimetype": "text/x-python",
   "name": "python",
   "nbconvert_exporter": "python",
   "pygments_lexer": "ipython3",
   "version": "3.7.6"
  },
  "toc-autonumbering": false,
  "toc-showtags": false
 },
 "nbformat": 4,
 "nbformat_minor": 4
}
