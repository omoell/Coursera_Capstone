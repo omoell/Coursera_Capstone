{
 "cells": [
  {
   "cell_type": "code",
   "execution_count": 1,
   "metadata": {
    "Collapsed": "false"
   },
   "outputs": [],
   "source": [
    "### Data import\n",
    "# Handling URL queries\n",
    "import json\n",
    "import requests\n",
    "# Import BeautifulSoup for scraping table from wiki-page\n",
    "from bs4 import BeautifulSoup\n",
    "# Read environment variables with foursquare API credentials\n",
    "import os\n",
    "\n",
    "\n",
    "### Data preparation\n",
    "# Pandas and numpy for analysing and preparing data\n",
    "import pandas as pd\n",
    "from pandas.io.json import json_normalize\n",
    "pd.set_option('display.max_columns', None) # display all columns of a df inline\n",
    "pd.set_option('display.max_rows', None) # display all rows of a df inline\n",
    "import numpy as np\n",
    "\n",
    "\n",
    "### Data Plotting\n",
    "# Seaborn and Matplotlib for plotting data\n",
    "import matplotlib.pyplot as plt\n",
    "import seaborn as sns\n",
    "# Matplotlib colors\n",
    "import matplotlib.cm as cm\n",
    "import matplotlib.colors as colors\n",
    "\n",
    "\n",
    "### Handling and visualization of Geo Data\n",
    "# Folium and geopy handle and display geospatial data\n",
    "import folium # display data on interactive map\n",
    "from geopy.geocoders import Nominatim # get langitude and longitude for an address\n",
    "# GeoPandas for handling GeoJSON\n",
    "import geopandas as gpd\n",
    "\n",
    "\n",
    "### Data Modeling and analysis\n",
    "# Statistical analysis\n",
    "import statsmodels as sm\n",
    "# To cluster neighborhoods\n",
    "from sklearn.cluster import KMeans\n"
   ]
  },
  {
   "cell_type": "markdown",
   "metadata": {
    "Collapsed": "false"
   },
   "source": [
    "Print tables always on the left side of the cell."
   ]
  },
  {
   "cell_type": "code",
   "execution_count": 2,
   "metadata": {
    "Collapsed": "false"
   },
   "outputs": [
    {
     "data": {
      "text/html": [
       "<style>\n",
       "table {display:block}\n",
       "</style>\n"
      ],
      "text/plain": [
       "<IPython.core.display.HTML object>"
      ]
     },
     "metadata": {},
     "output_type": "display_data"
    }
   ],
   "source": [
    "%%html\n",
    "<style>\n",
    "table {display:block}\n",
    "</style>"
   ]
  },
  {
   "cell_type": "markdown",
   "metadata": {
    "Collapsed": "false"
   },
   "source": [
    "Define general purpose functions"
   ]
  },
  {
   "cell_type": "code",
   "execution_count": 3,
   "metadata": {
    "Collapsed": "false"
   },
   "outputs": [],
   "source": [
    "def describe_data(df):\n",
    "    \n",
    "    #Remove geometry information as it disturbs .info and .describe overviews\n",
    "    col_dtypes = df.dtypes\n",
    "    columns_to_drop = col_dtypes[col_dtypes == 'geometry'].index.to_list()\n",
    "    df_dropped = df.drop(columns_to_drop, axis=1)\n",
    "    \n",
    "    print(f'Shape:')\n",
    "    print(df.shape)\n",
    "    print(f'\\nHead:')\n",
    "    display(df.head())\n",
    "    if len(columns_to_drop) > 0:\n",
    "        print(f'\\n!!! {len(columns_to_drop)} column(s) with geometry data have been removed and are not considered in \"Info\" and \"Description\": {columns_to_drop} !!!')\n",
    "    print(f'\\nInfo:')\n",
    "    display(df_dropped.info())\n",
    "    print(f'\\nDescription:')\n",
    "    display(df_dropped.describe(exclude='geometry'))\n"
   ]
  },
  {
   "cell_type": "markdown",
   "metadata": {
    "Collapsed": "false"
   },
   "source": [
    "# Business Understanding"
   ]
  },
  {
   "cell_type": "markdown",
   "metadata": {
    "Collapsed": "false"
   },
   "source": [
    "# Data Understanding and Preparation"
   ]
  },
  {
   "cell_type": "markdown",
   "metadata": {
    "Collapsed": "false"
   },
   "source": [
    "Data sources:\n",
    "\n",
    "https://public.opendatasoft.com provides data on the borders of the neighborhoods, as well as on the population.  \n",
    "https://de.foursquare.com provides data on venue recommendations around a defined geo location"
   ]
  },
  {
   "cell_type": "markdown",
   "metadata": {
    "Collapsed": "true"
   },
   "source": [
    "## Optional data sources"
   ]
  },
  {
   "cell_type": "code",
   "execution_count": null,
   "metadata": {
    "Collapsed": "false"
   },
   "outputs": [],
   "source": [
    "# Download GeoJSON for geo coordinates of residential areas in Duesseldorf\n",
    "!wget --quiet 'https://opendata.duesseldorf.de/sites/default/files/Wohnquartiere_Duesseldorf_WGS84_4326.geojson' -O dus_residential_areas.geojson\n",
    "\n",
    "# Download JSON with movements into the areas (2017)\n",
    "# Description of Data: https://opendata.duesseldorf.de/dataset/bevölkerungswanderung-den-wohnquartieren-düsseldorf\n",
    "!wget --quiet 'https://opendata.duesseldorf.de/api/action/datastore/search.json?resource_id=1564e254-213c-4b35-a1a9-b0e8a070ced0&limit=400' -O dus_move_in.json\n",
    "\n",
    "# Download JSON with movements out of the areas (2017)\n",
    "# Description of Data: https://opendata.duesseldorf.de/dataset/bevölkerungswanderung-den-wohnquartieren-düsseldorf\n",
    "!wget --quiet 'https://opendata.duesseldorf.de/api/action/datastore/search.json?resource_id=b7f96ca0-735d-4c9b-862c-99813429e0cd&limit=400' -O dus_move_out.json"
   ]
  },
  {
   "cell_type": "markdown",
   "metadata": {
    "Collapsed": "false"
   },
   "source": [
    "## Neighborhoods"
   ]
  },
  {
   "cell_type": "markdown",
   "metadata": {
    "Collapsed": "true"
   },
   "source": [
    "### Collect Initial Data"
   ]
  },
  {
   "cell_type": "code",
   "execution_count": null,
   "metadata": {
    "Collapsed": "false"
   },
   "outputs": [],
   "source": [
    "# Download GeoJSON for geo coordinates of neighborhoods in Duesseldorf\n",
    "# Description of the data: https://opendata.duesseldorf.de/dataset/zuordnung-der-stadtteile-zu-den-stadtbezirken-von-d%C3%BCsseldorf\n",
    "!wget --quiet 'https://opendata.duesseldorf.de/sites/default/files/Stadtteile_WGS84_4326.geojson' -O dus_neighborhoods.geojson"
   ]
  },
  {
   "cell_type": "markdown",
   "metadata": {
    "Collapsed": "false"
   },
   "source": [
    "### Describe, explore data and verify quality"
   ]
  },
  {
   "cell_type": "code",
   "execution_count": 13,
   "metadata": {
    "Collapsed": "false"
   },
   "outputs": [
    {
     "name": "stdout",
     "output_type": "stream",
     "text": [
      "Shape:\n",
      "(50, 6)\n",
      "\n",
      "Head:\n"
     ]
    },
    {
     "data": {
      "text/html": [
       "<div>\n",
       "<style scoped>\n",
       "    .dataframe tbody tr th:only-of-type {\n",
       "        vertical-align: middle;\n",
       "    }\n",
       "\n",
       "    .dataframe tbody tr th {\n",
       "        vertical-align: top;\n",
       "    }\n",
       "\n",
       "    .dataframe thead th {\n",
       "        text-align: right;\n",
       "    }\n",
       "</style>\n",
       "<table border=\"1\" class=\"dataframe\">\n",
       "  <thead>\n",
       "    <tr style=\"text-align: right;\">\n",
       "      <th></th>\n",
       "      <th>Quelle</th>\n",
       "      <th>Stand</th>\n",
       "      <th>Stadtbezirk</th>\n",
       "      <th>Stadtteil</th>\n",
       "      <th>Name</th>\n",
       "      <th>geometry</th>\n",
       "    </tr>\n",
       "  </thead>\n",
       "  <tbody>\n",
       "    <tr>\n",
       "      <th>0</th>\n",
       "      <td>Amt 12/2</td>\n",
       "      <td>31.12.2017</td>\n",
       "      <td>5</td>\n",
       "      <td>54</td>\n",
       "      <td>Wittlaer</td>\n",
       "      <td>POLYGON ((6.76623 51.31355, 6.76618 51.31359, ...</td>\n",
       "    </tr>\n",
       "    <tr>\n",
       "      <th>1</th>\n",
       "      <td>Amt 12/2</td>\n",
       "      <td>31.12.2017</td>\n",
       "      <td>5</td>\n",
       "      <td>55</td>\n",
       "      <td>Angermund</td>\n",
       "      <td>POLYGON ((6.80952 51.34292, 6.80948 51.34302, ...</td>\n",
       "    </tr>\n",
       "    <tr>\n",
       "      <th>2</th>\n",
       "      <td>Amt 12/2</td>\n",
       "      <td>31.12.2017</td>\n",
       "      <td>4</td>\n",
       "      <td>43</td>\n",
       "      <td>Lörick</td>\n",
       "      <td>POLYGON ((6.74610 51.25203, 6.74602 51.25205, ...</td>\n",
       "    </tr>\n",
       "    <tr>\n",
       "      <th>3</th>\n",
       "      <td>Amt 12/2</td>\n",
       "      <td>31.12.2017</td>\n",
       "      <td>4</td>\n",
       "      <td>42</td>\n",
       "      <td>Heerdt</td>\n",
       "      <td>POLYGON ((6.73560 51.23767, 6.73522 51.23780, ...</td>\n",
       "    </tr>\n",
       "    <tr>\n",
       "      <th>4</th>\n",
       "      <td>Amt 12/2</td>\n",
       "      <td>31.12.2017</td>\n",
       "      <td>4</td>\n",
       "      <td>41</td>\n",
       "      <td>Oberkassel</td>\n",
       "      <td>POLYGON ((6.76868 51.23195, 6.76868 51.23196, ...</td>\n",
       "    </tr>\n",
       "  </tbody>\n",
       "</table>\n",
       "</div>"
      ],
      "text/plain": [
       "     Quelle       Stand Stadtbezirk Stadtteil        Name  \\\n",
       "0  Amt 12/2  31.12.2017           5        54    Wittlaer   \n",
       "1  Amt 12/2  31.12.2017           5        55   Angermund   \n",
       "2  Amt 12/2  31.12.2017           4        43      Lörick   \n",
       "3  Amt 12/2  31.12.2017           4        42      Heerdt   \n",
       "4  Amt 12/2  31.12.2017           4        41  Oberkassel   \n",
       "\n",
       "                                            geometry  \n",
       "0  POLYGON ((6.76623 51.31355, 6.76618 51.31359, ...  \n",
       "1  POLYGON ((6.80952 51.34292, 6.80948 51.34302, ...  \n",
       "2  POLYGON ((6.74610 51.25203, 6.74602 51.25205, ...  \n",
       "3  POLYGON ((6.73560 51.23767, 6.73522 51.23780, ...  \n",
       "4  POLYGON ((6.76868 51.23195, 6.76868 51.23196, ...  "
      ]
     },
     "metadata": {},
     "output_type": "display_data"
    },
    {
     "name": "stdout",
     "output_type": "stream",
     "text": [
      "\n",
      "!!! 1 column(s) with geometry data have been removed and are not considered in \"Info\" and \"Description\": ['geometry'] !!!\n",
      "\n",
      "Info:\n",
      "<class 'geopandas.geodataframe.GeoDataFrame'>\n",
      "RangeIndex: 50 entries, 0 to 49\n",
      "Data columns (total 5 columns):\n",
      "Quelle         50 non-null object\n",
      "Stand          50 non-null object\n",
      "Stadtbezirk    50 non-null object\n",
      "Stadtteil      50 non-null object\n",
      "Name           50 non-null object\n",
      "dtypes: object(5)\n",
      "memory usage: 2.1+ KB\n"
     ]
    },
    {
     "data": {
      "text/plain": [
       "None"
      ]
     },
     "metadata": {},
     "output_type": "display_data"
    },
    {
     "name": "stdout",
     "output_type": "stream",
     "text": [
      "\n",
      "Description:\n"
     ]
    },
    {
     "data": {
      "text/html": [
       "<div>\n",
       "<style scoped>\n",
       "    .dataframe tbody tr th:only-of-type {\n",
       "        vertical-align: middle;\n",
       "    }\n",
       "\n",
       "    .dataframe tbody tr th {\n",
       "        vertical-align: top;\n",
       "    }\n",
       "\n",
       "    .dataframe thead th {\n",
       "        text-align: right;\n",
       "    }\n",
       "</style>\n",
       "<table border=\"1\" class=\"dataframe\">\n",
       "  <thead>\n",
       "    <tr style=\"text-align: right;\">\n",
       "      <th></th>\n",
       "      <th>Quelle</th>\n",
       "      <th>Stand</th>\n",
       "      <th>Stadtbezirk</th>\n",
       "      <th>Stadtteil</th>\n",
       "      <th>Name</th>\n",
       "    </tr>\n",
       "  </thead>\n",
       "  <tbody>\n",
       "    <tr>\n",
       "      <th>count</th>\n",
       "      <td>50</td>\n",
       "      <td>50</td>\n",
       "      <td>50</td>\n",
       "      <td>50</td>\n",
       "      <td>50</td>\n",
       "    </tr>\n",
       "    <tr>\n",
       "      <th>unique</th>\n",
       "      <td>1</td>\n",
       "      <td>1</td>\n",
       "      <td>10</td>\n",
       "      <td>50</td>\n",
       "      <td>50</td>\n",
       "    </tr>\n",
       "    <tr>\n",
       "      <th>top</th>\n",
       "      <td>Amt 12/2</td>\n",
       "      <td>31.12.2017</td>\n",
       "      <td>9</td>\n",
       "      <td>101</td>\n",
       "      <td>Lierenfeld</td>\n",
       "    </tr>\n",
       "    <tr>\n",
       "      <th>freq</th>\n",
       "      <td>50</td>\n",
       "      <td>50</td>\n",
       "      <td>8</td>\n",
       "      <td>1</td>\n",
       "      <td>1</td>\n",
       "    </tr>\n",
       "  </tbody>\n",
       "</table>\n",
       "</div>"
      ],
      "text/plain": [
       "          Quelle       Stand Stadtbezirk Stadtteil        Name\n",
       "count         50          50          50        50          50\n",
       "unique         1           1          10        50          50\n",
       "top     Amt 12/2  31.12.2017           9       101  Lierenfeld\n",
       "freq          50          50           8         1           1"
      ]
     },
     "metadata": {},
     "output_type": "display_data"
    }
   ],
   "source": [
    "neighborhoods_orig = gpd.read_file('dus_neighborhoods.geojson', crs='+init=epsg:4326')\n",
    "neighborhoods_orig = neighborhoods_orig.astype({'Stadtbezirk' : 'str', 'Stadtteil': 'str'})\n",
    "describe_data(neighborhoods_orig)"
   ]
  },
  {
   "cell_type": "markdown",
   "metadata": {
    "Collapsed": "false"
   },
   "source": [
    "**Description of columns:**<br>\n",
    "<table id=\"neighborhoods\"><tr><th>Column</th><th>Translation</th><th>Description</th></tr><tr><td>Quelle</td><td>Source</td><td>Name of the city department that has created the data.</td></tr><tr><td>Stand</td><td>Status</td><td>Date of the data.</td></tr><tr><td>Stadtbezirk</td><td>Department</td><td>ID of the department.</td></tr><tr><td>Stadtteil</td><td>Neighborhood ID</td><td>ID of the neighborhood.</td></tr><tr><td>Name</td><td>Neighborhood</td><td>Name of the neighborhood.</td></tr><tr><td>geometry</td><td>geometry</td><td>Description of the borders of each neighborhood as polygon geo coordinates.</td></tr></table>"
   ]
  },
  {
   "cell_type": "markdown",
   "metadata": {
    "Collapsed": "false"
   },
   "source": [
    "**Content:**<br>\n",
    "The data of the neighboorhoods has been created by the department 'Amt 12/2' of the citiy of Duesseldorf with status of December 31st, 2017. The city area of Duesseldorf is divided into 10 departments and 50 neighborhoods. Each neighborhood is assigned to one department. Departments only have an ID and no name, whereas neighborhoods have an ID and a name. The neighborhood ID is a merged key based on the ID of the department and a digit for the neighborhood.<br>\n",
    "As the analysis will be based on the neighborhoods only the columns 'Neighborhood ID', 'Neighborhood and 'geometry' will be used.<br>\n",
    "<br>\n",
    "**Quality:**<br>\n",
    "The data does not include any null-values.<br>\n",
    "<br>\n",
    "**Data Formatting:**\n",
    "- Drop not required columns\n",
    "- Translate column headers to english\n",
    "- Format the Neighborhood ID to three digit - add a leading 0 in case of only two digits\n",
    "- Set index of DataFrame to 'Neighborhood ID' (unique!)"
   ]
  },
  {
   "cell_type": "code",
   "execution_count": 5,
   "metadata": {
    "Collapsed": "false"
   },
   "outputs": [
    {
     "data": {
      "text/html": [
       "<div>\n",
       "<style scoped>\n",
       "    .dataframe tbody tr th:only-of-type {\n",
       "        vertical-align: middle;\n",
       "    }\n",
       "\n",
       "    .dataframe tbody tr th {\n",
       "        vertical-align: top;\n",
       "    }\n",
       "\n",
       "    .dataframe thead th {\n",
       "        text-align: right;\n",
       "    }\n",
       "</style>\n",
       "<table border=\"1\" class=\"dataframe\">\n",
       "  <thead>\n",
       "    <tr style=\"text-align: right;\">\n",
       "      <th></th>\n",
       "      <th>Neighborhood</th>\n",
       "      <th>geometry</th>\n",
       "    </tr>\n",
       "    <tr>\n",
       "      <th>Neighborhood ID</th>\n",
       "      <th></th>\n",
       "      <th></th>\n",
       "    </tr>\n",
       "  </thead>\n",
       "  <tbody>\n",
       "    <tr>\n",
       "      <th>101</th>\n",
       "      <td>Garath</td>\n",
       "      <td>POLYGON ((6.91823 51.14008, 6.91822 51.14009, ...</td>\n",
       "    </tr>\n",
       "    <tr>\n",
       "      <th>102</th>\n",
       "      <td>Hellerhof</td>\n",
       "      <td>POLYGON ((6.92512 51.13657, 6.92486 51.13708, ...</td>\n",
       "    </tr>\n",
       "    <tr>\n",
       "      <th>011</th>\n",
       "      <td>Altstadt</td>\n",
       "      <td>POLYGON ((6.77727 51.23037, 6.77726 51.23047, ...</td>\n",
       "    </tr>\n",
       "    <tr>\n",
       "      <th>012</th>\n",
       "      <td>Carlstadt</td>\n",
       "      <td>POLYGON ((6.77569 51.22498, 6.77563 51.22501, ...</td>\n",
       "    </tr>\n",
       "    <tr>\n",
       "      <th>013</th>\n",
       "      <td>Stadtmitte</td>\n",
       "      <td>POLYGON ((6.79958 51.22495, 6.79956 51.22496, ...</td>\n",
       "    </tr>\n",
       "  </tbody>\n",
       "</table>\n",
       "</div>"
      ],
      "text/plain": [
       "                Neighborhood  \\\n",
       "Neighborhood ID                \n",
       "101                   Garath   \n",
       "102                Hellerhof   \n",
       "011                 Altstadt   \n",
       "012                Carlstadt   \n",
       "013               Stadtmitte   \n",
       "\n",
       "                                                          geometry  \n",
       "Neighborhood ID                                                     \n",
       "101              POLYGON ((6.91823 51.14008, 6.91822 51.14009, ...  \n",
       "102              POLYGON ((6.92512 51.13657, 6.92486 51.13708, ...  \n",
       "011              POLYGON ((6.77727 51.23037, 6.77726 51.23047, ...  \n",
       "012              POLYGON ((6.77569 51.22498, 6.77563 51.22501, ...  \n",
       "013              POLYGON ((6.79958 51.22495, 6.79956 51.22496, ...  "
      ]
     },
     "execution_count": 5,
     "metadata": {},
     "output_type": "execute_result"
    }
   ],
   "source": [
    "neighborhoods = (neighborhoods_orig.drop(['Quelle', 'Stand', 'Stadtbezirk'], axis=1) # Drop not required columns\n",
    "                                   .rename(columns={'Stadtteil': 'Neighborhood ID',\n",
    "                                                    'Name': 'Neighborhood'\n",
    "                                                   }) # Translate column headers\n",
    "                                   .sort_values(by='Neighborhood ID', ascending=True) # Sort table by neighborhood id\n",
    "                                   .assign(**{'Neighborhood ID': lambda x: x['Neighborhood ID'].map(lambda v: f'{int(v):03d}')}) # Convert ID to three digit str\n",
    "                                   .set_index('Neighborhood ID')\n",
    "                )\n",
    "\n",
    "neighborhoods.head()"
   ]
  },
  {
   "cell_type": "markdown",
   "metadata": {
    "Collapsed": "false"
   },
   "source": [
    "### Data Analysis and Preparation"
   ]
  },
  {
   "cell_type": "code",
   "execution_count": 14,
   "metadata": {
    "Collapsed": "false"
   },
   "outputs": [
    {
     "name": "stdout",
     "output_type": "stream",
     "text": [
      "None\n"
     ]
    }
   ],
   "source": [
    "print(neighborhoods.crs)"
   ]
  },
  {
   "cell_type": "code",
   "execution_count": 19,
   "metadata": {
    "Collapsed": "false"
   },
   "outputs": [
    {
     "data": {
      "text/html": [
       "<div>\n",
       "<style scoped>\n",
       "    .dataframe tbody tr th:only-of-type {\n",
       "        vertical-align: middle;\n",
       "    }\n",
       "\n",
       "    .dataframe tbody tr th {\n",
       "        vertical-align: top;\n",
       "    }\n",
       "\n",
       "    .dataframe thead th {\n",
       "        text-align: right;\n",
       "    }\n",
       "</style>\n",
       "<table border=\"1\" class=\"dataframe\">\n",
       "  <thead>\n",
       "    <tr style=\"text-align: right;\">\n",
       "      <th></th>\n",
       "      <th>Neighborhood</th>\n",
       "      <th>geometry</th>\n",
       "    </tr>\n",
       "    <tr>\n",
       "      <th>Neighborhood ID</th>\n",
       "      <th></th>\n",
       "      <th></th>\n",
       "    </tr>\n",
       "  </thead>\n",
       "  <tbody>\n",
       "    <tr>\n",
       "      <th>101</th>\n",
       "      <td>Garath</td>\n",
       "      <td>POLYGON ((6.91823 51.14008, 6.91822 51.14009, ...</td>\n",
       "    </tr>\n",
       "    <tr>\n",
       "      <th>102</th>\n",
       "      <td>Hellerhof</td>\n",
       "      <td>POLYGON ((6.92512 51.13657, 6.92486 51.13708, ...</td>\n",
       "    </tr>\n",
       "    <tr>\n",
       "      <th>011</th>\n",
       "      <td>Altstadt</td>\n",
       "      <td>POLYGON ((6.77727 51.23037, 6.77726 51.23047, ...</td>\n",
       "    </tr>\n",
       "    <tr>\n",
       "      <th>012</th>\n",
       "      <td>Carlstadt</td>\n",
       "      <td>POLYGON ((6.77569 51.22498, 6.77563 51.22501, ...</td>\n",
       "    </tr>\n",
       "    <tr>\n",
       "      <th>013</th>\n",
       "      <td>Stadtmitte</td>\n",
       "      <td>POLYGON ((6.79958 51.22495, 6.79956 51.22496, ...</td>\n",
       "    </tr>\n",
       "  </tbody>\n",
       "</table>\n",
       "</div>"
      ],
      "text/plain": [
       "                Neighborhood  \\\n",
       "Neighborhood ID                \n",
       "101                   Garath   \n",
       "102                Hellerhof   \n",
       "011                 Altstadt   \n",
       "012                Carlstadt   \n",
       "013               Stadtmitte   \n",
       "\n",
       "                                                          geometry  \n",
       "Neighborhood ID                                                     \n",
       "101              POLYGON ((6.91823 51.14008, 6.91822 51.14009, ...  \n",
       "102              POLYGON ((6.92512 51.13657, 6.92486 51.13708, ...  \n",
       "011              POLYGON ((6.77727 51.23037, 6.77726 51.23047, ...  \n",
       "012              POLYGON ((6.77569 51.22498, 6.77563 51.22501, ...  \n",
       "013              POLYGON ((6.79958 51.22495, 6.79956 51.22496, ...  "
      ]
     },
     "execution_count": 19,
     "metadata": {},
     "output_type": "execute_result"
    }
   ],
   "source": [
    "neighborhoods.crs = {'init': 'epsg:'}\n",
    "neighborhoods.head()"
   ]
  },
  {
   "cell_type": "code",
   "execution_count": 16,
   "metadata": {
    "Collapsed": "false"
   },
   "outputs": [
    {
     "name": "stdout",
     "output_type": "stream",
     "text": [
      "The coordinates of Duesseldorf are 51.2254018, 6.7763137.\n"
     ]
    }
   ],
   "source": [
    "dus_centre = Nominatim(user_agent='dus')\n",
    "location = dus_centre.geocode(query='Düsseldorf', country_codes='de')\n",
    "dus_latitude = location.latitude\n",
    "dus_longitude = location.longitude\n",
    "\n",
    "print(f'The coordinates of Duesseldorf are {dus_latitude}, {dus_longitude}.')"
   ]
  },
  {
   "cell_type": "code",
   "execution_count": 20,
   "metadata": {
    "Collapsed": "false"
   },
   "outputs": [
    {
     "ename": "CRSError",
     "evalue": "Invalid projection: +init=epsg: +type=crs: (Internal Proj Error: proj_create: crs not found)",
     "output_type": "error",
     "traceback": [
      "\u001b[0;31m---------------------------------------------------------------------------\u001b[0m",
      "\u001b[0;31mCRSError\u001b[0m                                  Traceback (most recent call last)",
      "\u001b[0;32m<ipython-input-20-8ad05759310f>\u001b[0m in \u001b[0;36m<module>\u001b[0;34m\u001b[0m\n\u001b[1;32m      8\u001b[0m \u001b[0;34m\u001b[0m\u001b[0m\n\u001b[1;32m      9\u001b[0m folium.GeoJson(data=neighborhoods[['geometry', 'Neighborhood']],\n\u001b[0;32m---> 10\u001b[0;31m                \u001b[0mtooltip\u001b[0m\u001b[0;34m=\u001b[0m\u001b[0mfolium\u001b[0m\u001b[0;34m.\u001b[0m\u001b[0mfeatures\u001b[0m\u001b[0;34m.\u001b[0m\u001b[0mGeoJsonTooltip\u001b[0m\u001b[0;34m(\u001b[0m\u001b[0;34m[\u001b[0m\u001b[0;34m'Neighborhood'\u001b[0m\u001b[0;34m]\u001b[0m\u001b[0;34m)\u001b[0m\u001b[0;34m\u001b[0m\u001b[0;34m\u001b[0m\u001b[0m\n\u001b[0m\u001b[1;32m     11\u001b[0m               ).add_to(map_dus)\n\u001b[1;32m     12\u001b[0m \u001b[0;34m\u001b[0m\u001b[0m\n",
      "\u001b[0;32m~/miniconda3/envs/ibm_capstone/lib/python3.7/site-packages/folium/features.py\u001b[0m in \u001b[0;36m__init__\u001b[0;34m(self, data, style_function, highlight_function, name, overlay, control, show, smooth_factor, tooltip, embed)\u001b[0m\n\u001b[1;32m    450\u001b[0m         \u001b[0mself\u001b[0m\u001b[0;34m.\u001b[0m\u001b[0mhighlight\u001b[0m \u001b[0;34m=\u001b[0m \u001b[0mhighlight_function\u001b[0m \u001b[0;32mis\u001b[0m \u001b[0;32mnot\u001b[0m \u001b[0;32mNone\u001b[0m\u001b[0;34m\u001b[0m\u001b[0;34m\u001b[0m\u001b[0m\n\u001b[1;32m    451\u001b[0m \u001b[0;34m\u001b[0m\u001b[0m\n\u001b[0;32m--> 452\u001b[0;31m         \u001b[0mself\u001b[0m\u001b[0;34m.\u001b[0m\u001b[0mdata\u001b[0m \u001b[0;34m=\u001b[0m \u001b[0mself\u001b[0m\u001b[0;34m.\u001b[0m\u001b[0mprocess_data\u001b[0m\u001b[0;34m(\u001b[0m\u001b[0mdata\u001b[0m\u001b[0;34m)\u001b[0m\u001b[0;34m\u001b[0m\u001b[0;34m\u001b[0m\u001b[0m\n\u001b[0m\u001b[1;32m    453\u001b[0m \u001b[0;34m\u001b[0m\u001b[0m\n\u001b[1;32m    454\u001b[0m         \u001b[0;32mif\u001b[0m \u001b[0mself\u001b[0m\u001b[0;34m.\u001b[0m\u001b[0mstyle\u001b[0m \u001b[0;32mor\u001b[0m \u001b[0mself\u001b[0m\u001b[0;34m.\u001b[0m\u001b[0mhighlight\u001b[0m\u001b[0;34m:\u001b[0m\u001b[0;34m\u001b[0m\u001b[0;34m\u001b[0m\u001b[0m\n",
      "\u001b[0;32m~/miniconda3/envs/ibm_capstone/lib/python3.7/site-packages/folium/features.py\u001b[0m in \u001b[0;36mprocess_data\u001b[0;34m(self, data)\u001b[0m\n\u001b[1;32m    490\u001b[0m             \u001b[0mself\u001b[0m\u001b[0;34m.\u001b[0m\u001b[0membed\u001b[0m \u001b[0;34m=\u001b[0m \u001b[0;32mTrue\u001b[0m\u001b[0;34m\u001b[0m\u001b[0;34m\u001b[0m\u001b[0m\n\u001b[1;32m    491\u001b[0m             \u001b[0;32mif\u001b[0m \u001b[0mhasattr\u001b[0m\u001b[0;34m(\u001b[0m\u001b[0mdata\u001b[0m\u001b[0;34m,\u001b[0m \u001b[0;34m'to_crs'\u001b[0m\u001b[0;34m)\u001b[0m\u001b[0;34m:\u001b[0m\u001b[0;34m\u001b[0m\u001b[0;34m\u001b[0m\u001b[0m\n\u001b[0;32m--> 492\u001b[0;31m                 \u001b[0mdata\u001b[0m \u001b[0;34m=\u001b[0m \u001b[0mdata\u001b[0m\u001b[0;34m.\u001b[0m\u001b[0mto_crs\u001b[0m\u001b[0;34m(\u001b[0m\u001b[0mepsg\u001b[0m\u001b[0;34m=\u001b[0m\u001b[0;34m'4326'\u001b[0m\u001b[0;34m)\u001b[0m\u001b[0;34m\u001b[0m\u001b[0;34m\u001b[0m\u001b[0m\n\u001b[0m\u001b[1;32m    493\u001b[0m             \u001b[0;32mreturn\u001b[0m \u001b[0mjson\u001b[0m\u001b[0;34m.\u001b[0m\u001b[0mloads\u001b[0m\u001b[0;34m(\u001b[0m\u001b[0mjson\u001b[0m\u001b[0;34m.\u001b[0m\u001b[0mdumps\u001b[0m\u001b[0;34m(\u001b[0m\u001b[0mdata\u001b[0m\u001b[0;34m.\u001b[0m\u001b[0m__geo_interface__\u001b[0m\u001b[0;34m)\u001b[0m\u001b[0;34m)\u001b[0m\u001b[0;34m\u001b[0m\u001b[0;34m\u001b[0m\u001b[0m\n\u001b[1;32m    494\u001b[0m         \u001b[0;32melse\u001b[0m\u001b[0;34m:\u001b[0m\u001b[0;34m\u001b[0m\u001b[0;34m\u001b[0m\u001b[0m\n",
      "\u001b[0;32m~/miniconda3/envs/ibm_capstone/lib/python3.7/site-packages/geopandas/geodataframe.py\u001b[0m in \u001b[0;36mto_crs\u001b[0;34m(self, crs, epsg, inplace)\u001b[0m\n\u001b[1;32m    543\u001b[0m         \u001b[0;32melse\u001b[0m\u001b[0;34m:\u001b[0m\u001b[0;34m\u001b[0m\u001b[0;34m\u001b[0m\u001b[0m\n\u001b[1;32m    544\u001b[0m             \u001b[0mdf\u001b[0m \u001b[0;34m=\u001b[0m \u001b[0mself\u001b[0m\u001b[0;34m.\u001b[0m\u001b[0mcopy\u001b[0m\u001b[0;34m(\u001b[0m\u001b[0;34m)\u001b[0m\u001b[0;34m\u001b[0m\u001b[0;34m\u001b[0m\u001b[0m\n\u001b[0;32m--> 545\u001b[0;31m         \u001b[0mgeom\u001b[0m \u001b[0;34m=\u001b[0m \u001b[0mdf\u001b[0m\u001b[0;34m.\u001b[0m\u001b[0mgeometry\u001b[0m\u001b[0;34m.\u001b[0m\u001b[0mto_crs\u001b[0m\u001b[0;34m(\u001b[0m\u001b[0mcrs\u001b[0m\u001b[0;34m=\u001b[0m\u001b[0mcrs\u001b[0m\u001b[0;34m,\u001b[0m \u001b[0mepsg\u001b[0m\u001b[0;34m=\u001b[0m\u001b[0mepsg\u001b[0m\u001b[0;34m)\u001b[0m\u001b[0;34m\u001b[0m\u001b[0;34m\u001b[0m\u001b[0m\n\u001b[0m\u001b[1;32m    546\u001b[0m         \u001b[0mdf\u001b[0m\u001b[0;34m.\u001b[0m\u001b[0mgeometry\u001b[0m \u001b[0;34m=\u001b[0m \u001b[0mgeom\u001b[0m\u001b[0;34m\u001b[0m\u001b[0;34m\u001b[0m\u001b[0m\n\u001b[1;32m    547\u001b[0m         \u001b[0mdf\u001b[0m\u001b[0;34m.\u001b[0m\u001b[0mcrs\u001b[0m \u001b[0;34m=\u001b[0m \u001b[0mgeom\u001b[0m\u001b[0;34m.\u001b[0m\u001b[0mcrs\u001b[0m\u001b[0;34m\u001b[0m\u001b[0;34m\u001b[0m\u001b[0m\n",
      "\u001b[0;32m~/miniconda3/envs/ibm_capstone/lib/python3.7/site-packages/geopandas/geoseries.py\u001b[0m in \u001b[0;36mto_crs\u001b[0;34m(self, crs, epsg)\u001b[0m\n\u001b[1;32m    408\u001b[0m         \u001b[0;31m# skip transformation if the input CRS and output CRS are the exact same\u001b[0m\u001b[0;34m\u001b[0m\u001b[0;34m\u001b[0m\u001b[0;34m\u001b[0m\u001b[0m\n\u001b[1;32m    409\u001b[0m         if _PYPROJ_VERSION >= LooseVersion(\"2.1.2\") and pyproj.CRS.from_user_input(\n\u001b[0;32m--> 410\u001b[0;31m             \u001b[0mself\u001b[0m\u001b[0;34m.\u001b[0m\u001b[0mcrs\u001b[0m\u001b[0;34m\u001b[0m\u001b[0;34m\u001b[0m\u001b[0m\n\u001b[0m\u001b[1;32m    411\u001b[0m         ).is_exact_same(pyproj.CRS.from_user_input(crs)):\n\u001b[1;32m    412\u001b[0m             \u001b[0;32mreturn\u001b[0m \u001b[0mself\u001b[0m\u001b[0;34m\u001b[0m\u001b[0;34m\u001b[0m\u001b[0m\n",
      "\u001b[0;32m~/miniconda3/envs/ibm_capstone/lib/python3.7/site-packages/pyproj/crs.py\u001b[0m in \u001b[0;36mfrom_user_input\u001b[0;34m(cls, value)\u001b[0m\n\u001b[1;32m    432\u001b[0m         \u001b[0;32mif\u001b[0m \u001b[0misinstance\u001b[0m\u001b[0;34m(\u001b[0m\u001b[0mvalue\u001b[0m\u001b[0;34m,\u001b[0m \u001b[0m_CRS\u001b[0m\u001b[0;34m)\u001b[0m\u001b[0;34m:\u001b[0m\u001b[0;34m\u001b[0m\u001b[0;34m\u001b[0m\u001b[0m\n\u001b[1;32m    433\u001b[0m             \u001b[0;32mreturn\u001b[0m \u001b[0mvalue\u001b[0m\u001b[0;34m\u001b[0m\u001b[0;34m\u001b[0m\u001b[0m\n\u001b[0;32m--> 434\u001b[0;31m         \u001b[0;32mreturn\u001b[0m \u001b[0mcls\u001b[0m\u001b[0;34m(\u001b[0m\u001b[0mvalue\u001b[0m\u001b[0;34m)\u001b[0m\u001b[0;34m\u001b[0m\u001b[0;34m\u001b[0m\u001b[0m\n\u001b[0m\u001b[1;32m    435\u001b[0m \u001b[0;34m\u001b[0m\u001b[0m\n\u001b[1;32m    436\u001b[0m     \u001b[0;32mdef\u001b[0m \u001b[0mget_geod\u001b[0m\u001b[0;34m(\u001b[0m\u001b[0mself\u001b[0m\u001b[0;34m)\u001b[0m\u001b[0;34m:\u001b[0m\u001b[0;34m\u001b[0m\u001b[0;34m\u001b[0m\u001b[0m\n",
      "\u001b[0;32m~/miniconda3/envs/ibm_capstone/lib/python3.7/site-packages/pyproj/crs.py\u001b[0m in \u001b[0;36m__init__\u001b[0;34m(self, projparams, **kwargs)\u001b[0m\n\u001b[1;32m    301\u001b[0m             \u001b[0;32mraise\u001b[0m \u001b[0mCRSError\u001b[0m\u001b[0;34m(\u001b[0m\u001b[0;34m\"Invalid CRS input: {!r}\"\u001b[0m\u001b[0;34m.\u001b[0m\u001b[0mformat\u001b[0m\u001b[0;34m(\u001b[0m\u001b[0mprojparams\u001b[0m\u001b[0;34m)\u001b[0m\u001b[0;34m)\u001b[0m\u001b[0;34m\u001b[0m\u001b[0;34m\u001b[0m\u001b[0m\n\u001b[1;32m    302\u001b[0m \u001b[0;34m\u001b[0m\u001b[0m\n\u001b[0;32m--> 303\u001b[0;31m         \u001b[0msuper\u001b[0m\u001b[0;34m(\u001b[0m\u001b[0mCRS\u001b[0m\u001b[0;34m,\u001b[0m \u001b[0mself\u001b[0m\u001b[0;34m)\u001b[0m\u001b[0;34m.\u001b[0m\u001b[0m__init__\u001b[0m\u001b[0;34m(\u001b[0m\u001b[0mprojstring\u001b[0m\u001b[0;34m)\u001b[0m\u001b[0;34m\u001b[0m\u001b[0;34m\u001b[0m\u001b[0m\n\u001b[0m\u001b[1;32m    304\u001b[0m \u001b[0;34m\u001b[0m\u001b[0m\n\u001b[1;32m    305\u001b[0m     \u001b[0;34m@\u001b[0m\u001b[0mclassmethod\u001b[0m\u001b[0;34m\u001b[0m\u001b[0;34m\u001b[0m\u001b[0m\n",
      "\u001b[0;32mpyproj/_crs.pyx\u001b[0m in \u001b[0;36mpyproj._crs._CRS.__init__\u001b[0;34m()\u001b[0m\n",
      "\u001b[0;31mCRSError\u001b[0m: Invalid projection: +init=epsg: +type=crs: (Internal Proj Error: proj_create: crs not found)"
     ]
    }
   ],
   "source": [
    "# create map centered on Duesseldorf\n",
    "map_dus = folium.Map(location=[dus_latitude, dus_longitude],\n",
    "                     zoom_start=11,\n",
    "                     min_zoom=10,\n",
    "                     max_zoom=19,\n",
    "                     zoom_control=False\n",
    "                    )\n",
    "\n",
    "folium.GeoJson(data=neighborhoods[['geometry', 'Neighborhood']],\n",
    "               tooltip=folium.features.GeoJsonTooltip(['Neighborhood'])\n",
    "              ).add_to(map_dus)\n",
    "\n",
    "map_dus"
   ]
  },
  {
   "cell_type": "markdown",
   "metadata": {
    "Collapsed": "false"
   },
   "source": [
    "## Population"
   ]
  },
  {
   "cell_type": "markdown",
   "metadata": {
    "Collapsed": "true"
   },
   "source": [
    "### Collect initial data"
   ]
  },
  {
   "cell_type": "code",
   "execution_count": null,
   "metadata": {
    "Collapsed": "false"
   },
   "outputs": [],
   "source": [
    "# Download CSV (JSON file was not available) with total size of population per neighborhood in Duesseldorf (2012 - 2018)\n",
    "# Description of Data: https://opendata.duesseldorf.de/dataset/einwohnerzahl-d%C3%BCsseldorf-seit-2012-einwohnermeldedaten\n",
    "!wget --quiet 'https://opendata.duesseldorf.de/sites/default/files/Bev%C3%B6lkerungsstand%20in%20den%20Stadtteilen%20seit%202012_0.csv' -O dus_population.csv"
   ]
  },
  {
   "cell_type": "markdown",
   "metadata": {
    "Collapsed": "false"
   },
   "source": [
    "### Describe, explore data and verify quality"
   ]
  },
  {
   "cell_type": "code",
   "execution_count": 15,
   "metadata": {
    "Collapsed": "false"
   },
   "outputs": [
    {
     "name": "stdout",
     "output_type": "stream",
     "text": [
      "Shape:\n",
      "(50, 9)\n",
      "\n",
      "Head:\n"
     ]
    },
    {
     "data": {
      "text/html": [
       "<div>\n",
       "<style scoped>\n",
       "    .dataframe tbody tr th:only-of-type {\n",
       "        vertical-align: middle;\n",
       "    }\n",
       "\n",
       "    .dataframe tbody tr th {\n",
       "        vertical-align: top;\n",
       "    }\n",
       "\n",
       "    .dataframe thead th {\n",
       "        text-align: right;\n",
       "    }\n",
       "</style>\n",
       "<table border=\"1\" class=\"dataframe\">\n",
       "  <thead>\n",
       "    <tr style=\"text-align: right;\">\n",
       "      <th></th>\n",
       "      <th>Stadtteilnummer</th>\n",
       "      <th>Stadtteilname</th>\n",
       "      <th>2012</th>\n",
       "      <th>2013</th>\n",
       "      <th>2014</th>\n",
       "      <th>2015</th>\n",
       "      <th>2016</th>\n",
       "      <th>2017</th>\n",
       "      <th>2018</th>\n",
       "    </tr>\n",
       "  </thead>\n",
       "  <tbody>\n",
       "    <tr>\n",
       "      <th>0</th>\n",
       "      <td>11</td>\n",
       "      <td>Altstadt</td>\n",
       "      <td>2232</td>\n",
       "      <td>2253</td>\n",
       "      <td>2221</td>\n",
       "      <td>2264</td>\n",
       "      <td>2244</td>\n",
       "      <td>2358</td>\n",
       "      <td>2404</td>\n",
       "    </tr>\n",
       "    <tr>\n",
       "      <th>1</th>\n",
       "      <td>12</td>\n",
       "      <td>Carlstadt</td>\n",
       "      <td>2290</td>\n",
       "      <td>2323</td>\n",
       "      <td>2315</td>\n",
       "      <td>2491</td>\n",
       "      <td>2588</td>\n",
       "      <td>2279</td>\n",
       "      <td>2285</td>\n",
       "    </tr>\n",
       "    <tr>\n",
       "      <th>2</th>\n",
       "      <td>13</td>\n",
       "      <td>Stadtmitte</td>\n",
       "      <td>13900</td>\n",
       "      <td>13953</td>\n",
       "      <td>14388</td>\n",
       "      <td>14680</td>\n",
       "      <td>15008</td>\n",
       "      <td>14840</td>\n",
       "      <td>14954</td>\n",
       "    </tr>\n",
       "    <tr>\n",
       "      <th>3</th>\n",
       "      <td>14</td>\n",
       "      <td>Pempelfort</td>\n",
       "      <td>29931</td>\n",
       "      <td>30345</td>\n",
       "      <td>30814</td>\n",
       "      <td>31449</td>\n",
       "      <td>31897</td>\n",
       "      <td>32626</td>\n",
       "      <td>33064</td>\n",
       "    </tr>\n",
       "    <tr>\n",
       "      <th>4</th>\n",
       "      <td>15</td>\n",
       "      <td>Derendorf</td>\n",
       "      <td>19740</td>\n",
       "      <td>19927</td>\n",
       "      <td>20005</td>\n",
       "      <td>20232</td>\n",
       "      <td>20401</td>\n",
       "      <td>20651</td>\n",
       "      <td>20610</td>\n",
       "    </tr>\n",
       "  </tbody>\n",
       "</table>\n",
       "</div>"
      ],
      "text/plain": [
       "   Stadtteilnummer Stadtteilname   2012   2013   2014   2015   2016   2017  \\\n",
       "0               11      Altstadt   2232   2253   2221   2264   2244   2358   \n",
       "1               12     Carlstadt   2290   2323   2315   2491   2588   2279   \n",
       "2               13    Stadtmitte  13900  13953  14388  14680  15008  14840   \n",
       "3               14    Pempelfort  29931  30345  30814  31449  31897  32626   \n",
       "4               15     Derendorf  19740  19927  20005  20232  20401  20651   \n",
       "\n",
       "    2018  \n",
       "0   2404  \n",
       "1   2285  \n",
       "2  14954  \n",
       "3  33064  \n",
       "4  20610  "
      ]
     },
     "metadata": {},
     "output_type": "display_data"
    },
    {
     "name": "stdout",
     "output_type": "stream",
     "text": [
      "\n",
      "Info:\n",
      "<class 'pandas.core.frame.DataFrame'>\n",
      "RangeIndex: 50 entries, 0 to 49\n",
      "Data columns (total 9 columns):\n",
      "Stadtteilnummer    50 non-null int64\n",
      "Stadtteilname      50 non-null object\n",
      "2012               50 non-null object\n",
      "2013               50 non-null object\n",
      "2014               50 non-null int64\n",
      "2015               50 non-null int64\n",
      "2016               50 non-null int64\n",
      "2017               50 non-null int64\n",
      "2018               50 non-null int64\n",
      "dtypes: int64(6), object(3)\n",
      "memory usage: 3.6+ KB\n"
     ]
    },
    {
     "data": {
      "text/plain": [
       "None"
      ]
     },
     "metadata": {},
     "output_type": "display_data"
    },
    {
     "name": "stdout",
     "output_type": "stream",
     "text": [
      "\n",
      "Description:\n"
     ]
    },
    {
     "data": {
      "text/html": [
       "<div>\n",
       "<style scoped>\n",
       "    .dataframe tbody tr th:only-of-type {\n",
       "        vertical-align: middle;\n",
       "    }\n",
       "\n",
       "    .dataframe tbody tr th {\n",
       "        vertical-align: top;\n",
       "    }\n",
       "\n",
       "    .dataframe thead th {\n",
       "        text-align: right;\n",
       "    }\n",
       "</style>\n",
       "<table border=\"1\" class=\"dataframe\">\n",
       "  <thead>\n",
       "    <tr style=\"text-align: right;\">\n",
       "      <th></th>\n",
       "      <th>Stadtteilnummer</th>\n",
       "      <th>Stadtteilname</th>\n",
       "      <th>2012</th>\n",
       "      <th>2013</th>\n",
       "      <th>2014</th>\n",
       "      <th>2015</th>\n",
       "      <th>2016</th>\n",
       "      <th>2017</th>\n",
       "      <th>2018</th>\n",
       "    </tr>\n",
       "  </thead>\n",
       "  <tbody>\n",
       "    <tr>\n",
       "      <th>count</th>\n",
       "      <td>50.00000</td>\n",
       "      <td>50</td>\n",
       "      <td>50</td>\n",
       "      <td>50</td>\n",
       "      <td>50.000000</td>\n",
       "      <td>50.000000</td>\n",
       "      <td>50.000000</td>\n",
       "      <td>50.000000</td>\n",
       "      <td>50.0000</td>\n",
       "    </tr>\n",
       "    <tr>\n",
       "      <th>unique</th>\n",
       "      <td>NaN</td>\n",
       "      <td>50</td>\n",
       "      <td>50</td>\n",
       "      <td>50</td>\n",
       "      <td>NaN</td>\n",
       "      <td>NaN</td>\n",
       "      <td>NaN</td>\n",
       "      <td>NaN</td>\n",
       "      <td>NaN</td>\n",
       "    </tr>\n",
       "    <tr>\n",
       "      <th>top</th>\n",
       "      <td>NaN</td>\n",
       "      <td>Carlstadt</td>\n",
       "      <td>2571</td>\n",
       "      <td>30049</td>\n",
       "      <td>NaN</td>\n",
       "      <td>NaN</td>\n",
       "      <td>NaN</td>\n",
       "      <td>NaN</td>\n",
       "      <td>NaN</td>\n",
       "    </tr>\n",
       "    <tr>\n",
       "      <th>freq</th>\n",
       "      <td>NaN</td>\n",
       "      <td>1</td>\n",
       "      <td>1</td>\n",
       "      <td>1</td>\n",
       "      <td>NaN</td>\n",
       "      <td>NaN</td>\n",
       "      <td>NaN</td>\n",
       "      <td>NaN</td>\n",
       "      <td>NaN</td>\n",
       "    </tr>\n",
       "    <tr>\n",
       "      <th>mean</th>\n",
       "      <td>56.36000</td>\n",
       "      <td>NaN</td>\n",
       "      <td>NaN</td>\n",
       "      <td>NaN</td>\n",
       "      <td>12393.020000</td>\n",
       "      <td>12568.740000</td>\n",
       "      <td>12714.080000</td>\n",
       "      <td>12788.140000</td>\n",
       "      <td>12846.0800</td>\n",
       "    </tr>\n",
       "    <tr>\n",
       "      <th>std</th>\n",
       "      <td>28.33168</td>\n",
       "      <td>NaN</td>\n",
       "      <td>NaN</td>\n",
       "      <td>NaN</td>\n",
       "      <td>9802.753111</td>\n",
       "      <td>9902.447485</td>\n",
       "      <td>9954.961019</td>\n",
       "      <td>10051.902206</td>\n",
       "      <td>10093.9587</td>\n",
       "    </tr>\n",
       "    <tr>\n",
       "      <th>min</th>\n",
       "      <td>11.00000</td>\n",
       "      <td>NaN</td>\n",
       "      <td>NaN</td>\n",
       "      <td>NaN</td>\n",
       "      <td>139.000000</td>\n",
       "      <td>131.000000</td>\n",
       "      <td>130.000000</td>\n",
       "      <td>116.000000</td>\n",
       "      <td>109.0000</td>\n",
       "    </tr>\n",
       "    <tr>\n",
       "      <th>25%</th>\n",
       "      <td>34.25000</td>\n",
       "      <td>NaN</td>\n",
       "      <td>NaN</td>\n",
       "      <td>NaN</td>\n",
       "      <td>4493.250000</td>\n",
       "      <td>4613.500000</td>\n",
       "      <td>4701.000000</td>\n",
       "      <td>4730.250000</td>\n",
       "      <td>4778.2500</td>\n",
       "    </tr>\n",
       "    <tr>\n",
       "      <th>50%</th>\n",
       "      <td>54.50000</td>\n",
       "      <td>NaN</td>\n",
       "      <td>NaN</td>\n",
       "      <td>NaN</td>\n",
       "      <td>10164.500000</td>\n",
       "      <td>10303.000000</td>\n",
       "      <td>10431.000000</td>\n",
       "      <td>10427.000000</td>\n",
       "      <td>10471.0000</td>\n",
       "    </tr>\n",
       "    <tr>\n",
       "      <th>75%</th>\n",
       "      <td>81.75000</td>\n",
       "      <td>NaN</td>\n",
       "      <td>NaN</td>\n",
       "      <td>NaN</td>\n",
       "      <td>18723.500000</td>\n",
       "      <td>19026.500000</td>\n",
       "      <td>19049.500000</td>\n",
       "      <td>19254.750000</td>\n",
       "      <td>19304.7500</td>\n",
       "    </tr>\n",
       "    <tr>\n",
       "      <th>max</th>\n",
       "      <td>102.00000</td>\n",
       "      <td>NaN</td>\n",
       "      <td>NaN</td>\n",
       "      <td>NaN</td>\n",
       "      <td>39708.000000</td>\n",
       "      <td>39899.000000</td>\n",
       "      <td>40038.000000</td>\n",
       "      <td>40552.000000</td>\n",
       "      <td>40651.0000</td>\n",
       "    </tr>\n",
       "  </tbody>\n",
       "</table>\n",
       "</div>"
      ],
      "text/plain": [
       "        Stadtteilnummer Stadtteilname  2012   2013          2014  \\\n",
       "count          50.00000            50    50     50     50.000000   \n",
       "unique              NaN            50    50     50           NaN   \n",
       "top                 NaN     Carlstadt  2571  30049           NaN   \n",
       "freq                NaN             1     1      1           NaN   \n",
       "mean           56.36000           NaN   NaN    NaN  12393.020000   \n",
       "std            28.33168           NaN   NaN    NaN   9802.753111   \n",
       "min            11.00000           NaN   NaN    NaN    139.000000   \n",
       "25%            34.25000           NaN   NaN    NaN   4493.250000   \n",
       "50%            54.50000           NaN   NaN    NaN  10164.500000   \n",
       "75%            81.75000           NaN   NaN    NaN  18723.500000   \n",
       "max           102.00000           NaN   NaN    NaN  39708.000000   \n",
       "\n",
       "                2015          2016          2017        2018  \n",
       "count      50.000000     50.000000     50.000000     50.0000  \n",
       "unique           NaN           NaN           NaN         NaN  \n",
       "top              NaN           NaN           NaN         NaN  \n",
       "freq             NaN           NaN           NaN         NaN  \n",
       "mean    12568.740000  12714.080000  12788.140000  12846.0800  \n",
       "std      9902.447485   9954.961019  10051.902206  10093.9587  \n",
       "min       131.000000    130.000000    116.000000    109.0000  \n",
       "25%      4613.500000   4701.000000   4730.250000   4778.2500  \n",
       "50%     10303.000000  10431.000000  10427.000000  10471.0000  \n",
       "75%     19026.500000  19049.500000  19254.750000  19304.7500  \n",
       "max     39899.000000  40038.000000  40552.000000  40651.0000  "
      ]
     },
     "metadata": {},
     "output_type": "display_data"
    }
   ],
   "source": [
    "population_import = pd.read_csv('dus_population.csv', sep=';')\n",
    "describe_data(population_import)"
   ]
  },
  {
   "cell_type": "markdown",
   "metadata": {
    "Collapsed": "false"
   },
   "source": [
    "**Description of columns:**<br>\n",
    "<table id=\"population\"><tr><th>Column</th><th>Translation</th><th>Description</th></tr><tr><td>Stadtteilnummer</td><td>Neighborhood ID</td><td>ID of the neighborhood.</td></tr><tr><td>Stadtteilname</td><td>Neighborhood</td><td>Name of the neighborhood.</td></tr><tr><td>2012-2018</td><td>2012-2018</td><td>Size of population per neighborhood at the end of the year.</td></tr></table>"
   ]
  },
  {
   "cell_type": "markdown",
   "metadata": {
    "Collapsed": "false"
   },
   "source": [
    "**Content:**<br>\n",
    "The data includes the total population of each neighborhood by the end of the years 2012 to 2018. The population data is provided for all 50 neighborhoods.<br>\n",
    "For the analysis the data for the past five years (2013 to 2018) will be used.<br>\n",
    "<br>\n",
    "**Quality:**<br>\n",
    "The data does not include any null-values. The data type of columns 2012 and 2013 has been recognized as 'object', whereas it should contain only numerical values, such as 2014 to 2018. This needs to be cleaned.<br>\n",
    "<br>\n",
    "**Data Formatting:**\n",
    "- Drop not required columns\n",
    "- Translate column headers to english\n",
    "- Format the Neighborhood ID to three digit - add a leading 0 in case of only two digits\n",
    "- Set index of DataFrame to 'Neighborhood ID' (unique!)\n",
    "- Analyse data of 2013 and transform data type of column to integer"
   ]
  },
  {
   "cell_type": "code",
   "execution_count": 16,
   "metadata": {
    "Collapsed": "false"
   },
   "outputs": [
    {
     "data": {
      "text/html": [
       "<div>\n",
       "<style scoped>\n",
       "    .dataframe tbody tr th:only-of-type {\n",
       "        vertical-align: middle;\n",
       "    }\n",
       "\n",
       "    .dataframe tbody tr th {\n",
       "        vertical-align: top;\n",
       "    }\n",
       "\n",
       "    .dataframe thead th {\n",
       "        text-align: right;\n",
       "    }\n",
       "</style>\n",
       "<table border=\"1\" class=\"dataframe\">\n",
       "  <thead>\n",
       "    <tr style=\"text-align: right;\">\n",
       "      <th></th>\n",
       "      <th>Neighborhood</th>\n",
       "      <th>2013</th>\n",
       "      <th>2014</th>\n",
       "      <th>2015</th>\n",
       "      <th>2016</th>\n",
       "      <th>2017</th>\n",
       "      <th>2018</th>\n",
       "    </tr>\n",
       "    <tr>\n",
       "      <th>Neighborhood ID</th>\n",
       "      <th></th>\n",
       "      <th></th>\n",
       "      <th></th>\n",
       "      <th></th>\n",
       "      <th></th>\n",
       "      <th></th>\n",
       "      <th></th>\n",
       "    </tr>\n",
       "  </thead>\n",
       "  <tbody>\n",
       "    <tr>\n",
       "      <th>011</th>\n",
       "      <td>Altstadt</td>\n",
       "      <td>2253</td>\n",
       "      <td>2221</td>\n",
       "      <td>2264</td>\n",
       "      <td>2244</td>\n",
       "      <td>2358</td>\n",
       "      <td>2404</td>\n",
       "    </tr>\n",
       "    <tr>\n",
       "      <th>012</th>\n",
       "      <td>Carlstadt</td>\n",
       "      <td>2323</td>\n",
       "      <td>2315</td>\n",
       "      <td>2491</td>\n",
       "      <td>2588</td>\n",
       "      <td>2279</td>\n",
       "      <td>2285</td>\n",
       "    </tr>\n",
       "    <tr>\n",
       "      <th>013</th>\n",
       "      <td>Stadtmitte</td>\n",
       "      <td>13953</td>\n",
       "      <td>14388</td>\n",
       "      <td>14680</td>\n",
       "      <td>15008</td>\n",
       "      <td>14840</td>\n",
       "      <td>14954</td>\n",
       "    </tr>\n",
       "    <tr>\n",
       "      <th>014</th>\n",
       "      <td>Pempelfort</td>\n",
       "      <td>30345</td>\n",
       "      <td>30814</td>\n",
       "      <td>31449</td>\n",
       "      <td>31897</td>\n",
       "      <td>32626</td>\n",
       "      <td>33064</td>\n",
       "    </tr>\n",
       "    <tr>\n",
       "      <th>015</th>\n",
       "      <td>Derendorf</td>\n",
       "      <td>19927</td>\n",
       "      <td>20005</td>\n",
       "      <td>20232</td>\n",
       "      <td>20401</td>\n",
       "      <td>20651</td>\n",
       "      <td>20610</td>\n",
       "    </tr>\n",
       "  </tbody>\n",
       "</table>\n",
       "</div>"
      ],
      "text/plain": [
       "                Neighborhood   2013   2014   2015   2016   2017   2018\n",
       "Neighborhood ID                                                       \n",
       "011                 Altstadt   2253   2221   2264   2244   2358   2404\n",
       "012                Carlstadt   2323   2315   2491   2588   2279   2285\n",
       "013               Stadtmitte  13953  14388  14680  15008  14840  14954\n",
       "014               Pempelfort  30345  30814  31449  31897  32626  33064\n",
       "015                Derendorf  19927  20005  20232  20401  20651  20610"
      ]
     },
     "execution_count": 16,
     "metadata": {},
     "output_type": "execute_result"
    }
   ],
   "source": [
    "population = (population_import.drop(['2012'], axis=1)\n",
    "                               .rename(columns={'Stadtteilnummer': 'Neighborhood ID', 'Stadtteilname': 'Neighborhood'}) # Translate column headers\n",
    "                               .assign(**{'Neighborhood ID': lambda x: x['Neighborhood ID'].map(lambda v: f'{v:03d}')}) # Convert ID to three digit str\n",
    "                               .set_index('Neighborhood ID')\n",
    "             )\n",
    "population.head()"
   ]
  },
  {
   "cell_type": "markdown",
   "metadata": {
    "Collapsed": "false"
   },
   "source": [
    "Analyse data of column '2013' to convert column to integer."
   ]
  },
  {
   "cell_type": "code",
   "execution_count": 17,
   "metadata": {
    "Collapsed": "false"
   },
   "outputs": [
    {
     "data": {
      "text/html": [
       "<div>\n",
       "<style scoped>\n",
       "    .dataframe tbody tr th:only-of-type {\n",
       "        vertical-align: middle;\n",
       "    }\n",
       "\n",
       "    .dataframe tbody tr th {\n",
       "        vertical-align: top;\n",
       "    }\n",
       "\n",
       "    .dataframe thead th {\n",
       "        text-align: right;\n",
       "    }\n",
       "</style>\n",
       "<table border=\"1\" class=\"dataframe\">\n",
       "  <thead>\n",
       "    <tr style=\"text-align: right;\">\n",
       "      <th></th>\n",
       "      <th>Neighborhood</th>\n",
       "      <th>2013</th>\n",
       "      <th>2014</th>\n",
       "      <th>2015</th>\n",
       "      <th>2016</th>\n",
       "      <th>2017</th>\n",
       "      <th>2018</th>\n",
       "    </tr>\n",
       "    <tr>\n",
       "      <th>Neighborhood ID</th>\n",
       "      <th></th>\n",
       "      <th></th>\n",
       "      <th></th>\n",
       "      <th></th>\n",
       "      <th></th>\n",
       "      <th></th>\n",
       "      <th></th>\n",
       "    </tr>\n",
       "  </thead>\n",
       "  <tbody>\n",
       "    <tr>\n",
       "      <th>075</th>\n",
       "      <td>Knittkuhl*</td>\n",
       "      <td>X</td>\n",
       "      <td>2055</td>\n",
       "      <td>2048</td>\n",
       "      <td>2078</td>\n",
       "      <td>2091</td>\n",
       "      <td>2097</td>\n",
       "    </tr>\n",
       "  </tbody>\n",
       "</table>\n",
       "</div>"
      ],
      "text/plain": [
       "                Neighborhood 2013  2014  2015  2016  2017  2018\n",
       "Neighborhood ID                                                \n",
       "075               Knittkuhl*    X  2055  2048  2078  2091  2097"
      ]
     },
     "execution_count": 17,
     "metadata": {},
     "output_type": "execute_result"
    }
   ],
   "source": [
    "population['2013'] = population['2013'].map(lambda x: int(x) if x.isdigit() else x)\n",
    "population[population['2013'].map(lambda x: type(x).__name__ == 'str')]"
   ]
  },
  {
   "cell_type": "code",
   "execution_count": 18,
   "metadata": {
    "Collapsed": "false"
   },
   "outputs": [
    {
     "data": {
      "text/html": [
       "<div>\n",
       "<style scoped>\n",
       "    .dataframe tbody tr th:only-of-type {\n",
       "        vertical-align: middle;\n",
       "    }\n",
       "\n",
       "    .dataframe tbody tr th {\n",
       "        vertical-align: top;\n",
       "    }\n",
       "\n",
       "    .dataframe thead th {\n",
       "        text-align: right;\n",
       "    }\n",
       "</style>\n",
       "<table border=\"1\" class=\"dataframe\">\n",
       "  <thead>\n",
       "    <tr style=\"text-align: right;\">\n",
       "      <th></th>\n",
       "      <th>Neighborhood</th>\n",
       "      <th>2013</th>\n",
       "      <th>2014</th>\n",
       "      <th>2015</th>\n",
       "      <th>2016</th>\n",
       "      <th>2017</th>\n",
       "      <th>2018</th>\n",
       "    </tr>\n",
       "    <tr>\n",
       "      <th>Neighborhood ID</th>\n",
       "      <th></th>\n",
       "      <th></th>\n",
       "      <th></th>\n",
       "      <th></th>\n",
       "      <th></th>\n",
       "      <th></th>\n",
       "      <th></th>\n",
       "    </tr>\n",
       "  </thead>\n",
       "  <tbody>\n",
       "    <tr>\n",
       "      <th>074</th>\n",
       "      <td>Hubbelrath*</td>\n",
       "      <td>3646</td>\n",
       "      <td>1571</td>\n",
       "      <td>1535</td>\n",
       "      <td>1722</td>\n",
       "      <td>1645</td>\n",
       "      <td>1612</td>\n",
       "    </tr>\n",
       "    <tr>\n",
       "      <th>075</th>\n",
       "      <td>Knittkuhl*</td>\n",
       "      <td>X</td>\n",
       "      <td>2055</td>\n",
       "      <td>2048</td>\n",
       "      <td>2078</td>\n",
       "      <td>2091</td>\n",
       "      <td>2097</td>\n",
       "    </tr>\n",
       "  </tbody>\n",
       "</table>\n",
       "</div>"
      ],
      "text/plain": [
       "                Neighborhood  2013  2014  2015  2016  2017  2018\n",
       "Neighborhood ID                                                 \n",
       "074              Hubbelrath*  3646  1571  1535  1722  1645  1612\n",
       "075               Knittkuhl*     X  2055  2048  2078  2091  2097"
      ]
     },
     "execution_count": 18,
     "metadata": {},
     "output_type": "execute_result"
    }
   ],
   "source": [
    "population.loc[['074', '075'],:]"
   ]
  },
  {
   "cell_type": "markdown",
   "metadata": {
    "Collapsed": "false"
   },
   "source": [
    "According to the data description on opendata.duesseldorf.de, in march 2014 a part of neighborhood '074 Hubbelrath' was separated and assigned to new neighborhood '075 Knittkuhl'. To be able to use the 2013 data for all neighborhoods, the popultion of '074 Hubbelrath' will be distributed to '075 Knittkuhl' according to shares in 2014."
   ]
  },
  {
   "cell_type": "code",
   "execution_count": 19,
   "metadata": {
    "Collapsed": "false"
   },
   "outputs": [],
   "source": [
    "# Extract values for both neighborhoods in 2014\n",
    "neighborhood_split = population.sort_index(ascending=True).loc[['074', '075'], '2014'].values\n",
    "# Calculate the share of 'Knittkuhl'\n",
    "knittkuhl_share = neighborhood_split[1] / neighborhood_split.sum()\n",
    "\n",
    "# Overwrite the values for 2013 for both neighborhoods\n",
    "population.at['075', '2013'] = int(population.at['074', '2013'] * knittkuhl_share)\n",
    "population.at['074', '2013'] = population.at['074', '2013'] - population.at['075', '2013']\n",
    "\n",
    "# Change data type of column to integer\n",
    "population['2013'] = population['2013'].astype('int64')"
   ]
  },
  {
   "cell_type": "code",
   "execution_count": 20,
   "metadata": {
    "Collapsed": "false"
   },
   "outputs": [
    {
     "data": {
      "text/html": [
       "<div>\n",
       "<style scoped>\n",
       "    .dataframe tbody tr th:only-of-type {\n",
       "        vertical-align: middle;\n",
       "    }\n",
       "\n",
       "    .dataframe tbody tr th {\n",
       "        vertical-align: top;\n",
       "    }\n",
       "\n",
       "    .dataframe thead th {\n",
       "        text-align: right;\n",
       "    }\n",
       "</style>\n",
       "<table border=\"1\" class=\"dataframe\">\n",
       "  <thead>\n",
       "    <tr style=\"text-align: right;\">\n",
       "      <th></th>\n",
       "      <th>Neighborhood</th>\n",
       "      <th>2013</th>\n",
       "      <th>2014</th>\n",
       "      <th>2015</th>\n",
       "      <th>2016</th>\n",
       "      <th>2017</th>\n",
       "      <th>2018</th>\n",
       "    </tr>\n",
       "    <tr>\n",
       "      <th>Neighborhood ID</th>\n",
       "      <th></th>\n",
       "      <th></th>\n",
       "      <th></th>\n",
       "      <th></th>\n",
       "      <th></th>\n",
       "      <th></th>\n",
       "      <th></th>\n",
       "    </tr>\n",
       "  </thead>\n",
       "  <tbody>\n",
       "    <tr>\n",
       "      <th>074</th>\n",
       "      <td>Hubbelrath*</td>\n",
       "      <td>1580</td>\n",
       "      <td>1571</td>\n",
       "      <td>1535</td>\n",
       "      <td>1722</td>\n",
       "      <td>1645</td>\n",
       "      <td>1612</td>\n",
       "    </tr>\n",
       "    <tr>\n",
       "      <th>075</th>\n",
       "      <td>Knittkuhl*</td>\n",
       "      <td>2066</td>\n",
       "      <td>2055</td>\n",
       "      <td>2048</td>\n",
       "      <td>2078</td>\n",
       "      <td>2091</td>\n",
       "      <td>2097</td>\n",
       "    </tr>\n",
       "  </tbody>\n",
       "</table>\n",
       "</div>"
      ],
      "text/plain": [
       "                Neighborhood  2013  2014  2015  2016  2017  2018\n",
       "Neighborhood ID                                                 \n",
       "074              Hubbelrath*  1580  1571  1535  1722  1645  1612\n",
       "075               Knittkuhl*  2066  2055  2048  2078  2091  2097"
      ]
     },
     "execution_count": 20,
     "metadata": {},
     "output_type": "execute_result"
    }
   ],
   "source": [
    "population.loc[['074', '075'],:]"
   ]
  },
  {
   "cell_type": "markdown",
   "metadata": {
    "Collapsed": "false"
   },
   "source": [
    "### Data Analysis and Preparation"
   ]
  },
  {
   "cell_type": "markdown",
   "metadata": {
    "Collapsed": "false"
   },
   "source": [
    "Calculate absolute and relative change in size of population from 2014 to 2018."
   ]
  },
  {
   "cell_type": "code",
   "execution_count": null,
   "metadata": {
    "Collapsed": "false"
   },
   "outputs": [],
   "source": [
    "population = (population.assign(**{'2013-2018 (abs)': lambda x: x['2018'] - x['2013']})\n",
    "                        .assign(**{'2013-2018 (perc)': lambda x: round(x['2013-2018 (abs)'] / x['2013'] * 100, 1)})\n",
    "             )\n",
    "\n",
    "population.head()"
   ]
  },
  {
   "cell_type": "code",
   "execution_count": null,
   "metadata": {
    "Collapsed": "false"
   },
   "outputs": [],
   "source": [
    "population['2018'].plot(kind='hist');\n",
    "plt.title('Population of Neighborhoods in 2018', fontdict={'fontsize': 16});"
   ]
  },
  {
   "cell_type": "code",
   "execution_count": null,
   "metadata": {
    "Collapsed": "false"
   },
   "outputs": [],
   "source": [
    "fig = plt.figure(figsize=(20,5))\n",
    "ax0 = fig.add_subplot(121)\n",
    "ax1 = fig.add_subplot(122)\n",
    "\n",
    "population['2013-2018 (abs)'].plot(kind='hist', bins=20, ax=ax0)\n",
    "population['2013-2018 (perc)'].plot(kind='hist', bins=20, yticks=range(0, 19, 2), ax=ax1)\n",
    "ax0.set_title('Change of Population per Neighborhood 2013-2018 (abs)', fontdict={'fontsize': 16})\n",
    "ax1.set_title('Change of Population per Neighborhood 2013-2018 (perc)', fontdict={'fontsize': 16});"
   ]
  },
  {
   "cell_type": "code",
   "execution_count": null,
   "metadata": {
    "Collapsed": "false"
   },
   "outputs": [],
   "source": [
    "sns.set()\n",
    "change = population[['Neighborhood', '2013-2018 (abs)', '2013-2018 (perc)']].sort_values(by='2013-2018 (abs)')\n",
    "pos_neg = (population['2013-2018 (perc)'] > 0).map({True: 'g', False: 'r'})\n",
    "\n",
    "fig = plt.figure(figsize=(20,12))\n",
    "\n",
    "ax0 = fig.add_subplot(211)\n",
    "ax1 = fig.add_subplot(212)\n",
    "fig.subplots_adjust(hspace=0.45)\n",
    "sns.barplot(data=change, x='Neighborhood', y='2013-2018 (abs)', hue=pos_neg, dodge=False, ax=ax0)\n",
    "sns.barplot(data=change, x='Neighborhood', y='2013-2018 (perc)', hue=pos_neg, dodge=False, ax=ax1)\n",
    "ax0.set_title('Change of Population per Neighborhood 2013-2018 (abs)', fontdict={'fontsize': 16})\n",
    "ax0.set_xlabel('')\n",
    "ax0.legend_.remove()\n",
    "ax0.tick_params(axis='x', rotation=90)\n",
    "ax1.set_title('Change of Population per Neighborhood 2013-2018 (perc)', fontdict={'fontsize': 16})\n",
    "ax1.set_xlabel('')\n",
    "ax1.legend_.remove()\n",
    "ax1.tick_params(axis='x', rotation=90);"
   ]
  },
  {
   "cell_type": "code",
   "execution_count": null,
   "metadata": {
    "Collapsed": "false"
   },
   "outputs": [],
   "source": [
    "sns.set()\n",
    "change = population[['Neighborhood', '2013-2018 (abs)', '2013-2018 (perc)']].sort_values(by='2013-2018 (abs)')\n",
    "pos_neg = (population['2013-2018 (perc)'] > 0).map({True: 'g', False: 'r'})\n",
    "\n",
    "fig = plt.figure(figsize=(20,7))\n",
    "\n",
    "ax0 = fig.add_subplot(121)\n",
    "ax1 = fig.add_subplot(122)\n",
    "sns.boxplot(data=change, y='2013-2018 (abs)', ax=ax0)\n",
    "sns.boxplot(data=change, y='2013-2018 (perc)', ax=ax1)\n",
    "ax0.set_xlabel('')\n",
    "ax0.tick_params(axis='x', rotation=90)\n",
    "ax1.set_xlabel('')\n",
    "ax1.tick_params(axis='x', rotation=90);"
   ]
  },
  {
   "cell_type": "code",
   "execution_count": null,
   "metadata": {
    "Collapsed": "false"
   },
   "outputs": [],
   "source": [
    "stats_perc = sm.stats.weightstats.DescrStatsW(population['2013-2018 (perc)'])\n",
    "print(f'Mean: {stats_perc.mean}')\n",
    "print(f'Confidence Interval: {stats_perc.tconfint_mean(alpha=0.05)}')\n",
    "print(f'test of Null hypothesis for mean: {stats_perc.ttest_mean(0)}')"
   ]
  },
  {
   "cell_type": "code",
   "execution_count": null,
   "metadata": {
    "Collapsed": "false"
   },
   "outputs": [],
   "source": [
    "dus_data_geo[(dus_data_geo['Neighborhood'] == 'Unterbilk') | (dus_data_geo['Neighborhood'] == 'Hafen')]"
   ]
  },
  {
   "cell_type": "markdown",
   "metadata": {
    "Collapsed": "false"
   },
   "source": [
    "## Social areas"
   ]
  },
  {
   "cell_type": "markdown",
   "metadata": {
    "Collapsed": "false"
   },
   "source": [
    "### Collect initial data"
   ]
  },
  {
   "cell_type": "code",
   "execution_count": null,
   "metadata": {
    "Collapsed": "false"
   },
   "outputs": [],
   "source": [
    "# Download GeoJSON for geo coordinates of social areas in Duesseldorf\n",
    "!wget --quiet 'https://opendata.duesseldorf.de/sites/default/files/Sozialr%C3%A4ume_WGS84_4326.geojson' -O dus_social_areas.geojson"
   ]
  },
  {
   "cell_type": "markdown",
   "metadata": {
    "Collapsed": "false"
   },
   "source": [
    "### Describe, explore data and verify quality"
   ]
  },
  {
   "cell_type": "code",
   "execution_count": 20,
   "metadata": {
    "Collapsed": "false"
   },
   "outputs": [
    {
     "name": "stdout",
     "output_type": "stream",
     "text": [
      "Shape:\n",
      "(179, 6)\n",
      "\n",
      "Head:\n"
     ]
    },
    {
     "data": {
      "text/html": [
       "<div>\n",
       "<style scoped>\n",
       "    .dataframe tbody tr th:only-of-type {\n",
       "        vertical-align: middle;\n",
       "    }\n",
       "\n",
       "    .dataframe tbody tr th {\n",
       "        vertical-align: top;\n",
       "    }\n",
       "\n",
       "    .dataframe thead th {\n",
       "        text-align: right;\n",
       "    }\n",
       "</style>\n",
       "<table border=\"1\" class=\"dataframe\">\n",
       "  <thead>\n",
       "    <tr style=\"text-align: right;\">\n",
       "      <th></th>\n",
       "      <th>OBJEKT</th>\n",
       "      <th>STADTBEZ</th>\n",
       "      <th>Sozialraum7</th>\n",
       "      <th>Sozialraum4</th>\n",
       "      <th>Quelle</th>\n",
       "      <th>geometry</th>\n",
       "    </tr>\n",
       "  </thead>\n",
       "  <tbody>\n",
       "    <tr>\n",
       "      <th>0</th>\n",
       "      <td>Region</td>\n",
       "      <td>5</td>\n",
       "      <td>506053</td>\n",
       "      <td>506</td>\n",
       "      <td>Amt 12/2</td>\n",
       "      <td>POLYGON ((6.73981 51.30221, 6.73912 51.30235, ...</td>\n",
       "    </tr>\n",
       "    <tr>\n",
       "      <th>1</th>\n",
       "      <td>Region</td>\n",
       "      <td>4</td>\n",
       "      <td>409043</td>\n",
       "      <td>409</td>\n",
       "      <td>Amt 12/2</td>\n",
       "      <td>POLYGON ((6.72762 51.24037, 6.72785 51.24064, ...</td>\n",
       "    </tr>\n",
       "    <tr>\n",
       "      <th>2</th>\n",
       "      <td>Region</td>\n",
       "      <td>4</td>\n",
       "      <td>411043</td>\n",
       "      <td>411</td>\n",
       "      <td>Amt 12/2</td>\n",
       "      <td>POLYGON ((6.72426 51.24696, 6.72440 51.24771, ...</td>\n",
       "    </tr>\n",
       "    <tr>\n",
       "      <th>3</th>\n",
       "      <td>Region</td>\n",
       "      <td>6</td>\n",
       "      <td>604063</td>\n",
       "      <td>604</td>\n",
       "      <td>Amt 12/2</td>\n",
       "      <td>POLYGON ((6.82758 51.26707, 6.82614 51.26850, ...</td>\n",
       "    </tr>\n",
       "    <tr>\n",
       "      <th>4</th>\n",
       "      <td>Region</td>\n",
       "      <td>6</td>\n",
       "      <td>607064</td>\n",
       "      <td>607</td>\n",
       "      <td>Amt 12/2</td>\n",
       "      <td>POLYGON ((6.80817 51.25976, 6.80728 51.26016, ...</td>\n",
       "    </tr>\n",
       "  </tbody>\n",
       "</table>\n",
       "</div>"
      ],
      "text/plain": [
       "   OBJEKT  STADTBEZ  Sozialraum7  Sozialraum4    Quelle  \\\n",
       "0  Region         5       506053          506  Amt 12/2   \n",
       "1  Region         4       409043          409  Amt 12/2   \n",
       "2  Region         4       411043          411  Amt 12/2   \n",
       "3  Region         6       604063          604  Amt 12/2   \n",
       "4  Region         6       607064          607  Amt 12/2   \n",
       "\n",
       "                                            geometry  \n",
       "0  POLYGON ((6.73981 51.30221, 6.73912 51.30235, ...  \n",
       "1  POLYGON ((6.72762 51.24037, 6.72785 51.24064, ...  \n",
       "2  POLYGON ((6.72426 51.24696, 6.72440 51.24771, ...  \n",
       "3  POLYGON ((6.82758 51.26707, 6.82614 51.26850, ...  \n",
       "4  POLYGON ((6.80817 51.25976, 6.80728 51.26016, ...  "
      ]
     },
     "metadata": {},
     "output_type": "display_data"
    },
    {
     "name": "stdout",
     "output_type": "stream",
     "text": [
      "\n",
      "!!! 1 column(s) with geometry data have been removed and are not considered in \"Info\" and \"Description\": ['geometry'] !!!\n",
      "\n",
      "Info:\n",
      "<class 'geopandas.geodataframe.GeoDataFrame'>\n",
      "RangeIndex: 179 entries, 0 to 178\n",
      "Data columns (total 5 columns):\n",
      "OBJEKT         179 non-null object\n",
      "STADTBEZ       179 non-null int64\n",
      "Sozialraum7    179 non-null int64\n",
      "Sozialraum4    179 non-null int64\n",
      "Quelle         179 non-null object\n",
      "dtypes: int64(3), object(2)\n",
      "memory usage: 7.1+ KB\n"
     ]
    },
    {
     "data": {
      "text/plain": [
       "None"
      ]
     },
     "metadata": {},
     "output_type": "display_data"
    },
    {
     "name": "stdout",
     "output_type": "stream",
     "text": [
      "\n",
      "Description:\n"
     ]
    },
    {
     "data": {
      "text/html": [
       "<div>\n",
       "<style scoped>\n",
       "    .dataframe tbody tr th:only-of-type {\n",
       "        vertical-align: middle;\n",
       "    }\n",
       "\n",
       "    .dataframe tbody tr th {\n",
       "        vertical-align: top;\n",
       "    }\n",
       "\n",
       "    .dataframe thead th {\n",
       "        text-align: right;\n",
       "    }\n",
       "</style>\n",
       "<table border=\"1\" class=\"dataframe\">\n",
       "  <thead>\n",
       "    <tr style=\"text-align: right;\">\n",
       "      <th></th>\n",
       "      <th>OBJEKT</th>\n",
       "      <th>STADTBEZ</th>\n",
       "      <th>Sozialraum7</th>\n",
       "      <th>Sozialraum4</th>\n",
       "      <th>Quelle</th>\n",
       "    </tr>\n",
       "  </thead>\n",
       "  <tbody>\n",
       "    <tr>\n",
       "      <th>count</th>\n",
       "      <td>179</td>\n",
       "      <td>179.000000</td>\n",
       "      <td>1.790000e+02</td>\n",
       "      <td>179.000000</td>\n",
       "      <td>179</td>\n",
       "    </tr>\n",
       "    <tr>\n",
       "      <th>unique</th>\n",
       "      <td>1</td>\n",
       "      <td>NaN</td>\n",
       "      <td>NaN</td>\n",
       "      <td>NaN</td>\n",
       "      <td>1</td>\n",
       "    </tr>\n",
       "    <tr>\n",
       "      <th>top</th>\n",
       "      <td>Region</td>\n",
       "      <td>NaN</td>\n",
       "      <td>NaN</td>\n",
       "      <td>NaN</td>\n",
       "      <td>Amt 12/2</td>\n",
       "    </tr>\n",
       "    <tr>\n",
       "      <th>freq</th>\n",
       "      <td>179</td>\n",
       "      <td>NaN</td>\n",
       "      <td>NaN</td>\n",
       "      <td>NaN</td>\n",
       "      <td>179</td>\n",
       "    </tr>\n",
       "    <tr>\n",
       "      <th>mean</th>\n",
       "      <td>NaN</td>\n",
       "      <td>5.536313</td>\n",
       "      <td>5.553816e+05</td>\n",
       "      <td>563.882682</td>\n",
       "      <td>NaN</td>\n",
       "    </tr>\n",
       "    <tr>\n",
       "      <th>std</th>\n",
       "      <td>NaN</td>\n",
       "      <td>2.719586</td>\n",
       "      <td>2.814273e+05</td>\n",
       "      <td>272.555721</td>\n",
       "      <td>NaN</td>\n",
       "    </tr>\n",
       "    <tr>\n",
       "      <th>min</th>\n",
       "      <td>NaN</td>\n",
       "      <td>1.000000</td>\n",
       "      <td>0.000000e+00</td>\n",
       "      <td>101.000000</td>\n",
       "      <td>NaN</td>\n",
       "    </tr>\n",
       "    <tr>\n",
       "      <th>25%</th>\n",
       "      <td>NaN</td>\n",
       "      <td>3.000000</td>\n",
       "      <td>3.135335e+05</td>\n",
       "      <td>316.500000</td>\n",
       "      <td>NaN</td>\n",
       "    </tr>\n",
       "    <tr>\n",
       "      <th>50%</th>\n",
       "      <td>NaN</td>\n",
       "      <td>6.000000</td>\n",
       "      <td>6.070640e+05</td>\n",
       "      <td>608.000000</td>\n",
       "      <td>NaN</td>\n",
       "    </tr>\n",
       "    <tr>\n",
       "      <th>75%</th>\n",
       "      <td>NaN</td>\n",
       "      <td>8.000000</td>\n",
       "      <td>8.065810e+05</td>\n",
       "      <td>806.500000</td>\n",
       "      <td>NaN</td>\n",
       "    </tr>\n",
       "    <tr>\n",
       "      <th>max</th>\n",
       "      <td>NaN</td>\n",
       "      <td>10.000000</td>\n",
       "      <td>1.009102e+06</td>\n",
       "      <td>1009.000000</td>\n",
       "      <td>NaN</td>\n",
       "    </tr>\n",
       "  </tbody>\n",
       "</table>\n",
       "</div>"
      ],
      "text/plain": [
       "        OBJEKT    STADTBEZ   Sozialraum7  Sozialraum4    Quelle\n",
       "count      179  179.000000  1.790000e+02   179.000000       179\n",
       "unique       1         NaN           NaN          NaN         1\n",
       "top     Region         NaN           NaN          NaN  Amt 12/2\n",
       "freq       179         NaN           NaN          NaN       179\n",
       "mean       NaN    5.536313  5.553816e+05   563.882682       NaN\n",
       "std        NaN    2.719586  2.814273e+05   272.555721       NaN\n",
       "min        NaN    1.000000  0.000000e+00   101.000000       NaN\n",
       "25%        NaN    3.000000  3.135335e+05   316.500000       NaN\n",
       "50%        NaN    6.000000  6.070640e+05   608.000000       NaN\n",
       "75%        NaN    8.000000  8.065810e+05   806.500000       NaN\n",
       "max        NaN   10.000000  1.009102e+06  1009.000000       NaN"
      ]
     },
     "metadata": {},
     "output_type": "display_data"
    }
   ],
   "source": [
    "social_orig = gpd.read_file('dus_social_areas.geojson')\n",
    "\n",
    "describe_data(social_orig)"
   ]
  },
  {
   "cell_type": "markdown",
   "metadata": {
    "Collapsed": "false"
   },
   "source": [
    "### "
   ]
  },
  {
   "cell_type": "markdown",
   "metadata": {
    "Collapsed": "false"
   },
   "source": [
    "## Venues"
   ]
  },
  {
   "cell_type": "markdown",
   "metadata": {
    "Collapsed": "false"
   },
   "source": [
    "### Collect initial data"
   ]
  },
  {
   "cell_type": "markdown",
   "metadata": {
    "Collapsed": "false"
   },
   "source": [
    "#### Hierarchy of venue categories"
   ]
  },
  {
   "cell_type": "code",
   "execution_count": 15,
   "metadata": {
    "Collapsed": "false"
   },
   "outputs": [],
   "source": [
    "url = 'https://api.foursquare.com/v2/venues/categories'\n",
    "params = dict(client_id=os.getenv('FS_CLIENT_ID'),\n",
    "              client_secret=os.getenv('FS_CLIENT_SECRET'),\n",
    "              v='20190106'\n",
    "             )\n",
    "\n",
    "results = requests.get(url=url, params=params).json()['response']['categories']"
   ]
  },
  {
   "cell_type": "code",
   "execution_count": null,
   "metadata": {
    "Collapsed": "false"
   },
   "outputs": [],
   "source": [
    "def extract_rows(category, new_data, next_level, level):\n",
    "    \n",
    "    if len(category['categories']) > 0:\n",
    "        new_data.extend([{f'{level}_ID': category['id'],\n",
    "                          f'{level}': category['shortName'],\n",
    "                          f'{level}_SUB_ID': sub_cat['id']} for sub_cat in category['categories']\n",
    "                        ])\n",
    "        next_level.extend(category['categories'])\n",
    "    else:\n",
    "        new_data.append({f'{level}_ID': category['id'],\n",
    "                         f'{level}': category['shortName'],\n",
    "                         f'{level}_SUB_ID': np.nan\n",
    "                        })\n",
    "    \n",
    "    return (new_data, next_level)"
   ]
  },
  {
   "cell_type": "code",
   "execution_count": null,
   "metadata": {
    "Collapsed": "false"
   },
   "outputs": [],
   "source": [
    "def expand_df(df, df_new_data, level):\n",
    "    \n",
    "    if level == 1:\n",
    "        df = df_new_data\n",
    "    else:\n",
    "        df = df.merge(df_new_data,\n",
    "                      how='left',\n",
    "                      left_on=df.columns[-1],\n",
    "                      right_on=df_new_data.columns[0]\n",
    "                     )\n",
    "    \n",
    "    return df"
   ]
  },
  {
   "cell_type": "code",
   "execution_count": null,
   "metadata": {
    "Collapsed": "false"
   },
   "outputs": [],
   "source": [
    "def extract_categories(data, level, df=pd.DataFrame()):\n",
    "    \n",
    "    new_data = []\n",
    "    next_level = []\n",
    "    for category in data:\n",
    "        new_data, next_level = extract_rows(category, new_data, next_level, level)\n",
    "    \n",
    "    df_new_data = pd.DataFrame([row for row in new_data])\n",
    "    df = expand_df(df, df_new_data, level)\n",
    "    \n",
    "    if len(next_level) > 0:\n",
    "        df = extract_categories(next_level, (level+1), df)\n",
    "    \n",
    "    columns_to_drop = df.columns[df.columns.str.contains('SUB_ID')]\n",
    "    df = df.drop(columns_to_drop, axis=1)\n",
    "    \n",
    "    return df\n"
   ]
  },
  {
   "cell_type": "code",
   "execution_count": null,
   "metadata": {
    "Collapsed": "false"
   },
   "outputs": [],
   "source": [
    "start_level = 1\n",
    "\n",
    "foursquare_cat = extract_categories(results, start_level)\n",
    "\n",
    "describe_data(foursquare_cat)"
   ]
  },
  {
   "cell_type": "markdown",
   "metadata": {
    "Collapsed": "false"
   },
   "source": [
    "#### Venues"
   ]
  },
  {
   "cell_type": "code",
   "execution_count": null,
   "metadata": {
    "Collapsed": "false"
   },
   "outputs": [],
   "source": [
    "# Build one DataFrame with top venues per neighborhood\n",
    "def getNearbyVenues(neighborhoods, latitudes, longitudes, radius=500):\n",
    "    \n",
    "    venues_list = []\n",
    "    # Iterate through list of neighborhoods\n",
    "    for neighborhood, lat, lng in zip(neighborhoods, latitudes, longitudes):\n",
    "        # create the API request URL\n",
    "        url = 'https://api.foursquare.com/v2/venues/explore'\n",
    "        params = dict(client_id=os.getenv('FS_CLIENT_ID'),\n",
    "                      client_secret=os.getenv('FS_CLIENT_SECRET'),\n",
    "                      v='20190106',\n",
    "                      ll=f'{lat},{lng}',\n",
    "                      radius=radius,\n",
    "                      limit=100\n",
    "                     )\n",
    "\n",
    "        # make the GET request\n",
    "        results = requests.get(url=url, params=params).json()\n",
    "        try:\n",
    "            results = results['response']['groups'][0]['items']\n",
    "\n",
    "        except:\n",
    "            print('Something went wrong with the query. Here are some information:')\n",
    "            print(f'Neighborhood: {neighborhood}, lat,lng: {lat},{lng}')\n",
    "            print(results)\n",
    "        # List of list with only relevant information per venue\n",
    "        # Multiple entries per venue, if multiple categories have been assigned\n",
    "        for v in results: \n",
    "            venues_list.append([(neighborhood,\n",
    "                                 lat,\n",
    "                                 lng,\n",
    "                                 v['venue']['name'],\n",
    "                                 v['venue']['location']['lat'],\n",
    "                                 v['venue']['location']['lng'],\n",
    "                                 n['id']) for n in v['venue']['categories']]\n",
    "                              )\n",
    "\n",
    "        # Create DataFrame\n",
    "        columns = ['Neighborhood ID', 'Neighborhood Latitude', 'Neighborhood Longitude',\n",
    "                   'Venue', 'Venue Latitude', 'Venue Longitude', 'Venue Category ID']\n",
    "        nearby_venues = pd.DataFrame([item for venue_list in venues_list for item in venue_list])\n",
    "        nearby_venues.columns = columns\n",
    "        nearby_venues.set_index('Neighborhood ID')\n",
    "    \n",
    "    return nearby_venues"
   ]
  },
  {
   "cell_type": "code",
   "execution_count": null,
   "metadata": {
    "Collapsed": "false"
   },
   "outputs": [],
   "source": [
    "# Create DataFrame with one row per venue returned matching the neighborhood it belongs to \n",
    "dus_venues = getNearbyVenues(neighborhoods=neighborhoods['Neighborhood ID'],\n",
    "                             latitudes = dus_data_geo['Latitude'],\n",
    "                             longitudes = dus_data_geo['Longitude'],\n",
    "                             radius=700\n",
    "                            )\n",
    "\n",
    "describe_data(dus_venues)"
   ]
  },
  {
   "cell_type": "markdown",
   "metadata": {
    "Collapsed": "false"
   },
   "source": [
    "Pickle results to continue working on the data at a later point in time."
   ]
  },
  {
   "cell_type": "code",
   "execution_count": null,
   "metadata": {
    "Collapsed": "false"
   },
   "outputs": [],
   "source": [
    "dus_venues.to_pickle('dus_venues.pkl', compression='gzip')"
   ]
  },
  {
   "cell_type": "code",
   "execution_count": null,
   "metadata": {
    "Collapsed": "false"
   },
   "outputs": [],
   "source": [
    "dus_venues = pd.read_pickle('dus_venues.pkl', compression='gzip')"
   ]
  },
  {
   "cell_type": "markdown",
   "metadata": {
    "Collapsed": "false"
   },
   "source": [
    "### Describe, explore data and verify quality"
   ]
  },
  {
   "cell_type": "markdown",
   "metadata": {
    "Collapsed": "false"
   },
   "source": [
    "#### Hierarchy of venue categories"
   ]
  },
  {
   "cell_type": "code",
   "execution_count": null,
   "metadata": {
    "Collapsed": "false"
   },
   "outputs": [],
   "source": [
    "columns = foursquare_cat.columns[~foursquare_cat.columns.str.contains('_ID')]\n",
    "print('Number of categories per category level:')\n",
    "print('\\n'.join([f'Level {x}: {len(foursquare_cat[x].unique())}' for x in columns]))"
   ]
  },
  {
   "cell_type": "markdown",
   "metadata": {
    "Collapsed": "false"
   },
   "source": [
    "Not all level 2 categories also have a level 3 category. Therefore assign all categories to level 2, as all venues can be categorized on this level."
   ]
  },
  {
   "cell_type": "markdown",
   "metadata": {
    "Collapsed": "false"
   },
   "source": [
    "#### Create dictionary to look up Category LVL of a Category ID"
   ]
  },
  {
   "cell_type": "code",
   "execution_count": null,
   "metadata": {
    "Collapsed": "false"
   },
   "outputs": [],
   "source": [
    "def create_lvl_dict(df):\n",
    "    \n",
    "    levels_dict = {}\n",
    "    \n",
    "    lvl = len(df.columns) // 2\n",
    "    levels = [str(i) for i in range(1, (lvl+1))]\n",
    "    for level in levels:\n",
    "        column = f'{level}_ID'\n",
    "        cat_id = list(df[column][df[column].notnull()].unique())\n",
    "        lvl_list = [level] * len(cat_id)\n",
    "        levels_dict.update(dict(zip(cat_id, lvl_list)))\n",
    "    \n",
    "    return levels_dict\n",
    "        "
   ]
  },
  {
   "cell_type": "code",
   "execution_count": null,
   "metadata": {
    "Collapsed": "false"
   },
   "outputs": [],
   "source": [
    "cat_lvl = create_lvl_dict(foursquare_cat)"
   ]
  },
  {
   "cell_type": "markdown",
   "metadata": {
    "Collapsed": "false"
   },
   "source": [
    "#### Venues"
   ]
  },
  {
   "cell_type": "markdown",
   "metadata": {
    "Collapsed": "false"
   },
   "source": [
    "As defined earlier target is to map all venues to a category on the second level. Before this it is required to analyse the initial category level assignments."
   ]
  },
  {
   "cell_type": "code",
   "execution_count": null,
   "metadata": {
    "Collapsed": "false"
   },
   "outputs": [],
   "source": [
    "kwargs = {'Venue Category Lvl': dus_venues['Venue Category ID'].map(lambda x: cat_lvl[x])}\n",
    "\n",
    "dus_venues_analysis = (dus_venues.assign(**kwargs))\n",
    "dus_venues_analysis['Venue Category Lvl'].astype('int64').value_counts()"
   ]
  },
  {
   "cell_type": "markdown",
   "metadata": {
    "Collapsed": "false"
   },
   "source": [
    "One venue has been assigned to category level 1 and therefore needs to be assigned manually to a category at level 2."
   ]
  },
  {
   "cell_type": "code",
   "execution_count": null,
   "metadata": {
    "Collapsed": "false"
   },
   "outputs": [],
   "source": [
    "dus_venues_analysis[dus_venues_analysis['Venue Category Lvl'] == '1']"
   ]
  },
  {
   "cell_type": "markdown",
   "metadata": {
    "Collapsed": "false"
   },
   "source": [
    "The 'Düssel' is a canal in the midst of the city and thus will be assigned to this category."
   ]
  },
  {
   "cell_type": "code",
   "execution_count": null,
   "metadata": {
    "Collapsed": "false"
   },
   "outputs": [],
   "source": [
    "# Get category id for category 'Canal'\n",
    "canal_id = foursquare_cat['2_ID'][foursquare_cat['2'] == 'Canal'].values[0]\n",
    "\n",
    "# Assign this category_id to venue 'Düssel'\n",
    "# dus_venues.loc[dus_venues['Venue'] == 'Düssel', 'Venue Category ID'] = canal_id\n",
    "dus_venues.at[579, 'Venue Category ID'] = canal_id"
   ]
  },
  {
   "cell_type": "code",
   "execution_count": null,
   "metadata": {
    "Collapsed": "false"
   },
   "outputs": [],
   "source": [
    "dus_venues[dus_venues['Venue'] == 'Düssel']"
   ]
  },
  {
   "cell_type": "markdown",
   "metadata": {
    "Collapsed": "false"
   },
   "source": [
    "# Data Preparation"
   ]
  },
  {
   "cell_type": "markdown",
   "metadata": {
    "Collapsed": "false"
   },
   "source": [
    "## Merge neighborhood data with population data"
   ]
  },
  {
   "cell_type": "code",
   "execution_count": null,
   "metadata": {
    "Collapsed": "false"
   },
   "outputs": [],
   "source": [
    "dus_data_full = neighborhoods.join(population)\n",
    "\n",
    "dus_data_full.head()"
   ]
  },
  {
   "cell_type": "code",
   "execution_count": null,
   "metadata": {
    "Collapsed": "false"
   },
   "outputs": [],
   "source": [
    "type(dus_data_full)"
   ]
  },
  {
   "cell_type": "markdown",
   "metadata": {
    "Collapsed": "false"
   },
   "source": [
    "Create GeoDataFrame for neighborhood data, incl. centroids for each neighborhood."
   ]
  },
  {
   "cell_type": "code",
   "execution_count": null,
   "metadata": {
    "Collapsed": "false"
   },
   "outputs": [],
   "source": [
    "dus_data = pd.DataFrame(dus_data_full.drop('Neighborhood Geometry', axis=1))"
   ]
  },
  {
   "cell_type": "code",
   "execution_count": null,
   "metadata": {
    "Collapsed": "false"
   },
   "outputs": [],
   "source": [
    "dus_data_geo = (gpd.GeoDataFrame(dus_data_full, geometry='Neighborhood Geometry')\n",
    "                   .assign(Latitude=lambda x: x['Neighborhood Geometry'].map(lambda c: c.centroid.y))\n",
    "                   .assign(Longitude=lambda x: x['Neighborhood Geometry'].map(lambda c: c.centroid.x))\n",
    "               )\n",
    "\n",
    "print(type(dus_data_geo))\n",
    "print(dus_data_geo.shape)\n",
    "dus_data_geo.head()"
   ]
  },
  {
   "cell_type": "code",
   "execution_count": null,
   "metadata": {
    "Collapsed": "false"
   },
   "outputs": [],
   "source": [
    "columns = dus_data_geo.columns.to_list()\n",
    "columns = columns[:2] + columns[-2:] + columns[2:-2]\n",
    "\n",
    "dus_data_geo = dus_data_geo[columns]\n",
    "print(type(dus_data_geo))\n",
    "print(dus_data_geo.shape)\n",
    "dus_data_geo.head()"
   ]
  },
  {
   "cell_type": "markdown",
   "metadata": {
    "Collapsed": "false"
   },
   "source": [
    "## Combine Venue and Category information"
   ]
  },
  {
   "cell_type": "code",
   "execution_count": null,
   "metadata": {
    "Collapsed": "false"
   },
   "outputs": [],
   "source": [
    "def harmonize_cat_level(cat_ids, target_lvl, cat_lvl, foursquare_cat):\n",
    "    \n",
    "    categories = []\n",
    "    \n",
    "    for cat_id in cat_ids:\n",
    "        level = cat_lvl[cat_id]\n",
    "        if level != target_lvl:\n",
    "            cat_id = foursquare_cat.at[foursquare_cat.index[foursquare_cat[f'{level}_ID'] == cat_id][0],\n",
    "                                       f'{target_lvl}_ID']\n",
    "        \n",
    "        category = foursquare_cat.at[foursquare_cat.index[foursquare_cat[f'{target_lvl}_ID'] == cat_id][0],\n",
    "                                     target_lvl]\n",
    "        categories.append(category)\n",
    "    \n",
    "    return categories"
   ]
  },
  {
   "cell_type": "code",
   "execution_count": null,
   "metadata": {
    "Collapsed": "false"
   },
   "outputs": [],
   "source": [
    "target_lvl = '2'\n",
    "\n",
    "dus_venues['Venue Category'] = harmonize_cat_level(dus_venues['Venue Category ID'], target_lvl, cat_lvl, foursquare_cat)\n",
    "dus_venues.head()"
   ]
  },
  {
   "cell_type": "markdown",
   "metadata": {
    "Collapsed": "false"
   },
   "source": [
    "- Outliers (-30, around +20): t-test on statistical significance (or even normal distribution (z-test) because sample size > 30) -> get p-values based on z-scores"
   ]
  },
  {
   "cell_type": "markdown",
   "metadata": {
    "Collapsed": "false"
   },
   "source": [
    "## Visual Data Analysis"
   ]
  },
  {
   "cell_type": "markdown",
   "metadata": {
    "Collapsed": "false"
   },
   "source": [
    "### Graphs"
   ]
  },
  {
   "cell_type": "code",
   "execution_count": null,
   "metadata": {
    "Collapsed": "false"
   },
   "outputs": [],
   "source": [
    "top = 10\n",
    "top_bottom = np.r_[0:top, -top:0]\n",
    "\n",
    "dus_top_bottom = dus_data.sort_values(by='Movings', ascending=True).iloc[top_bottom]\n",
    "pos_neg = (dus_top_bottom['Movings'] > 0).map({True: 'g', False: 'r'})\n",
    "\n",
    "fig = plt.figure(figsize=(12,7))\n",
    "ax0 = fig.add_subplot(111)\n",
    "dus_top_bottom.plot(kind='bar',\n",
    "                    x='Neighborhood',\n",
    "                    y='Movings',\n",
    "                    legend=False,\n",
    "                    color=pos_neg,\n",
    "                    ax=ax0\n",
    "                   );"
   ]
  },
  {
   "cell_type": "code",
   "execution_count": null,
   "metadata": {
    "Collapsed": "false"
   },
   "outputs": [],
   "source": [
    "top = 10\n",
    "top_bottom = np.r_[0:top, -top:0]\n",
    "\n",
    "dus_top_bottom = (dus_data.assign(MovingsPerc=lambda x: x['Movings']/x['Population']*100)\n",
    "                          .sort_values(by='MovingsPerc', ascending=True)\n",
    "                          .iloc[top_bottom])\n",
    "pos_neg = (dus_top_bottom['MovingsPerc'] > 0).map({True: 'g', False: 'r'})\n",
    "\n",
    "fig = plt.figure(figsize=(12,7))\n",
    "ax0 = fig.add_subplot(111)\n",
    "dus_top_bottom.plot(kind='bar',\n",
    "                    x='Neighborhood',\n",
    "                    y='MovingsPerc',\n",
    "                    legend=False,\n",
    "                    color=pos_neg,\n",
    "                    ax=ax0\n",
    "                   );"
   ]
  },
  {
   "cell_type": "markdown",
   "metadata": {
    "Collapsed": "false"
   },
   "source": [
    "## Blabla "
   ]
  },
  {
   "cell_type": "code",
   "execution_count": null,
   "metadata": {
    "Collapsed": "false"
   },
   "outputs": [],
   "source": [
    "def return_top_nationalities(neighborhood, top, threshold=1):\n",
    "    top += 1\n",
    "    top_nationalities = (neighborhood.sort_values(ascending=False)\n",
    "                                     .head(top)[1:top] # Germany is in all neighborhoods top 1 nationality, therefore drop it\n",
    "                                     .index\n",
    "                        )\n",
    "    return top_nationalities"
   ]
  },
  {
   "cell_type": "code",
   "execution_count": null,
   "metadata": {
    "Collapsed": "false"
   },
   "outputs": [],
   "source": [
    "top = 10\n",
    "top_nationalities_dict = {}\n",
    "nationality_t = nationality.apply(lambda x: x / x.sum(), axis=1).transpose()\n",
    "\n",
    "for neighborhood in nationality_t:\n",
    "    top_nationalities_dict[neighborhood] = return_top_nationalities(nationality_t[neighborhood], top)\n",
    "\n",
    "columns = [str(x) for x in range(1, top + 1)]\n",
    "top_nationalities = pd.DataFrame(top_nationalities_dict).transpose()\n",
    "top_nationalities.columns = columns\n",
    "top_nationalities.head()"
   ]
  },
  {
   "cell_type": "code",
   "execution_count": null,
   "metadata": {
    "Collapsed": "false"
   },
   "outputs": [],
   "source": [
    "# Join neighborhoods and nationality data on 'Neighborhood ID' and calculate percentage of nationality per neighborhood\n",
    "dus_data = neighborhoods.merge(top_nationalities,\n",
    "                               how='inner',\n",
    "                               left_index=True,\n",
    "                               right_index=True\n",
    "                              )\n",
    "print(dus_data.shape)\n",
    "dus_data.head()"
   ]
  },
  {
   "cell_type": "markdown",
   "metadata": {
    "Collapsed": "false"
   },
   "source": [
    "#### Visualize data on a map"
   ]
  },
  {
   "cell_type": "code",
   "execution_count": null,
   "metadata": {
    "Collapsed": "false"
   },
   "outputs": [],
   "source": [
    "dus_centre = Nominatim(user_agent='dus')\n",
    "location = dus_centre.geocode(query='Unterbilk, Düsseldorf', country_codes='de')\n",
    "dus_latitude = location.latitude\n",
    "dus_longitude = location.longitude\n",
    "\n",
    "print(f'The coordinates of Duesseldorf are {dus_latitude}, {dus_longitude}.')"
   ]
  },
  {
   "cell_type": "code",
   "execution_count": null,
   "metadata": {
    "Collapsed": "false"
   },
   "outputs": [],
   "source": [
    "# create map centered on Duesseldorf\n",
    "map_dus = folium.Map(location=[dus_latitude, dus_longitude],\n",
    "                     zoom_start=11,\n",
    "                     min_zoom=10,\n",
    "                     max_zoom=19,\n",
    "                     zoom_control=False\n",
    "                    )\n",
    "\n",
    "# for code, lat, lng in zip(dus_data['Postal Code'], dus_data['Latitude'], dus_data['Longitude']):\n",
    "#     folium.Marker(location=[lat, lng],\n",
    "#                   icon=folium.DivIcon(html=f\"\"\"<div style=\"color: black;\">{code}</div>\"\"\")\n",
    "#                  ).add_to(map_dus)\n",
    "\n",
    "# generate choropleth map to show postal code areas\n",
    "folium.GeoJson(data=dus_data[['geometry', 'Neighborhood', '1', '2', '3']],\n",
    "               tooltip=folium.features.GeoJsonTooltip(['Neighborhood', '1', '2', '3'])\n",
    "              ).add_to(map_dus)\n",
    "\n",
    "map_dus"
   ]
  },
  {
   "cell_type": "code",
   "execution_count": null,
   "metadata": {
    "Collapsed": "false"
   },
   "outputs": [],
   "source": [
    "# Build one DataFrame with top venues per neighborhood\n",
    "def getNearbyVenues(postal_codes, names, latitudes, longitudes, radius=500):\n",
    "    \n",
    "    venues_list = []\n",
    "    # Iterate through list of neighborhoods\n",
    "    for postal_code, name, lat, lng in zip(postal_codes, names, latitudes, longitudes):\n",
    "        # create the API request URL\n",
    "        url = 'https://api.foursquare.com/v2/venues/explore'\n",
    "        params = dict(client_id=os.getenv('FS_CLIENT_ID'),\n",
    "                      client_secret=os.getenv('FS_CLIENT_SECRET'),\n",
    "                      v='20180323',\n",
    "                      ll=f'{lat},{lng}',\n",
    "                      radius=radius,\n",
    "                      limit=100\n",
    "                     )\n",
    "\n",
    "        # make the GET request\n",
    "        results = requests.get(url=url, params=params).json()\n",
    "        try:\n",
    "            results = results['response']['groups'][0]['items']\n",
    "\n",
    "        except:\n",
    "            print('Something went wrong with the query. Here are some information:')\n",
    "            print(f'Postal Code: {postal_code}, Section: {section}')\n",
    "            print(results)\n",
    "        # List of list with only relevant information per venue\n",
    "        # Multiple entries per venue, if multiple categories have been assigned\n",
    "        for v in results: \n",
    "            venues_list.append([(postal_code,\n",
    "                                 name,\n",
    "                                 lat,\n",
    "                                 lng,\n",
    "                                 v['venue']['name'],\n",
    "                                 v['venue']['location']['lat'],\n",
    "                                 v['venue']['location']['lng'],\n",
    "                                 n['name']) for n in v['venue']['categories']]\n",
    "                              )\n",
    "\n",
    "        # Create DataFrame\n",
    "        columns = ['Postal Code', 'Neighborhood', 'Neighborhood Latitude', 'Neighborhood Longitude',\n",
    "                   'Venue', 'Venue Latitude', 'Venue Longitude', 'Venue Category']\n",
    "        nearby_venues = pd.DataFrame([item for venue_list in venues_list for item in venue_list])\n",
    "        nearby_venues.columns = columns\n",
    "    \n",
    "    return(nearby_venues)"
   ]
  },
  {
   "cell_type": "code",
   "execution_count": null,
   "metadata": {
    "Collapsed": "false"
   },
   "outputs": [],
   "source": [
    "# Create DataFrame with one row per venue returned matching the neighborhood it belongs to \n",
    "dus_venues = getNearbyVenues(postal_codes=dus_data['Postal Code'],\n",
    "                             names=dus_data['Neighborhood'],\n",
    "                             latitudes=dus_data['Latitude'],\n",
    "                             longitudes=dus_data['Longitude']\n",
    "                            )"
   ]
  },
  {
   "cell_type": "code",
   "execution_count": null,
   "metadata": {
    "Collapsed": "false"
   },
   "outputs": [],
   "source": [
    "dus_venues.head()"
   ]
  },
  {
   "cell_type": "code",
   "execution_count": null,
   "metadata": {
    "Collapsed": "false"
   },
   "outputs": [],
   "source": [
    "dus_venues.to_pickle('dus_venues.pkl', compression=\"gzip\")"
   ]
  },
  {
   "cell_type": "code",
   "execution_count": null,
   "metadata": {
    "Collapsed": "false"
   },
   "outputs": [],
   "source": [
    "venue_counts = (dus_venues['Postal Code'].value_counts()\n",
    "                                        .to_frame()\n",
    "                                        .reset_index(drop=False)\n",
    "                                        .rename(columns={'index':'Postal Code', 'Postal Code':'Venues'})\n",
    "               )\n",
    "venue_counts"
   ]
  },
  {
   "cell_type": "markdown",
   "metadata": {
    "Collapsed": "false"
   },
   "source": [
    "For 35 of the 37 postal code areas, min. one venue has been returned."
   ]
  },
  {
   "cell_type": "code",
   "execution_count": null,
   "metadata": {
    "Collapsed": "false"
   },
   "outputs": [],
   "source": [
    "len(dus_venues['Postal Code'].value_counts())"
   ]
  },
  {
   "cell_type": "code",
   "execution_count": null,
   "metadata": {
    "Collapsed": "false"
   },
   "outputs": [],
   "source": [
    "color_scale = np.array(['#053061','#2166ac','#4393c3','#92c5de','#d1e5f0','#fddbc7','#f4a582','#d6604d','#b2182b','#67001f'])\n",
    "sns.palplot(sns.color_palette(color_scale))"
   ]
  },
  {
   "cell_type": "code",
   "execution_count": null,
   "metadata": {
    "Collapsed": "false"
   },
   "outputs": [],
   "source": [
    "# Create map centered on Duesseldorf\n",
    "map_dus = folium.Map(location=[dus_latitude, dus_longitude],\n",
    "                     zoom_start=11,\n",
    "                     min_zoom=10,\n",
    "                     max_zoom=19,\n",
    "                     zoom_control=False\n",
    "                    )\n",
    "\n",
    "# for code, lat, lng in zip(dus_data['Postal Code'], dus_data['Latitude'], dus_data['Longitude']):\n",
    "#     folium.Marker(location=[lat, lng],\n",
    "#                   icon=folium.DivIcon(html=f\"\"\"<div style=\"color: black;\">{code}</div>\"\"\")\n",
    "#                  ).add_to(map_dus)\n",
    "\n",
    "# Define bins for coloring\n",
    "threshold_scale = list(range(0,101,20))\n",
    "threshold_scale[-1] = threshold_scale[-1] + 0.1\n",
    "\n",
    "# Generate choropleth map to show postal code areas\n",
    "folium.Choropleth(\n",
    "    geo_data='dus_postal_code_geo.json',\n",
    "    key_on='feature.properties.plz',\n",
    "    data=venue_counts,\n",
    "    columns=['Postal Code', 'Venues'],\n",
    "    fill_color='BuGn',\n",
    "    threshold_scale=threshold_scale,\n",
    "    fill_opacity=0.7, \n",
    "    line_opacity=0.5,\n",
    "    legend_name='Venues per Postal Code'\n",
    ").add_to(map_dus)\n",
    "\n",
    "map_dus"
   ]
  },
  {
   "cell_type": "code",
   "execution_count": null,
   "metadata": {
    "Collapsed": "false"
   },
   "outputs": [],
   "source": [
    "dus_venues_one_hot = pd.get_dummies(dus_venues[['Postal Code', 'Venue Category']], columns=['Venue Category'])"
   ]
  },
  {
   "cell_type": "code",
   "execution_count": null,
   "metadata": {
    "Collapsed": "false"
   },
   "outputs": [],
   "source": [
    "dus_venues_mean = dus_venues_one_hot.groupby(by='Postal Code').agg('mean').reset_index(drop=False)"
   ]
  },
  {
   "cell_type": "code",
   "execution_count": null,
   "metadata": {
    "Collapsed": "false"
   },
   "outputs": [],
   "source": []
  }
 ],
 "metadata": {
  "kernelspec": {
   "display_name": "Python (ibm_capstone)",
   "language": "python",
   "name": "ibm_capstone"
  },
  "language_info": {
   "codemirror_mode": {
    "name": "ipython",
    "version": 3
   },
   "file_extension": ".py",
   "mimetype": "text/x-python",
   "name": "python",
   "nbconvert_exporter": "python",
   "pygments_lexer": "ipython3",
   "version": "3.7.6"
  },
  "toc-autonumbering": true,
  "toc-showtags": false
 },
 "nbformat": 4,
 "nbformat_minor": 4
}
