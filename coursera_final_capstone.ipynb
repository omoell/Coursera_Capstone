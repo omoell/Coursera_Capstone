{
 "cells": [
  {
   "cell_type": "code",
   "execution_count": 133,
   "metadata": {
    "Collapsed": "false"
   },
   "outputs": [],
   "source": [
    "### Data import\n",
    "# Handling URL queries\n",
    "import json\n",
    "import requests\n",
    "# Import BeautifulSoup for scraping table from wiki-page\n",
    "from bs4 import BeautifulSoup\n",
    "# Read environment variables with foursquare API credentials\n",
    "import os\n",
    "\n",
    "\n",
    "### Data preparation\n",
    "# Pandas and numpy for analysing and preparing data\n",
    "import pandas as pd\n",
    "from pandas.io.json import json_normalize\n",
    "pd.set_option('display.max_columns', None) # display all columns of a df inline\n",
    "pd.set_option('display.max_rows', None) # display all rows of a df inline\n",
    "import numpy as np\n",
    "\n",
    "\n",
    "### Data Plotting\n",
    "# Seaborn and Matplotlib for plotting data\n",
    "import matplotlib.pyplot as plt\n",
    "import seaborn as sns\n",
    "# Matplotlib colors\n",
    "import matplotlib.cm as cm\n",
    "import matplotlib.colors as colors\n",
    "\n",
    "\n",
    "### Handling and visualization of Geo Data\n",
    "# Folium and geopy handle and display geospatial data\n",
    "import folium # display data on interactive map\n",
    "from geopy.geocoders import Nominatim # get langitude and longitude for an address\n",
    "# GeoPandas for handling GeoJSON\n",
    "import geopandas as gpd\n",
    "\n",
    "\n",
    "### Data Modeling and analysis\n",
    "# Statistical analysis\n",
    "import statsmodels as sm\n",
    "# To cluster neighborhoods\n",
    "from sklearn.cluster import KMeans\n"
   ]
  },
  {
   "cell_type": "markdown",
   "metadata": {
    "Collapsed": "false"
   },
   "source": [
    "# Get data for neighborhoods in Duesseldorf\n",
    "\n",
    "https://public.opendatasoft.com provides data on the borders of the neighborhoods, as well as on the population."
   ]
  },
  {
   "cell_type": "code",
   "execution_count": null,
   "metadata": {
    "Collapsed": "false"
   },
   "outputs": [],
   "source": [
    "# Download GeoJSON for geo coordinates of neighborhoods in Duesseldorf\n",
    "!wget --quiet 'https://opendata.duesseldorf.de/sites/default/files/Stadtteile_WGS84_4326.geojson' -O dus_neighborhoods.geojson\n",
    "\n",
    "# Download GeoJSON for geo coordinates of residential areas in Duesseldorf\n",
    "!wget --quiet 'https://opendata.duesseldorf.de/sites/default/files/Wohnquartiere_Duesseldorf_WGS84_4326.geojson' -O dus_residential_areas.geojson\n",
    "\n",
    "# Download JSON with movements into the areas (2017)\n",
    "# Description of Data: https://opendata.duesseldorf.de/dataset/bevölkerungswanderung-den-wohnquartieren-düsseldorf\n",
    "!wget --quiet 'https://opendata.duesseldorf.de/api/action/datastore/search.json?resource_id=1564e254-213c-4b35-a1a9-b0e8a070ced0&limit=400' -O dus_move_in.json\n",
    "\n",
    "# Download JSON with movements out of the areas (2017)\n",
    "# Description of Data: https://opendata.duesseldorf.de/dataset/bevölkerungswanderung-den-wohnquartieren-düsseldorf\n",
    "!wget --quiet 'https://opendata.duesseldorf.de/api/action/datastore/search.json?resource_id=b7f96ca0-735d-4c9b-862c-99813429e0cd&limit=400' -O dus_move_out.json\n",
    "\n",
    "# Download CSV (JSON file was not available) with total size of population per neighborhood in Duesseldorf (2012 - 2018)\n",
    "# Description of Data: https://opendata.duesseldorf.de/dataset/einwohnerzahl-d%C3%BCsseldorf-seit-2012-einwohnermeldedaten\n",
    "!wget --quiet 'https://opendata.duesseldorf.de/sites/default/files/Bev%C3%B6lkerungsstand%20in%20den%20Stadtteilen%20seit%202012_0.csv' -O dus_population.csv"
   ]
  },
  {
   "cell_type": "markdown",
   "metadata": {
    "Collapsed": "false"
   },
   "source": [
    "## Extract ID, name and geometry of each neighborhood"
   ]
  },
  {
   "cell_type": "code",
   "execution_count": 2,
   "metadata": {
    "Collapsed": "false"
   },
   "outputs": [
    {
     "name": "stdout",
     "output_type": "stream",
     "text": [
      "(50, 6)\n"
     ]
    },
    {
     "data": {
      "text/html": [
       "<div>\n",
       "<style scoped>\n",
       "    .dataframe tbody tr th:only-of-type {\n",
       "        vertical-align: middle;\n",
       "    }\n",
       "\n",
       "    .dataframe tbody tr th {\n",
       "        vertical-align: top;\n",
       "    }\n",
       "\n",
       "    .dataframe thead th {\n",
       "        text-align: right;\n",
       "    }\n",
       "</style>\n",
       "<table border=\"1\" class=\"dataframe\">\n",
       "  <thead>\n",
       "    <tr style=\"text-align: right;\">\n",
       "      <th></th>\n",
       "      <th>Quelle</th>\n",
       "      <th>Stand</th>\n",
       "      <th>Stadtbezirk</th>\n",
       "      <th>Stadtteil</th>\n",
       "      <th>Name</th>\n",
       "      <th>geometry</th>\n",
       "    </tr>\n",
       "  </thead>\n",
       "  <tbody>\n",
       "    <tr>\n",
       "      <th>0</th>\n",
       "      <td>Amt 12/2</td>\n",
       "      <td>31.12.2017</td>\n",
       "      <td>5</td>\n",
       "      <td>54</td>\n",
       "      <td>Wittlaer</td>\n",
       "      <td>POLYGON ((6.76623 51.31355, 6.76618 51.31359, ...</td>\n",
       "    </tr>\n",
       "    <tr>\n",
       "      <th>1</th>\n",
       "      <td>Amt 12/2</td>\n",
       "      <td>31.12.2017</td>\n",
       "      <td>5</td>\n",
       "      <td>55</td>\n",
       "      <td>Angermund</td>\n",
       "      <td>POLYGON ((6.80952 51.34292, 6.80948 51.34302, ...</td>\n",
       "    </tr>\n",
       "    <tr>\n",
       "      <th>2</th>\n",
       "      <td>Amt 12/2</td>\n",
       "      <td>31.12.2017</td>\n",
       "      <td>4</td>\n",
       "      <td>43</td>\n",
       "      <td>Lörick</td>\n",
       "      <td>POLYGON ((6.74610 51.25203, 6.74602 51.25205, ...</td>\n",
       "    </tr>\n",
       "    <tr>\n",
       "      <th>3</th>\n",
       "      <td>Amt 12/2</td>\n",
       "      <td>31.12.2017</td>\n",
       "      <td>4</td>\n",
       "      <td>42</td>\n",
       "      <td>Heerdt</td>\n",
       "      <td>POLYGON ((6.73560 51.23767, 6.73522 51.23780, ...</td>\n",
       "    </tr>\n",
       "    <tr>\n",
       "      <th>4</th>\n",
       "      <td>Amt 12/2</td>\n",
       "      <td>31.12.2017</td>\n",
       "      <td>4</td>\n",
       "      <td>41</td>\n",
       "      <td>Oberkassel</td>\n",
       "      <td>POLYGON ((6.76868 51.23195, 6.76868 51.23196, ...</td>\n",
       "    </tr>\n",
       "  </tbody>\n",
       "</table>\n",
       "</div>"
      ],
      "text/plain": [
       "     Quelle       Stand  Stadtbezirk  Stadtteil        Name  \\\n",
       "0  Amt 12/2  31.12.2017            5         54    Wittlaer   \n",
       "1  Amt 12/2  31.12.2017            5         55   Angermund   \n",
       "2  Amt 12/2  31.12.2017            4         43      Lörick   \n",
       "3  Amt 12/2  31.12.2017            4         42      Heerdt   \n",
       "4  Amt 12/2  31.12.2017            4         41  Oberkassel   \n",
       "\n",
       "                                            geometry  \n",
       "0  POLYGON ((6.76623 51.31355, 6.76618 51.31359, ...  \n",
       "1  POLYGON ((6.80952 51.34292, 6.80948 51.34302, ...  \n",
       "2  POLYGON ((6.74610 51.25203, 6.74602 51.25205, ...  \n",
       "3  POLYGON ((6.73560 51.23767, 6.73522 51.23780, ...  \n",
       "4  POLYGON ((6.76868 51.23195, 6.76868 51.23196, ...  "
      ]
     },
     "execution_count": 2,
     "metadata": {},
     "output_type": "execute_result"
    }
   ],
   "source": [
    "neighborhoods_orig = gpd.read_file('dus_neighborhoods.geojson')\n",
    "print(neighborhoods_orig.shape)\n",
    "neighborhoods_orig.head()"
   ]
  },
  {
   "cell_type": "code",
   "execution_count": 3,
   "metadata": {
    "Collapsed": "false"
   },
   "outputs": [
    {
     "name": "stdout",
     "output_type": "stream",
     "text": [
      "(50, 2)\n"
     ]
    },
    {
     "data": {
      "text/html": [
       "<div>\n",
       "<style scoped>\n",
       "    .dataframe tbody tr th:only-of-type {\n",
       "        vertical-align: middle;\n",
       "    }\n",
       "\n",
       "    .dataframe tbody tr th {\n",
       "        vertical-align: top;\n",
       "    }\n",
       "\n",
       "    .dataframe thead th {\n",
       "        text-align: right;\n",
       "    }\n",
       "</style>\n",
       "<table border=\"1\" class=\"dataframe\">\n",
       "  <thead>\n",
       "    <tr style=\"text-align: right;\">\n",
       "      <th></th>\n",
       "      <th>Neighborhood</th>\n",
       "      <th>Neighborhood Geometry</th>\n",
       "    </tr>\n",
       "    <tr>\n",
       "      <th>Neighborhood ID</th>\n",
       "      <th></th>\n",
       "      <th></th>\n",
       "    </tr>\n",
       "  </thead>\n",
       "  <tbody>\n",
       "    <tr>\n",
       "      <th>054</th>\n",
       "      <td>Wittlaer</td>\n",
       "      <td>POLYGON ((6.76623 51.31355, 6.76618 51.31359, ...</td>\n",
       "    </tr>\n",
       "    <tr>\n",
       "      <th>055</th>\n",
       "      <td>Angermund</td>\n",
       "      <td>POLYGON ((6.80952 51.34292, 6.80948 51.34302, ...</td>\n",
       "    </tr>\n",
       "    <tr>\n",
       "      <th>043</th>\n",
       "      <td>Lörick</td>\n",
       "      <td>POLYGON ((6.74610 51.25203, 6.74602 51.25205, ...</td>\n",
       "    </tr>\n",
       "    <tr>\n",
       "      <th>042</th>\n",
       "      <td>Heerdt</td>\n",
       "      <td>POLYGON ((6.73560 51.23767, 6.73522 51.23780, ...</td>\n",
       "    </tr>\n",
       "    <tr>\n",
       "      <th>041</th>\n",
       "      <td>Oberkassel</td>\n",
       "      <td>POLYGON ((6.76868 51.23195, 6.76868 51.23196, ...</td>\n",
       "    </tr>\n",
       "  </tbody>\n",
       "</table>\n",
       "</div>"
      ],
      "text/plain": [
       "                Neighborhood  \\\n",
       "Neighborhood ID                \n",
       "054                 Wittlaer   \n",
       "055                Angermund   \n",
       "043                   Lörick   \n",
       "042                   Heerdt   \n",
       "041               Oberkassel   \n",
       "\n",
       "                                             Neighborhood Geometry  \n",
       "Neighborhood ID                                                     \n",
       "054              POLYGON ((6.76623 51.31355, 6.76618 51.31359, ...  \n",
       "055              POLYGON ((6.80952 51.34292, 6.80948 51.34302, ...  \n",
       "043              POLYGON ((6.74610 51.25203, 6.74602 51.25205, ...  \n",
       "042              POLYGON ((6.73560 51.23767, 6.73522 51.23780, ...  \n",
       "041              POLYGON ((6.76868 51.23195, 6.76868 51.23196, ...  "
      ]
     },
     "execution_count": 3,
     "metadata": {},
     "output_type": "execute_result"
    }
   ],
   "source": [
    "neighborhoods = (neighborhoods_orig.drop(['Quelle', 'Stand', 'Stadtbezirk'], axis=1)\n",
    "                                   .rename(columns={'Stadtteil': 'Neighborhood ID',\n",
    "                                                    'Name': 'Neighborhood',\n",
    "                                                    'geometry': 'Neighborhood Geometry'\n",
    "                                                   })\n",
    "                                   .set_index('Neighborhood ID')\n",
    "                                   .rename(index=lambda x: f'{x:03d}')\n",
    "                )\n",
    "\n",
    "print(neighborhoods.shape)\n",
    "neighborhoods.head()"
   ]
  },
  {
   "cell_type": "markdown",
   "metadata": {
    "Collapsed": "false"
   },
   "source": [
    "## Import population in neighborhoods from 2013 to 2018 (last five years)"
   ]
  },
  {
   "cell_type": "code",
   "execution_count": 4,
   "metadata": {
    "Collapsed": "false"
   },
   "outputs": [
    {
     "name": "stdout",
     "output_type": "stream",
     "text": [
      "(50, 7)\n",
      "<class 'pandas.core.frame.DataFrame'>\n",
      "Index: 50 entries, 011 to 102\n",
      "Data columns (total 7 columns):\n",
      "Neighborhood    50 non-null object\n",
      "2013            50 non-null object\n",
      "2014            50 non-null int64\n",
      "2015            50 non-null int64\n",
      "2016            50 non-null int64\n",
      "2017            50 non-null int64\n",
      "2018            50 non-null int64\n",
      "dtypes: int64(5), object(2)\n",
      "memory usage: 3.1+ KB\n"
     ]
    }
   ],
   "source": [
    "names = ['Neighborhood ID', 'Neighborhood'] + [str(x) for x in range(2012, 2019)]\n",
    "population_import = pd.read_csv('dus_population.csv', sep=';', header=0, names=names)\n",
    "population = (population_import.assign(**{'Neighborhood ID': lambda x: x['Neighborhood ID'].map(lambda v: f'{v:03d}')}) # Transform Neighborhood ID to three digits string (leading zeros)\n",
    "                               .set_index('Neighborhood ID')\n",
    "                               .drop(['2012'], axis=1) # Consider only last five years\n",
    "             )\n",
    "                                 \n",
    "print(population.shape)\n",
    "population.info()"
   ]
  },
  {
   "cell_type": "code",
   "execution_count": 5,
   "metadata": {
    "Collapsed": "false"
   },
   "outputs": [
    {
     "data": {
      "text/html": [
       "<div>\n",
       "<style scoped>\n",
       "    .dataframe tbody tr th:only-of-type {\n",
       "        vertical-align: middle;\n",
       "    }\n",
       "\n",
       "    .dataframe tbody tr th {\n",
       "        vertical-align: top;\n",
       "    }\n",
       "\n",
       "    .dataframe thead th {\n",
       "        text-align: right;\n",
       "    }\n",
       "</style>\n",
       "<table border=\"1\" class=\"dataframe\">\n",
       "  <thead>\n",
       "    <tr style=\"text-align: right;\">\n",
       "      <th></th>\n",
       "      <th>Neighborhood</th>\n",
       "      <th>2013</th>\n",
       "      <th>2014</th>\n",
       "      <th>2015</th>\n",
       "      <th>2016</th>\n",
       "      <th>2017</th>\n",
       "      <th>2018</th>\n",
       "    </tr>\n",
       "    <tr>\n",
       "      <th>Neighborhood ID</th>\n",
       "      <th></th>\n",
       "      <th></th>\n",
       "      <th></th>\n",
       "      <th></th>\n",
       "      <th></th>\n",
       "      <th></th>\n",
       "      <th></th>\n",
       "    </tr>\n",
       "  </thead>\n",
       "  <tbody>\n",
       "    <tr>\n",
       "      <th>075</th>\n",
       "      <td>Knittkuhl*</td>\n",
       "      <td>X</td>\n",
       "      <td>2055</td>\n",
       "      <td>2048</td>\n",
       "      <td>2078</td>\n",
       "      <td>2091</td>\n",
       "      <td>2097</td>\n",
       "    </tr>\n",
       "  </tbody>\n",
       "</table>\n",
       "</div>"
      ],
      "text/plain": [
       "                Neighborhood 2013  2014  2015  2016  2017  2018\n",
       "Neighborhood ID                                                \n",
       "075               Knittkuhl*    X  2055  2048  2078  2091  2097"
      ]
     },
     "execution_count": 5,
     "metadata": {},
     "output_type": "execute_result"
    }
   ],
   "source": [
    "population['2013'] = population['2013'].map(lambda x: int(x) if x.isdigit() else x)\n",
    "population[population['2013'].map(lambda x: type(x).__name__ == 'str')]"
   ]
  },
  {
   "cell_type": "code",
   "execution_count": 6,
   "metadata": {
    "Collapsed": "false"
   },
   "outputs": [
    {
     "data": {
      "text/html": [
       "<div>\n",
       "<style scoped>\n",
       "    .dataframe tbody tr th:only-of-type {\n",
       "        vertical-align: middle;\n",
       "    }\n",
       "\n",
       "    .dataframe tbody tr th {\n",
       "        vertical-align: top;\n",
       "    }\n",
       "\n",
       "    .dataframe thead th {\n",
       "        text-align: right;\n",
       "    }\n",
       "</style>\n",
       "<table border=\"1\" class=\"dataframe\">\n",
       "  <thead>\n",
       "    <tr style=\"text-align: right;\">\n",
       "      <th></th>\n",
       "      <th>Neighborhood</th>\n",
       "      <th>2013</th>\n",
       "      <th>2014</th>\n",
       "      <th>2015</th>\n",
       "      <th>2016</th>\n",
       "      <th>2017</th>\n",
       "      <th>2018</th>\n",
       "    </tr>\n",
       "    <tr>\n",
       "      <th>Neighborhood ID</th>\n",
       "      <th></th>\n",
       "      <th></th>\n",
       "      <th></th>\n",
       "      <th></th>\n",
       "      <th></th>\n",
       "      <th></th>\n",
       "      <th></th>\n",
       "    </tr>\n",
       "  </thead>\n",
       "  <tbody>\n",
       "    <tr>\n",
       "      <th>074</th>\n",
       "      <td>Hubbelrath*</td>\n",
       "      <td>3646</td>\n",
       "      <td>1571</td>\n",
       "      <td>1535</td>\n",
       "      <td>1722</td>\n",
       "      <td>1645</td>\n",
       "      <td>1612</td>\n",
       "    </tr>\n",
       "    <tr>\n",
       "      <th>075</th>\n",
       "      <td>Knittkuhl*</td>\n",
       "      <td>X</td>\n",
       "      <td>2055</td>\n",
       "      <td>2048</td>\n",
       "      <td>2078</td>\n",
       "      <td>2091</td>\n",
       "      <td>2097</td>\n",
       "    </tr>\n",
       "  </tbody>\n",
       "</table>\n",
       "</div>"
      ],
      "text/plain": [
       "                Neighborhood  2013  2014  2015  2016  2017  2018\n",
       "Neighborhood ID                                                 \n",
       "074              Hubbelrath*  3646  1571  1535  1722  1645  1612\n",
       "075               Knittkuhl*     X  2055  2048  2078  2091  2097"
      ]
     },
     "execution_count": 6,
     "metadata": {},
     "output_type": "execute_result"
    }
   ],
   "source": [
    "population.loc[['074', '075'],:]"
   ]
  },
  {
   "cell_type": "markdown",
   "metadata": {
    "Collapsed": "false"
   },
   "source": [
    "In March 2014 a part of neighborhood '074 Hubbelrath' was separated and assigned to new neighborhood '075 Knittkuhl'. To be able to use the 2013 data for all neighborhoods, the popultion of '074 Hubbelrath' will be distributed to '075 Knittkuhl' according to relation in 2014."
   ]
  },
  {
   "cell_type": "code",
   "execution_count": 7,
   "metadata": {
    "Collapsed": "false"
   },
   "outputs": [],
   "source": [
    "neighborhood_split = population.sort_index(ascending=True).loc[['074', '075'], '2014'].values\n",
    "knittkuhl_share = neighborhood_split[1] / neighborhood_split.sum()\n",
    "\n",
    "population.at['075', '2013'] = int(population.at['074', '2013'] * knittkuhl_share)\n",
    "population.at['074', '2013'] = population.at['074', '2013'] - population.at['075', '2013']\n",
    "population['2013'] = population['2013'].astype('int64')"
   ]
  },
  {
   "cell_type": "code",
   "execution_count": 8,
   "metadata": {
    "Collapsed": "false"
   },
   "outputs": [
    {
     "data": {
      "text/html": [
       "<div>\n",
       "<style scoped>\n",
       "    .dataframe tbody tr th:only-of-type {\n",
       "        vertical-align: middle;\n",
       "    }\n",
       "\n",
       "    .dataframe tbody tr th {\n",
       "        vertical-align: top;\n",
       "    }\n",
       "\n",
       "    .dataframe thead th {\n",
       "        text-align: right;\n",
       "    }\n",
       "</style>\n",
       "<table border=\"1\" class=\"dataframe\">\n",
       "  <thead>\n",
       "    <tr style=\"text-align: right;\">\n",
       "      <th></th>\n",
       "      <th>Neighborhood</th>\n",
       "      <th>2013</th>\n",
       "      <th>2014</th>\n",
       "      <th>2015</th>\n",
       "      <th>2016</th>\n",
       "      <th>2017</th>\n",
       "      <th>2018</th>\n",
       "    </tr>\n",
       "    <tr>\n",
       "      <th>Neighborhood ID</th>\n",
       "      <th></th>\n",
       "      <th></th>\n",
       "      <th></th>\n",
       "      <th></th>\n",
       "      <th></th>\n",
       "      <th></th>\n",
       "      <th></th>\n",
       "    </tr>\n",
       "  </thead>\n",
       "  <tbody>\n",
       "    <tr>\n",
       "      <th>074</th>\n",
       "      <td>Hubbelrath*</td>\n",
       "      <td>1580</td>\n",
       "      <td>1571</td>\n",
       "      <td>1535</td>\n",
       "      <td>1722</td>\n",
       "      <td>1645</td>\n",
       "      <td>1612</td>\n",
       "    </tr>\n",
       "    <tr>\n",
       "      <th>075</th>\n",
       "      <td>Knittkuhl*</td>\n",
       "      <td>2066</td>\n",
       "      <td>2055</td>\n",
       "      <td>2048</td>\n",
       "      <td>2078</td>\n",
       "      <td>2091</td>\n",
       "      <td>2097</td>\n",
       "    </tr>\n",
       "  </tbody>\n",
       "</table>\n",
       "</div>"
      ],
      "text/plain": [
       "                Neighborhood  2013  2014  2015  2016  2017  2018\n",
       "Neighborhood ID                                                 \n",
       "074              Hubbelrath*  1580  1571  1535  1722  1645  1612\n",
       "075               Knittkuhl*  2066  2055  2048  2078  2091  2097"
      ]
     },
     "execution_count": 8,
     "metadata": {},
     "output_type": "execute_result"
    }
   ],
   "source": [
    "population.loc[['074', '075'],:]"
   ]
  },
  {
   "cell_type": "markdown",
   "metadata": {
    "Collapsed": "false"
   },
   "source": [
    "Calculate absolute and relative change in size of population from 2014 to 2018."
   ]
  },
  {
   "cell_type": "code",
   "execution_count": 9,
   "metadata": {
    "Collapsed": "false"
   },
   "outputs": [
    {
     "data": {
      "text/html": [
       "<div>\n",
       "<style scoped>\n",
       "    .dataframe tbody tr th:only-of-type {\n",
       "        vertical-align: middle;\n",
       "    }\n",
       "\n",
       "    .dataframe tbody tr th {\n",
       "        vertical-align: top;\n",
       "    }\n",
       "\n",
       "    .dataframe thead th {\n",
       "        text-align: right;\n",
       "    }\n",
       "</style>\n",
       "<table border=\"1\" class=\"dataframe\">\n",
       "  <thead>\n",
       "    <tr style=\"text-align: right;\">\n",
       "      <th></th>\n",
       "      <th>2013</th>\n",
       "      <th>2014</th>\n",
       "      <th>2015</th>\n",
       "      <th>2016</th>\n",
       "      <th>2017</th>\n",
       "      <th>2018</th>\n",
       "      <th>2013-2018 (abs)</th>\n",
       "      <th>2013-2018 (perc)</th>\n",
       "    </tr>\n",
       "    <tr>\n",
       "      <th>Neighborhood ID</th>\n",
       "      <th></th>\n",
       "      <th></th>\n",
       "      <th></th>\n",
       "      <th></th>\n",
       "      <th></th>\n",
       "      <th></th>\n",
       "      <th></th>\n",
       "      <th></th>\n",
       "    </tr>\n",
       "  </thead>\n",
       "  <tbody>\n",
       "    <tr>\n",
       "      <th>011</th>\n",
       "      <td>2253</td>\n",
       "      <td>2221</td>\n",
       "      <td>2264</td>\n",
       "      <td>2244</td>\n",
       "      <td>2358</td>\n",
       "      <td>2404</td>\n",
       "      <td>151</td>\n",
       "      <td>6.7</td>\n",
       "    </tr>\n",
       "    <tr>\n",
       "      <th>012</th>\n",
       "      <td>2323</td>\n",
       "      <td>2315</td>\n",
       "      <td>2491</td>\n",
       "      <td>2588</td>\n",
       "      <td>2279</td>\n",
       "      <td>2285</td>\n",
       "      <td>-38</td>\n",
       "      <td>-1.6</td>\n",
       "    </tr>\n",
       "    <tr>\n",
       "      <th>013</th>\n",
       "      <td>13953</td>\n",
       "      <td>14388</td>\n",
       "      <td>14680</td>\n",
       "      <td>15008</td>\n",
       "      <td>14840</td>\n",
       "      <td>14954</td>\n",
       "      <td>1001</td>\n",
       "      <td>7.2</td>\n",
       "    </tr>\n",
       "    <tr>\n",
       "      <th>014</th>\n",
       "      <td>30345</td>\n",
       "      <td>30814</td>\n",
       "      <td>31449</td>\n",
       "      <td>31897</td>\n",
       "      <td>32626</td>\n",
       "      <td>33064</td>\n",
       "      <td>2719</td>\n",
       "      <td>9.0</td>\n",
       "    </tr>\n",
       "    <tr>\n",
       "      <th>015</th>\n",
       "      <td>19927</td>\n",
       "      <td>20005</td>\n",
       "      <td>20232</td>\n",
       "      <td>20401</td>\n",
       "      <td>20651</td>\n",
       "      <td>20610</td>\n",
       "      <td>683</td>\n",
       "      <td>3.4</td>\n",
       "    </tr>\n",
       "  </tbody>\n",
       "</table>\n",
       "</div>"
      ],
      "text/plain": [
       "                  2013   2014   2015   2016   2017   2018  2013-2018 (abs)  \\\n",
       "Neighborhood ID                                                              \n",
       "011               2253   2221   2264   2244   2358   2404              151   \n",
       "012               2323   2315   2491   2588   2279   2285              -38   \n",
       "013              13953  14388  14680  15008  14840  14954             1001   \n",
       "014              30345  30814  31449  31897  32626  33064             2719   \n",
       "015              19927  20005  20232  20401  20651  20610              683   \n",
       "\n",
       "                 2013-2018 (perc)  \n",
       "Neighborhood ID                    \n",
       "011                           6.7  \n",
       "012                          -1.6  \n",
       "013                           7.2  \n",
       "014                           9.0  \n",
       "015                           3.4  "
      ]
     },
     "execution_count": 9,
     "metadata": {},
     "output_type": "execute_result"
    }
   ],
   "source": [
    "population = (population.assign(**{'2013-2018 (abs)': lambda x: x['2018'] - x['2013']})\n",
    "                        .assign(**{'2013-2018 (perc)': lambda x: round(x['2013-2018 (abs)'] / x['2013'] * 100, 1)})\n",
    "                        .drop('Neighborhood', axis=1)\n",
    "             )\n",
    "\n",
    "population.head()"
   ]
  },
  {
   "cell_type": "markdown",
   "metadata": {
    "Collapsed": "false"
   },
   "source": [
    "## Merge neighborhood data with population data"
   ]
  },
  {
   "cell_type": "code",
   "execution_count": 10,
   "metadata": {
    "Collapsed": "false"
   },
   "outputs": [
    {
     "data": {
      "text/html": [
       "<div>\n",
       "<style scoped>\n",
       "    .dataframe tbody tr th:only-of-type {\n",
       "        vertical-align: middle;\n",
       "    }\n",
       "\n",
       "    .dataframe tbody tr th {\n",
       "        vertical-align: top;\n",
       "    }\n",
       "\n",
       "    .dataframe thead th {\n",
       "        text-align: right;\n",
       "    }\n",
       "</style>\n",
       "<table border=\"1\" class=\"dataframe\">\n",
       "  <thead>\n",
       "    <tr style=\"text-align: right;\">\n",
       "      <th></th>\n",
       "      <th>Neighborhood</th>\n",
       "      <th>Neighborhood Geometry</th>\n",
       "      <th>2013</th>\n",
       "      <th>2014</th>\n",
       "      <th>2015</th>\n",
       "      <th>2016</th>\n",
       "      <th>2017</th>\n",
       "      <th>2018</th>\n",
       "      <th>2013-2018 (abs)</th>\n",
       "      <th>2013-2018 (perc)</th>\n",
       "    </tr>\n",
       "    <tr>\n",
       "      <th>Neighborhood ID</th>\n",
       "      <th></th>\n",
       "      <th></th>\n",
       "      <th></th>\n",
       "      <th></th>\n",
       "      <th></th>\n",
       "      <th></th>\n",
       "      <th></th>\n",
       "      <th></th>\n",
       "      <th></th>\n",
       "      <th></th>\n",
       "    </tr>\n",
       "  </thead>\n",
       "  <tbody>\n",
       "    <tr>\n",
       "      <th>054</th>\n",
       "      <td>Wittlaer</td>\n",
       "      <td>POLYGON ((6.76623 51.31355, 6.76618 51.31359, ...</td>\n",
       "      <td>7832</td>\n",
       "      <td>7885</td>\n",
       "      <td>7983</td>\n",
       "      <td>8009</td>\n",
       "      <td>8106</td>\n",
       "      <td>8175</td>\n",
       "      <td>343</td>\n",
       "      <td>4.4</td>\n",
       "    </tr>\n",
       "    <tr>\n",
       "      <th>055</th>\n",
       "      <td>Angermund</td>\n",
       "      <td>POLYGON ((6.80952 51.34292, 6.80948 51.34302, ...</td>\n",
       "      <td>6258</td>\n",
       "      <td>6240</td>\n",
       "      <td>6494</td>\n",
       "      <td>6580</td>\n",
       "      <td>6621</td>\n",
       "      <td>6626</td>\n",
       "      <td>368</td>\n",
       "      <td>5.9</td>\n",
       "    </tr>\n",
       "    <tr>\n",
       "      <th>043</th>\n",
       "      <td>Lörick</td>\n",
       "      <td>POLYGON ((6.74610 51.25203, 6.74602 51.25205, ...</td>\n",
       "      <td>7320</td>\n",
       "      <td>7338</td>\n",
       "      <td>7508</td>\n",
       "      <td>7608</td>\n",
       "      <td>7625</td>\n",
       "      <td>7585</td>\n",
       "      <td>265</td>\n",
       "      <td>3.6</td>\n",
       "    </tr>\n",
       "    <tr>\n",
       "      <th>042</th>\n",
       "      <td>Heerdt</td>\n",
       "      <td>POLYGON ((6.73560 51.23767, 6.73522 51.23780, ...</td>\n",
       "      <td>9968</td>\n",
       "      <td>10102</td>\n",
       "      <td>10315</td>\n",
       "      <td>11028</td>\n",
       "      <td>11398</td>\n",
       "      <td>11685</td>\n",
       "      <td>1717</td>\n",
       "      <td>17.2</td>\n",
       "    </tr>\n",
       "    <tr>\n",
       "      <th>041</th>\n",
       "      <td>Oberkassel</td>\n",
       "      <td>POLYGON ((6.76868 51.23195, 6.76868 51.23196, ...</td>\n",
       "      <td>17975</td>\n",
       "      <td>18238</td>\n",
       "      <td>18495</td>\n",
       "      <td>18840</td>\n",
       "      <td>18949</td>\n",
       "      <td>18928</td>\n",
       "      <td>953</td>\n",
       "      <td>5.3</td>\n",
       "    </tr>\n",
       "  </tbody>\n",
       "</table>\n",
       "</div>"
      ],
      "text/plain": [
       "                Neighborhood  \\\n",
       "Neighborhood ID                \n",
       "054                 Wittlaer   \n",
       "055                Angermund   \n",
       "043                   Lörick   \n",
       "042                   Heerdt   \n",
       "041               Oberkassel   \n",
       "\n",
       "                                             Neighborhood Geometry   2013  \\\n",
       "Neighborhood ID                                                             \n",
       "054              POLYGON ((6.76623 51.31355, 6.76618 51.31359, ...   7832   \n",
       "055              POLYGON ((6.80952 51.34292, 6.80948 51.34302, ...   6258   \n",
       "043              POLYGON ((6.74610 51.25203, 6.74602 51.25205, ...   7320   \n",
       "042              POLYGON ((6.73560 51.23767, 6.73522 51.23780, ...   9968   \n",
       "041              POLYGON ((6.76868 51.23195, 6.76868 51.23196, ...  17975   \n",
       "\n",
       "                  2014   2015   2016   2017   2018  2013-2018 (abs)  \\\n",
       "Neighborhood ID                                                       \n",
       "054               7885   7983   8009   8106   8175              343   \n",
       "055               6240   6494   6580   6621   6626              368   \n",
       "043               7338   7508   7608   7625   7585              265   \n",
       "042              10102  10315  11028  11398  11685             1717   \n",
       "041              18238  18495  18840  18949  18928              953   \n",
       "\n",
       "                 2013-2018 (perc)  \n",
       "Neighborhood ID                    \n",
       "054                           4.4  \n",
       "055                           5.9  \n",
       "043                           3.6  \n",
       "042                          17.2  \n",
       "041                           5.3  "
      ]
     },
     "execution_count": 10,
     "metadata": {},
     "output_type": "execute_result"
    }
   ],
   "source": [
    "dus_data_full = neighborhoods.join(population)\n",
    "\n",
    "dus_data_full.head()"
   ]
  },
  {
   "cell_type": "code",
   "execution_count": 112,
   "metadata": {
    "Collapsed": "false"
   },
   "outputs": [
    {
     "data": {
      "text/plain": [
       "geopandas.geodataframe.GeoDataFrame"
      ]
     },
     "execution_count": 112,
     "metadata": {},
     "output_type": "execute_result"
    }
   ],
   "source": [
    "type(dus_data_full)"
   ]
  },
  {
   "cell_type": "markdown",
   "metadata": {
    "Collapsed": "false"
   },
   "source": [
    "Create GeoDataFrame for neighborhood data, incl. centroids for each neighborhood."
   ]
  },
  {
   "cell_type": "code",
   "execution_count": 113,
   "metadata": {
    "Collapsed": "false"
   },
   "outputs": [],
   "source": [
    "dus_data = pd.DataFrame(dus_data_full.drop('Neighborhood Geometry', axis=1))"
   ]
  },
  {
   "cell_type": "code",
   "execution_count": 13,
   "metadata": {
    "Collapsed": "false"
   },
   "outputs": [
    {
     "name": "stdout",
     "output_type": "stream",
     "text": [
      "<class 'geopandas.geodataframe.GeoDataFrame'>\n",
      "(50, 12)\n"
     ]
    },
    {
     "data": {
      "text/html": [
       "<div>\n",
       "<style scoped>\n",
       "    .dataframe tbody tr th:only-of-type {\n",
       "        vertical-align: middle;\n",
       "    }\n",
       "\n",
       "    .dataframe tbody tr th {\n",
       "        vertical-align: top;\n",
       "    }\n",
       "\n",
       "    .dataframe thead th {\n",
       "        text-align: right;\n",
       "    }\n",
       "</style>\n",
       "<table border=\"1\" class=\"dataframe\">\n",
       "  <thead>\n",
       "    <tr style=\"text-align: right;\">\n",
       "      <th></th>\n",
       "      <th>Neighborhood</th>\n",
       "      <th>Neighborhood Geometry</th>\n",
       "      <th>2013</th>\n",
       "      <th>2014</th>\n",
       "      <th>2015</th>\n",
       "      <th>2016</th>\n",
       "      <th>2017</th>\n",
       "      <th>2018</th>\n",
       "      <th>2013-2018 (abs)</th>\n",
       "      <th>2013-2018 (perc)</th>\n",
       "      <th>Latitude</th>\n",
       "      <th>Longitude</th>\n",
       "    </tr>\n",
       "    <tr>\n",
       "      <th>Neighborhood ID</th>\n",
       "      <th></th>\n",
       "      <th></th>\n",
       "      <th></th>\n",
       "      <th></th>\n",
       "      <th></th>\n",
       "      <th></th>\n",
       "      <th></th>\n",
       "      <th></th>\n",
       "      <th></th>\n",
       "      <th></th>\n",
       "      <th></th>\n",
       "      <th></th>\n",
       "    </tr>\n",
       "  </thead>\n",
       "  <tbody>\n",
       "    <tr>\n",
       "      <th>054</th>\n",
       "      <td>Wittlaer</td>\n",
       "      <td>POLYGON ((6.76623 51.31355, 6.76618 51.31359, ...</td>\n",
       "      <td>7832</td>\n",
       "      <td>7885</td>\n",
       "      <td>7983</td>\n",
       "      <td>8009</td>\n",
       "      <td>8106</td>\n",
       "      <td>8175</td>\n",
       "      <td>343</td>\n",
       "      <td>4.4</td>\n",
       "      <td>51.329454</td>\n",
       "      <td>6.741105</td>\n",
       "    </tr>\n",
       "    <tr>\n",
       "      <th>055</th>\n",
       "      <td>Angermund</td>\n",
       "      <td>POLYGON ((6.80952 51.34292, 6.80948 51.34302, ...</td>\n",
       "      <td>6258</td>\n",
       "      <td>6240</td>\n",
       "      <td>6494</td>\n",
       "      <td>6580</td>\n",
       "      <td>6621</td>\n",
       "      <td>6626</td>\n",
       "      <td>368</td>\n",
       "      <td>5.9</td>\n",
       "      <td>51.332001</td>\n",
       "      <td>6.778122</td>\n",
       "    </tr>\n",
       "    <tr>\n",
       "      <th>043</th>\n",
       "      <td>Lörick</td>\n",
       "      <td>POLYGON ((6.74610 51.25203, 6.74602 51.25205, ...</td>\n",
       "      <td>7320</td>\n",
       "      <td>7338</td>\n",
       "      <td>7508</td>\n",
       "      <td>7608</td>\n",
       "      <td>7625</td>\n",
       "      <td>7585</td>\n",
       "      <td>265</td>\n",
       "      <td>3.6</td>\n",
       "      <td>51.247284</td>\n",
       "      <td>6.731490</td>\n",
       "    </tr>\n",
       "    <tr>\n",
       "      <th>042</th>\n",
       "      <td>Heerdt</td>\n",
       "      <td>POLYGON ((6.73560 51.23767, 6.73522 51.23780, ...</td>\n",
       "      <td>9968</td>\n",
       "      <td>10102</td>\n",
       "      <td>10315</td>\n",
       "      <td>11028</td>\n",
       "      <td>11398</td>\n",
       "      <td>11685</td>\n",
       "      <td>1717</td>\n",
       "      <td>17.2</td>\n",
       "      <td>51.232903</td>\n",
       "      <td>6.713008</td>\n",
       "    </tr>\n",
       "    <tr>\n",
       "      <th>041</th>\n",
       "      <td>Oberkassel</td>\n",
       "      <td>POLYGON ((6.76868 51.23195, 6.76868 51.23196, ...</td>\n",
       "      <td>17975</td>\n",
       "      <td>18238</td>\n",
       "      <td>18495</td>\n",
       "      <td>18840</td>\n",
       "      <td>18949</td>\n",
       "      <td>18928</td>\n",
       "      <td>953</td>\n",
       "      <td>5.3</td>\n",
       "      <td>51.229969</td>\n",
       "      <td>6.750438</td>\n",
       "    </tr>\n",
       "  </tbody>\n",
       "</table>\n",
       "</div>"
      ],
      "text/plain": [
       "                Neighborhood  \\\n",
       "Neighborhood ID                \n",
       "054                 Wittlaer   \n",
       "055                Angermund   \n",
       "043                   Lörick   \n",
       "042                   Heerdt   \n",
       "041               Oberkassel   \n",
       "\n",
       "                                             Neighborhood Geometry   2013  \\\n",
       "Neighborhood ID                                                             \n",
       "054              POLYGON ((6.76623 51.31355, 6.76618 51.31359, ...   7832   \n",
       "055              POLYGON ((6.80952 51.34292, 6.80948 51.34302, ...   6258   \n",
       "043              POLYGON ((6.74610 51.25203, 6.74602 51.25205, ...   7320   \n",
       "042              POLYGON ((6.73560 51.23767, 6.73522 51.23780, ...   9968   \n",
       "041              POLYGON ((6.76868 51.23195, 6.76868 51.23196, ...  17975   \n",
       "\n",
       "                  2014   2015   2016   2017   2018  2013-2018 (abs)  \\\n",
       "Neighborhood ID                                                       \n",
       "054               7885   7983   8009   8106   8175              343   \n",
       "055               6240   6494   6580   6621   6626              368   \n",
       "043               7338   7508   7608   7625   7585              265   \n",
       "042              10102  10315  11028  11398  11685             1717   \n",
       "041              18238  18495  18840  18949  18928              953   \n",
       "\n",
       "                 2013-2018 (perc)   Latitude  Longitude  \n",
       "Neighborhood ID                                          \n",
       "054                           4.4  51.329454   6.741105  \n",
       "055                           5.9  51.332001   6.778122  \n",
       "043                           3.6  51.247284   6.731490  \n",
       "042                          17.2  51.232903   6.713008  \n",
       "041                           5.3  51.229969   6.750438  "
      ]
     },
     "execution_count": 13,
     "metadata": {},
     "output_type": "execute_result"
    }
   ],
   "source": [
    "dus_data_geo = (gpd.GeoDataFrame(dus_data_full, geometry='Neighborhood Geometry')\n",
    "                   .assign(Latitude=lambda x: x['Neighborhood Geometry'].map(lambda c: c.centroid.y))\n",
    "                   .assign(Longitude=lambda x: x['Neighborhood Geometry'].map(lambda c: c.centroid.x))\n",
    "               )\n",
    "\n",
    "print(type(dus_data_geo))\n",
    "print(dus_data_geo.shape)\n",
    "dus_data_geo.head()"
   ]
  },
  {
   "cell_type": "code",
   "execution_count": 14,
   "metadata": {
    "Collapsed": "false"
   },
   "outputs": [
    {
     "name": "stdout",
     "output_type": "stream",
     "text": [
      "<class 'geopandas.geodataframe.GeoDataFrame'>\n",
      "(50, 12)\n"
     ]
    },
    {
     "data": {
      "text/html": [
       "<div>\n",
       "<style scoped>\n",
       "    .dataframe tbody tr th:only-of-type {\n",
       "        vertical-align: middle;\n",
       "    }\n",
       "\n",
       "    .dataframe tbody tr th {\n",
       "        vertical-align: top;\n",
       "    }\n",
       "\n",
       "    .dataframe thead th {\n",
       "        text-align: right;\n",
       "    }\n",
       "</style>\n",
       "<table border=\"1\" class=\"dataframe\">\n",
       "  <thead>\n",
       "    <tr style=\"text-align: right;\">\n",
       "      <th></th>\n",
       "      <th>Neighborhood</th>\n",
       "      <th>Neighborhood Geometry</th>\n",
       "      <th>Latitude</th>\n",
       "      <th>Longitude</th>\n",
       "      <th>2013</th>\n",
       "      <th>2014</th>\n",
       "      <th>2015</th>\n",
       "      <th>2016</th>\n",
       "      <th>2017</th>\n",
       "      <th>2018</th>\n",
       "      <th>2013-2018 (abs)</th>\n",
       "      <th>2013-2018 (perc)</th>\n",
       "    </tr>\n",
       "    <tr>\n",
       "      <th>Neighborhood ID</th>\n",
       "      <th></th>\n",
       "      <th></th>\n",
       "      <th></th>\n",
       "      <th></th>\n",
       "      <th></th>\n",
       "      <th></th>\n",
       "      <th></th>\n",
       "      <th></th>\n",
       "      <th></th>\n",
       "      <th></th>\n",
       "      <th></th>\n",
       "      <th></th>\n",
       "    </tr>\n",
       "  </thead>\n",
       "  <tbody>\n",
       "    <tr>\n",
       "      <th>054</th>\n",
       "      <td>Wittlaer</td>\n",
       "      <td>POLYGON ((6.76623 51.31355, 6.76618 51.31359, ...</td>\n",
       "      <td>51.329454</td>\n",
       "      <td>6.741105</td>\n",
       "      <td>7832</td>\n",
       "      <td>7885</td>\n",
       "      <td>7983</td>\n",
       "      <td>8009</td>\n",
       "      <td>8106</td>\n",
       "      <td>8175</td>\n",
       "      <td>343</td>\n",
       "      <td>4.4</td>\n",
       "    </tr>\n",
       "    <tr>\n",
       "      <th>055</th>\n",
       "      <td>Angermund</td>\n",
       "      <td>POLYGON ((6.80952 51.34292, 6.80948 51.34302, ...</td>\n",
       "      <td>51.332001</td>\n",
       "      <td>6.778122</td>\n",
       "      <td>6258</td>\n",
       "      <td>6240</td>\n",
       "      <td>6494</td>\n",
       "      <td>6580</td>\n",
       "      <td>6621</td>\n",
       "      <td>6626</td>\n",
       "      <td>368</td>\n",
       "      <td>5.9</td>\n",
       "    </tr>\n",
       "    <tr>\n",
       "      <th>043</th>\n",
       "      <td>Lörick</td>\n",
       "      <td>POLYGON ((6.74610 51.25203, 6.74602 51.25205, ...</td>\n",
       "      <td>51.247284</td>\n",
       "      <td>6.731490</td>\n",
       "      <td>7320</td>\n",
       "      <td>7338</td>\n",
       "      <td>7508</td>\n",
       "      <td>7608</td>\n",
       "      <td>7625</td>\n",
       "      <td>7585</td>\n",
       "      <td>265</td>\n",
       "      <td>3.6</td>\n",
       "    </tr>\n",
       "    <tr>\n",
       "      <th>042</th>\n",
       "      <td>Heerdt</td>\n",
       "      <td>POLYGON ((6.73560 51.23767, 6.73522 51.23780, ...</td>\n",
       "      <td>51.232903</td>\n",
       "      <td>6.713008</td>\n",
       "      <td>9968</td>\n",
       "      <td>10102</td>\n",
       "      <td>10315</td>\n",
       "      <td>11028</td>\n",
       "      <td>11398</td>\n",
       "      <td>11685</td>\n",
       "      <td>1717</td>\n",
       "      <td>17.2</td>\n",
       "    </tr>\n",
       "    <tr>\n",
       "      <th>041</th>\n",
       "      <td>Oberkassel</td>\n",
       "      <td>POLYGON ((6.76868 51.23195, 6.76868 51.23196, ...</td>\n",
       "      <td>51.229969</td>\n",
       "      <td>6.750438</td>\n",
       "      <td>17975</td>\n",
       "      <td>18238</td>\n",
       "      <td>18495</td>\n",
       "      <td>18840</td>\n",
       "      <td>18949</td>\n",
       "      <td>18928</td>\n",
       "      <td>953</td>\n",
       "      <td>5.3</td>\n",
       "    </tr>\n",
       "  </tbody>\n",
       "</table>\n",
       "</div>"
      ],
      "text/plain": [
       "                Neighborhood  \\\n",
       "Neighborhood ID                \n",
       "054                 Wittlaer   \n",
       "055                Angermund   \n",
       "043                   Lörick   \n",
       "042                   Heerdt   \n",
       "041               Oberkassel   \n",
       "\n",
       "                                             Neighborhood Geometry   Latitude  \\\n",
       "Neighborhood ID                                                                 \n",
       "054              POLYGON ((6.76623 51.31355, 6.76618 51.31359, ...  51.329454   \n",
       "055              POLYGON ((6.80952 51.34292, 6.80948 51.34302, ...  51.332001   \n",
       "043              POLYGON ((6.74610 51.25203, 6.74602 51.25205, ...  51.247284   \n",
       "042              POLYGON ((6.73560 51.23767, 6.73522 51.23780, ...  51.232903   \n",
       "041              POLYGON ((6.76868 51.23195, 6.76868 51.23196, ...  51.229969   \n",
       "\n",
       "                 Longitude   2013   2014   2015   2016   2017   2018  \\\n",
       "Neighborhood ID                                                        \n",
       "054               6.741105   7832   7885   7983   8009   8106   8175   \n",
       "055               6.778122   6258   6240   6494   6580   6621   6626   \n",
       "043               6.731490   7320   7338   7508   7608   7625   7585   \n",
       "042               6.713008   9968  10102  10315  11028  11398  11685   \n",
       "041               6.750438  17975  18238  18495  18840  18949  18928   \n",
       "\n",
       "                 2013-2018 (abs)  2013-2018 (perc)  \n",
       "Neighborhood ID                                     \n",
       "054                          343               4.4  \n",
       "055                          368               5.9  \n",
       "043                          265               3.6  \n",
       "042                         1717              17.2  \n",
       "041                          953               5.3  "
      ]
     },
     "execution_count": 14,
     "metadata": {},
     "output_type": "execute_result"
    }
   ],
   "source": [
    "columns = dus_data_geo.columns.to_list()\n",
    "columns = columns[:2] + columns[-2:] + columns[2:-2]\n",
    "\n",
    "dus_data_geo = dus_data_geo[columns]\n",
    "print(type(dus_data_geo))\n",
    "print(dus_data_geo.shape)\n",
    "dus_data_geo.head()"
   ]
  },
  {
   "cell_type": "markdown",
   "metadata": {
    "Collapsed": "false"
   },
   "source": [
    "- Outliers (-30, around +20): t-test on statistical significance (or even normal distribution (z-test) because sample size > 30) -> get p-values based on z-scores"
   ]
  },
  {
   "cell_type": "markdown",
   "metadata": {
    "Collapsed": "false"
   },
   "source": [
    "## Visual Data Analysis"
   ]
  },
  {
   "cell_type": "markdown",
   "metadata": {
    "Collapsed": "false"
   },
   "source": [
    "### Graphs"
   ]
  },
  {
   "cell_type": "code",
   "execution_count": 172,
   "metadata": {
    "Collapsed": "false"
   },
   "outputs": [
    {
     "data": {
      "image/png": "[encoded data removed]",
      "text/plain": [
       "<Figure size 432x288 with 1 Axes>"
      ]
     },
     "metadata": {},
     "output_type": "display_data"
    }
   ],
   "source": [
    "dus_data['2018'].plot(kind='hist');\n",
    "plt.title('Population of Neighborhoods in 2018', fontdict={'fontsize': 16});"
   ]
  },
  {
   "cell_type": "code",
   "execution_count": 170,
   "metadata": {
    "Collapsed": "false"
   },
   "outputs": [
    {
     "data": {
      "image/png": "[encoded data removed]",
      "text/plain": [
       "<Figure size 1440x360 with 2 Axes>"
      ]
     },
     "metadata": {},
     "output_type": "display_data"
    }
   ],
   "source": [
    "fig = plt.figure(figsize=(20,5))\n",
    "ax0 = fig.add_subplot(121)\n",
    "ax1 = fig.add_subplot(122)\n",
    "\n",
    "dus_data['2013-2018 (abs)'].plot(kind='hist', bins=20, ax=ax0)\n",
    "dus_data['2013-2018 (perc)'].plot(kind='hist', bins=20, yticks=range(0, 19, 2), ax=ax1)\n",
    "ax0.set_title('Change of Population per Neighborhood 2013-2018 (abs)', fontdict={'fontsize': 16})\n",
    "ax1.set_title('Change of Population per Neighborhood 2013-2018 (perc)', fontdict={'fontsize': 16});"
   ]
  },
  {
   "cell_type": "code",
   "execution_count": 171,
   "metadata": {
    "Collapsed": "false"
   },
   "outputs": [
    {
     "data": {
      "image/png": "[encoded data removed]",
      "text/plain": [
       "<Figure size 1440x864 with 2 Axes>"
      ]
     },
     "metadata": {},
     "output_type": "display_data"
    }
   ],
   "source": [
    "sns.set()\n",
    "change = dus_data[['Neighborhood', '2013-2018 (abs)', '2013-2018 (perc)']].sort_values(by='2013-2018 (abs)')\n",
    "pos_neg = (dus_data['2013-2018 (perc)'] > 0).map({True: 'g', False: 'r'})\n",
    "\n",
    "fig = plt.figure(figsize=(20,12))\n",
    "\n",
    "ax0 = fig.add_subplot(211)\n",
    "ax1 = fig.add_subplot(212)\n",
    "fig.subplots_adjust(hspace=0.45)\n",
    "sns.barplot(data=change, x='Neighborhood', y='2013-2018 (abs)', hue=pos_neg, dodge=False, ax=ax0)\n",
    "sns.barplot(data=change, x='Neighborhood', y='2013-2018 (perc)', hue=pos_neg, dodge=False, ax=ax1)\n",
    "ax0.set_title('Change of Population per Neighborhood 2013-2018 (abs)', fontdict={'fontsize': 16})\n",
    "ax0.set_xlabel('')\n",
    "ax0.legend_.remove()\n",
    "ax0.tick_params(axis='x', rotation=90)\n",
    "ax1.set_title('Change of Population per Neighborhood 2013-2018 (perc)', fontdict={'fontsize': 16})\n",
    "ax1.set_xlabel('')\n",
    "ax1.legend_.remove()\n",
    "ax1.tick_params(axis='x', rotation=90);"
   ]
  },
  {
   "cell_type": "code",
   "execution_count": 173,
   "metadata": {
    "Collapsed": "false"
   },
   "outputs": [
    {
     "data": {
      "image/png": "[encoded data removed]",
      "text/plain": [
       "<Figure size 1440x504 with 2 Axes>"
      ]
     },
     "metadata": {},
     "output_type": "display_data"
    }
   ],
   "source": [
    "sns.set()\n",
    "change = dus_data[['Neighborhood', '2013-2018 (abs)', '2013-2018 (perc)']].sort_values(by='2013-2018 (abs)')\n",
    "pos_neg = (dus_data['2013-2018 (perc)'] > 0).map({True: 'g', False: 'r'})\n",
    "\n",
    "fig = plt.figure(figsize=(20,7))\n",
    "\n",
    "ax0 = fig.add_subplot(121)\n",
    "ax1 = fig.add_subplot(122)\n",
    "sns.boxplot(data=change, y='2013-2018 (abs)', ax=ax0)\n",
    "sns.boxplot(data=change, y='2013-2018 (perc)', ax=ax1)\n",
    "ax0.set_xlabel('')\n",
    "ax0.tick_params(axis='x', rotation=90)\n",
    "ax1.set_xlabel('')\n",
    "ax1.tick_params(axis='x', rotation=90);"
   ]
  },
  {
   "cell_type": "code",
   "execution_count": 178,
   "metadata": {
    "Collapsed": "false"
   },
   "outputs": [
    {
     "name": "stdout",
     "output_type": "stream",
     "text": [
      "Mean: 4.066\n",
      "Confidence Interval: (2.1751275410653275, 5.956872458934672)\n",
      "test of Null hypothesis for mean: (4.321250153506742, 7.563595224256037e-05, 49.0)\n"
     ]
    }
   ],
   "source": [
    "stats_perc = sm.stats.weightstats.DescrStatsW(dus_data['2013-2018 (perc)'])\n",
    "print(f'Mean: {stats_perc.mean}')\n",
    "print(f'Confidence Interval: {stats_perc.tconfint_mean(alpha=0.05)}')\n",
    "print(f'test of Null hypothesis for mean: {stats_perc.ttest_mean(0)}')"
   ]
  },
  {
   "cell_type": "code",
   "execution_count": null,
   "metadata": {
    "Collapsed": "false"
   },
   "outputs": [],
   "source": []
  },
  {
   "cell_type": "code",
   "execution_count": 17,
   "metadata": {
    "Collapsed": "false"
   },
   "outputs": [
    {
     "data": {
      "text/html": [
       "<div>\n",
       "<style scoped>\n",
       "    .dataframe tbody tr th:only-of-type {\n",
       "        vertical-align: middle;\n",
       "    }\n",
       "\n",
       "    .dataframe tbody tr th {\n",
       "        vertical-align: top;\n",
       "    }\n",
       "\n",
       "    .dataframe thead th {\n",
       "        text-align: right;\n",
       "    }\n",
       "</style>\n",
       "<table border=\"1\" class=\"dataframe\">\n",
       "  <thead>\n",
       "    <tr style=\"text-align: right;\">\n",
       "      <th></th>\n",
       "      <th>Neighborhood</th>\n",
       "      <th>Neighborhood Geometry</th>\n",
       "      <th>Latitude</th>\n",
       "      <th>Longitude</th>\n",
       "      <th>2013</th>\n",
       "      <th>2014</th>\n",
       "      <th>2015</th>\n",
       "      <th>2016</th>\n",
       "      <th>2017</th>\n",
       "      <th>2018</th>\n",
       "      <th>2013-2018 (abs)</th>\n",
       "      <th>2013-2018 (perc)</th>\n",
       "    </tr>\n",
       "    <tr>\n",
       "      <th>Neighborhood ID</th>\n",
       "      <th></th>\n",
       "      <th></th>\n",
       "      <th></th>\n",
       "      <th></th>\n",
       "      <th></th>\n",
       "      <th></th>\n",
       "      <th></th>\n",
       "      <th></th>\n",
       "      <th></th>\n",
       "      <th></th>\n",
       "      <th></th>\n",
       "      <th></th>\n",
       "    </tr>\n",
       "  </thead>\n",
       "  <tbody>\n",
       "    <tr>\n",
       "      <th>033</th>\n",
       "      <td>Hafen</td>\n",
       "      <td>POLYGON ((6.76573 51.21917, 6.76574 51.21918, ...</td>\n",
       "      <td>51.219030</td>\n",
       "      <td>6.739272</td>\n",
       "      <td>157</td>\n",
       "      <td>139</td>\n",
       "      <td>131</td>\n",
       "      <td>130</td>\n",
       "      <td>116</td>\n",
       "      <td>109</td>\n",
       "      <td>-48</td>\n",
       "      <td>-30.6</td>\n",
       "    </tr>\n",
       "    <tr>\n",
       "      <th>032</th>\n",
       "      <td>Unterbilk</td>\n",
       "      <td>POLYGON ((6.77694 51.21900, 6.77663 51.21900, ...</td>\n",
       "      <td>51.213381</td>\n",
       "      <td>6.767174</td>\n",
       "      <td>18689</td>\n",
       "      <td>18707</td>\n",
       "      <td>18902</td>\n",
       "      <td>19052</td>\n",
       "      <td>19292</td>\n",
       "      <td>19370</td>\n",
       "      <td>681</td>\n",
       "      <td>3.6</td>\n",
       "    </tr>\n",
       "  </tbody>\n",
       "</table>\n",
       "</div>"
      ],
      "text/plain": [
       "                Neighborhood  \\\n",
       "Neighborhood ID                \n",
       "033                    Hafen   \n",
       "032                Unterbilk   \n",
       "\n",
       "                                             Neighborhood Geometry   Latitude  \\\n",
       "Neighborhood ID                                                                 \n",
       "033              POLYGON ((6.76573 51.21917, 6.76574 51.21918, ...  51.219030   \n",
       "032              POLYGON ((6.77694 51.21900, 6.77663 51.21900, ...  51.213381   \n",
       "\n",
       "                 Longitude   2013   2014   2015   2016   2017   2018  \\\n",
       "Neighborhood ID                                                        \n",
       "033               6.739272    157    139    131    130    116    109   \n",
       "032               6.767174  18689  18707  18902  19052  19292  19370   \n",
       "\n",
       "                 2013-2018 (abs)  2013-2018 (perc)  \n",
       "Neighborhood ID                                     \n",
       "033                          -48             -30.6  \n",
       "032                          681               3.6  "
      ]
     },
     "execution_count": 17,
     "metadata": {},
     "output_type": "execute_result"
    }
   ],
   "source": [
    "dus_data_geo[(dus_data_geo['Neighborhood'] == 'Unterbilk') | (dus_data_geo['Neighborhood'] == 'Hafen')]"
   ]
  },
  {
   "cell_type": "code",
   "execution_count": 18,
   "metadata": {
    "Collapsed": "false"
   },
   "outputs": [
    {
     "ename": "KeyError",
     "evalue": "'Movings'",
     "output_type": "error",
     "traceback": [
      "\u001b[0;31m---------------------------------------------------------------------------\u001b[0m",
      "\u001b[0;31mKeyError\u001b[0m                                  Traceback (most recent call last)",
      "\u001b[0;32m<ipython-input-18-647a7df62e7a>\u001b[0m in \u001b[0;36m<module>\u001b[0;34m\u001b[0m\n\u001b[1;32m      2\u001b[0m \u001b[0mtop_bottom\u001b[0m \u001b[0;34m=\u001b[0m \u001b[0mnp\u001b[0m\u001b[0;34m.\u001b[0m\u001b[0mr_\u001b[0m\u001b[0;34m[\u001b[0m\u001b[0;36m0\u001b[0m\u001b[0;34m:\u001b[0m\u001b[0mtop\u001b[0m\u001b[0;34m,\u001b[0m \u001b[0;34m-\u001b[0m\u001b[0mtop\u001b[0m\u001b[0;34m:\u001b[0m\u001b[0;36m0\u001b[0m\u001b[0;34m]\u001b[0m\u001b[0;34m\u001b[0m\u001b[0;34m\u001b[0m\u001b[0m\n\u001b[1;32m      3\u001b[0m \u001b[0;34m\u001b[0m\u001b[0m\n\u001b[0;32m----> 4\u001b[0;31m \u001b[0mdus_top_bottom\u001b[0m \u001b[0;34m=\u001b[0m \u001b[0mdus_data\u001b[0m\u001b[0;34m.\u001b[0m\u001b[0msort_values\u001b[0m\u001b[0;34m(\u001b[0m\u001b[0mby\u001b[0m\u001b[0;34m=\u001b[0m\u001b[0;34m'Movings'\u001b[0m\u001b[0;34m,\u001b[0m \u001b[0mascending\u001b[0m\u001b[0;34m=\u001b[0m\u001b[0;32mTrue\u001b[0m\u001b[0;34m)\u001b[0m\u001b[0;34m.\u001b[0m\u001b[0miloc\u001b[0m\u001b[0;34m[\u001b[0m\u001b[0mtop_bottom\u001b[0m\u001b[0;34m]\u001b[0m\u001b[0;34m\u001b[0m\u001b[0;34m\u001b[0m\u001b[0m\n\u001b[0m\u001b[1;32m      5\u001b[0m \u001b[0mpos_neg\u001b[0m \u001b[0;34m=\u001b[0m \u001b[0;34m(\u001b[0m\u001b[0mdus_top_bottom\u001b[0m\u001b[0;34m[\u001b[0m\u001b[0;34m'Movings'\u001b[0m\u001b[0;34m]\u001b[0m \u001b[0;34m>\u001b[0m \u001b[0;36m0\u001b[0m\u001b[0;34m)\u001b[0m\u001b[0;34m.\u001b[0m\u001b[0mmap\u001b[0m\u001b[0;34m(\u001b[0m\u001b[0;34m{\u001b[0m\u001b[0;32mTrue\u001b[0m\u001b[0;34m:\u001b[0m \u001b[0;34m'g'\u001b[0m\u001b[0;34m,\u001b[0m \u001b[0;32mFalse\u001b[0m\u001b[0;34m:\u001b[0m \u001b[0;34m'r'\u001b[0m\u001b[0;34m}\u001b[0m\u001b[0;34m)\u001b[0m\u001b[0;34m\u001b[0m\u001b[0;34m\u001b[0m\u001b[0m\n\u001b[1;32m      6\u001b[0m \u001b[0;34m\u001b[0m\u001b[0m\n",
      "\u001b[0;32m~/miniconda3/envs/ibm_capstone/lib/python3.7/site-packages/pandas/core/frame.py\u001b[0m in \u001b[0;36msort_values\u001b[0;34m(self, by, axis, ascending, inplace, kind, na_position)\u001b[0m\n\u001b[1;32m   5006\u001b[0m \u001b[0;34m\u001b[0m\u001b[0m\n\u001b[1;32m   5007\u001b[0m             \u001b[0mby\u001b[0m \u001b[0;34m=\u001b[0m \u001b[0mby\u001b[0m\u001b[0;34m[\u001b[0m\u001b[0;36m0\u001b[0m\u001b[0;34m]\u001b[0m\u001b[0;34m\u001b[0m\u001b[0;34m\u001b[0m\u001b[0m\n\u001b[0;32m-> 5008\u001b[0;31m             \u001b[0mk\u001b[0m \u001b[0;34m=\u001b[0m \u001b[0mself\u001b[0m\u001b[0;34m.\u001b[0m\u001b[0m_get_label_or_level_values\u001b[0m\u001b[0;34m(\u001b[0m\u001b[0mby\u001b[0m\u001b[0;34m,\u001b[0m \u001b[0maxis\u001b[0m\u001b[0;34m=\u001b[0m\u001b[0maxis\u001b[0m\u001b[0;34m)\u001b[0m\u001b[0;34m\u001b[0m\u001b[0;34m\u001b[0m\u001b[0m\n\u001b[0m\u001b[1;32m   5009\u001b[0m \u001b[0;34m\u001b[0m\u001b[0m\n\u001b[1;32m   5010\u001b[0m             \u001b[0;32mif\u001b[0m \u001b[0misinstance\u001b[0m\u001b[0;34m(\u001b[0m\u001b[0mascending\u001b[0m\u001b[0;34m,\u001b[0m \u001b[0;34m(\u001b[0m\u001b[0mtuple\u001b[0m\u001b[0;34m,\u001b[0m \u001b[0mlist\u001b[0m\u001b[0;34m)\u001b[0m\u001b[0;34m)\u001b[0m\u001b[0;34m:\u001b[0m\u001b[0;34m\u001b[0m\u001b[0;34m\u001b[0m\u001b[0m\n",
      "\u001b[0;32m~/miniconda3/envs/ibm_capstone/lib/python3.7/site-packages/pandas/core/generic.py\u001b[0m in \u001b[0;36m_get_label_or_level_values\u001b[0;34m(self, key, axis)\u001b[0m\n\u001b[1;32m   1772\u001b[0m             \u001b[0mvalues\u001b[0m \u001b[0;34m=\u001b[0m \u001b[0mself\u001b[0m\u001b[0;34m.\u001b[0m\u001b[0maxes\u001b[0m\u001b[0;34m[\u001b[0m\u001b[0maxis\u001b[0m\u001b[0;34m]\u001b[0m\u001b[0;34m.\u001b[0m\u001b[0mget_level_values\u001b[0m\u001b[0;34m(\u001b[0m\u001b[0mkey\u001b[0m\u001b[0;34m)\u001b[0m\u001b[0;34m.\u001b[0m\u001b[0m_values\u001b[0m\u001b[0;34m\u001b[0m\u001b[0;34m\u001b[0m\u001b[0m\n\u001b[1;32m   1773\u001b[0m         \u001b[0;32melse\u001b[0m\u001b[0;34m:\u001b[0m\u001b[0;34m\u001b[0m\u001b[0;34m\u001b[0m\u001b[0m\n\u001b[0;32m-> 1774\u001b[0;31m             \u001b[0;32mraise\u001b[0m \u001b[0mKeyError\u001b[0m\u001b[0;34m(\u001b[0m\u001b[0mkey\u001b[0m\u001b[0;34m)\u001b[0m\u001b[0;34m\u001b[0m\u001b[0;34m\u001b[0m\u001b[0m\n\u001b[0m\u001b[1;32m   1775\u001b[0m \u001b[0;34m\u001b[0m\u001b[0m\n\u001b[1;32m   1776\u001b[0m         \u001b[0;31m# Check for duplicates\u001b[0m\u001b[0;34m\u001b[0m\u001b[0;34m\u001b[0m\u001b[0;34m\u001b[0m\u001b[0m\n",
      "\u001b[0;31mKeyError\u001b[0m: 'Movings'"
     ]
    }
   ],
   "source": [
    "top = 10\n",
    "top_bottom = np.r_[0:top, -top:0]\n",
    "\n",
    "dus_top_bottom = dus_data.sort_values(by='Movings', ascending=True).iloc[top_bottom]\n",
    "pos_neg = (dus_top_bottom['Movings'] > 0).map({True: 'g', False: 'r'})\n",
    "\n",
    "fig = plt.figure(figsize=(12,7))\n",
    "ax0 = fig.add_subplot(111)\n",
    "dus_top_bottom.plot(kind='bar',\n",
    "                    x='Neighborhood',\n",
    "                    y='Movings',\n",
    "                    legend=False,\n",
    "                    color=pos_neg,\n",
    "                    ax=ax0\n",
    "                   );"
   ]
  },
  {
   "cell_type": "code",
   "execution_count": null,
   "metadata": {
    "Collapsed": "false"
   },
   "outputs": [],
   "source": [
    "top = 10\n",
    "top_bottom = np.r_[0:top, -top:0]\n",
    "\n",
    "dus_top_bottom = (dus_data.assign(MovingsPerc=lambda x: x['Movings']/x['Population']*100)\n",
    "                          .sort_values(by='MovingsPerc', ascending=True)\n",
    "                          .iloc[top_bottom])\n",
    "pos_neg = (dus_top_bottom['MovingsPerc'] > 0).map({True: 'g', False: 'r'})\n",
    "\n",
    "fig = plt.figure(figsize=(12,7))\n",
    "ax0 = fig.add_subplot(111)\n",
    "dus_top_bottom.plot(kind='bar',\n",
    "                    x='Neighborhood',\n",
    "                    y='MovingsPerc',\n",
    "                    legend=False,\n",
    "                    color=pos_neg,\n",
    "                    ax=ax0\n",
    "                   );"
   ]
  },
  {
   "cell_type": "markdown",
   "metadata": {
    "Collapsed": "false"
   },
   "source": [
    "## Venues"
   ]
  },
  {
   "cell_type": "markdown",
   "metadata": {
    "Collapsed": "false"
   },
   "source": [
    "### Build category hierarchy"
   ]
  },
  {
   "cell_type": "markdown",
   "metadata": {
    "Collapsed": "false"
   },
   "source": [
    "#### Pull categories from foursquare API as JSON and extract categories"
   ]
  },
  {
   "cell_type": "code",
   "execution_count": 17,
   "metadata": {
    "Collapsed": "false"
   },
   "outputs": [],
   "source": [
    "url = 'https://api.foursquare.com/v2/venues/categories'\n",
    "params = dict(client_id=os.getenv('FS_CLIENT_ID'),\n",
    "              client_secret=os.getenv('FS_CLIENT_SECRET'),\n",
    "              v='20190106'\n",
    "             )\n",
    "\n",
    "results = requests.get(url=url, params=params).json()['response']['categories']"
   ]
  },
  {
   "cell_type": "code",
   "execution_count": 18,
   "metadata": {
    "Collapsed": "false"
   },
   "outputs": [],
   "source": [
    "def extract_rows(category, new_data, next_level, level):\n",
    "    \n",
    "    if len(category['categories']) > 0:\n",
    "        new_data.extend([{f'{level}_ID': category['id'],\n",
    "                          f'{level}': category['shortName'],\n",
    "                          f'{level}_SUB_ID': sub_cat['id']} for sub_cat in category['categories']\n",
    "                        ])\n",
    "        next_level.extend(category['categories'])\n",
    "    else:\n",
    "        new_data.append({f'{level}_ID': category['id'],\n",
    "                         f'{level}': category['shortName'],\n",
    "                         f'{level}_SUB_ID': np.nan\n",
    "                        })\n",
    "    \n",
    "    return (new_data, next_level)"
   ]
  },
  {
   "cell_type": "code",
   "execution_count": 19,
   "metadata": {
    "Collapsed": "false"
   },
   "outputs": [],
   "source": [
    "def expand_df(df, df_new_data, level):\n",
    "    \n",
    "    if level == 1:\n",
    "        df = df_new_data\n",
    "    else:\n",
    "        df = df.merge(df_new_data,\n",
    "                      how='left',\n",
    "                      left_on=df.columns[-1],\n",
    "                      right_on=df_new_data.columns[0]\n",
    "                     )\n",
    "    \n",
    "    return df"
   ]
  },
  {
   "cell_type": "code",
   "execution_count": 20,
   "metadata": {
    "Collapsed": "false"
   },
   "outputs": [],
   "source": [
    "def extract_categories(data, level, df=pd.DataFrame()):\n",
    "    \n",
    "    new_data = []\n",
    "    next_level = []\n",
    "    for category in data:\n",
    "        new_data, next_level = extract_rows(category, new_data, next_level, level)\n",
    "    \n",
    "    df_new_data = pd.DataFrame([row for row in new_data])\n",
    "    df = expand_df(df, df_new_data, level)\n",
    "    \n",
    "    if len(next_level) > 0:\n",
    "        df = extract_categories(next_level, (level+1), df)\n",
    "    \n",
    "    columns_to_drop = df.columns[df.columns.str.contains('SUB_ID')]\n",
    "    df = df.drop(columns_to_drop, axis=1)\n",
    "    \n",
    "    return df\n"
   ]
  },
  {
   "cell_type": "code",
   "execution_count": 21,
   "metadata": {
    "Collapsed": "false"
   },
   "outputs": [
    {
     "name": "stdout",
     "output_type": "stream",
     "text": [
      "(865, 10)\n"
     ]
    },
    {
     "data": {
      "text/html": [
       "<div>\n",
       "<style scoped>\n",
       "    .dataframe tbody tr th:only-of-type {\n",
       "        vertical-align: middle;\n",
       "    }\n",
       "\n",
       "    .dataframe tbody tr th {\n",
       "        vertical-align: top;\n",
       "    }\n",
       "\n",
       "    .dataframe thead th {\n",
       "        text-align: right;\n",
       "    }\n",
       "</style>\n",
       "<table border=\"1\" class=\"dataframe\">\n",
       "  <thead>\n",
       "    <tr style=\"text-align: right;\">\n",
       "      <th></th>\n",
       "      <th>1_ID</th>\n",
       "      <th>1</th>\n",
       "      <th>2_ID</th>\n",
       "      <th>2</th>\n",
       "      <th>3_ID</th>\n",
       "      <th>3</th>\n",
       "      <th>4_ID</th>\n",
       "      <th>4</th>\n",
       "      <th>5_ID</th>\n",
       "      <th>5</th>\n",
       "    </tr>\n",
       "  </thead>\n",
       "  <tbody>\n",
       "    <tr>\n",
       "      <th>0</th>\n",
       "      <td>4d4b7104d754a06370d81259</td>\n",
       "      <td>Arts &amp; Entertainment</td>\n",
       "      <td>56aa371be4b08b9a8d5734db</td>\n",
       "      <td>Amphitheater</td>\n",
       "      <td>NaN</td>\n",
       "      <td>NaN</td>\n",
       "      <td>NaN</td>\n",
       "      <td>NaN</td>\n",
       "      <td>NaN</td>\n",
       "      <td>NaN</td>\n",
       "    </tr>\n",
       "    <tr>\n",
       "      <th>1</th>\n",
       "      <td>4d4b7104d754a06370d81259</td>\n",
       "      <td>Arts &amp; Entertainment</td>\n",
       "      <td>4fceea171983d5d06c3e9823</td>\n",
       "      <td>Aquarium</td>\n",
       "      <td>NaN</td>\n",
       "      <td>NaN</td>\n",
       "      <td>NaN</td>\n",
       "      <td>NaN</td>\n",
       "      <td>NaN</td>\n",
       "      <td>NaN</td>\n",
       "    </tr>\n",
       "    <tr>\n",
       "      <th>2</th>\n",
       "      <td>4d4b7104d754a06370d81259</td>\n",
       "      <td>Arts &amp; Entertainment</td>\n",
       "      <td>4bf58dd8d48988d1e1931735</td>\n",
       "      <td>Arcade</td>\n",
       "      <td>NaN</td>\n",
       "      <td>NaN</td>\n",
       "      <td>NaN</td>\n",
       "      <td>NaN</td>\n",
       "      <td>NaN</td>\n",
       "      <td>NaN</td>\n",
       "    </tr>\n",
       "    <tr>\n",
       "      <th>3</th>\n",
       "      <td>4d4b7104d754a06370d81259</td>\n",
       "      <td>Arts &amp; Entertainment</td>\n",
       "      <td>4bf58dd8d48988d1e2931735</td>\n",
       "      <td>Art Gallery</td>\n",
       "      <td>NaN</td>\n",
       "      <td>NaN</td>\n",
       "      <td>NaN</td>\n",
       "      <td>NaN</td>\n",
       "      <td>NaN</td>\n",
       "      <td>NaN</td>\n",
       "    </tr>\n",
       "    <tr>\n",
       "      <th>4</th>\n",
       "      <td>4d4b7104d754a06370d81259</td>\n",
       "      <td>Arts &amp; Entertainment</td>\n",
       "      <td>4bf58dd8d48988d1e4931735</td>\n",
       "      <td>Bowling Alley</td>\n",
       "      <td>NaN</td>\n",
       "      <td>NaN</td>\n",
       "      <td>NaN</td>\n",
       "      <td>NaN</td>\n",
       "      <td>NaN</td>\n",
       "      <td>NaN</td>\n",
       "    </tr>\n",
       "  </tbody>\n",
       "</table>\n",
       "</div>"
      ],
      "text/plain": [
       "                       1_ID                     1                      2_ID  \\\n",
       "0  4d4b7104d754a06370d81259  Arts & Entertainment  56aa371be4b08b9a8d5734db   \n",
       "1  4d4b7104d754a06370d81259  Arts & Entertainment  4fceea171983d5d06c3e9823   \n",
       "2  4d4b7104d754a06370d81259  Arts & Entertainment  4bf58dd8d48988d1e1931735   \n",
       "3  4d4b7104d754a06370d81259  Arts & Entertainment  4bf58dd8d48988d1e2931735   \n",
       "4  4d4b7104d754a06370d81259  Arts & Entertainment  4bf58dd8d48988d1e4931735   \n",
       "\n",
       "               2 3_ID    3 4_ID    4 5_ID    5  \n",
       "0   Amphitheater  NaN  NaN  NaN  NaN  NaN  NaN  \n",
       "1       Aquarium  NaN  NaN  NaN  NaN  NaN  NaN  \n",
       "2         Arcade  NaN  NaN  NaN  NaN  NaN  NaN  \n",
       "3    Art Gallery  NaN  NaN  NaN  NaN  NaN  NaN  \n",
       "4  Bowling Alley  NaN  NaN  NaN  NaN  NaN  NaN  "
      ]
     },
     "execution_count": 21,
     "metadata": {},
     "output_type": "execute_result"
    }
   ],
   "source": [
    "start_level = 1\n",
    "\n",
    "foursquare_cat = extract_categories(results, start_level)\n",
    "\n",
    "print(foursquare_cat.shape)\n",
    "foursquare_cat.head()"
   ]
  },
  {
   "cell_type": "code",
   "execution_count": 22,
   "metadata": {
    "Collapsed": "false"
   },
   "outputs": [
    {
     "name": "stdout",
     "output_type": "stream",
     "text": [
      "Number of categories per category level:\n",
      "Level 1: 10\n",
      "Level 2: 450\n",
      "Level 3: 360\n",
      "Level 4: 92\n",
      "Level 5: 14\n"
     ]
    }
   ],
   "source": [
    "columns = foursquare_cat.columns[~foursquare_cat.columns.str.contains('_ID')]\n",
    "print('Number of categories per category level:')\n",
    "print('\\n'.join([f'Level {x}: {len(foursquare_cat[x].unique())}' for x in columns]))"
   ]
  },
  {
   "cell_type": "markdown",
   "metadata": {
    "Collapsed": "false"
   },
   "source": [
    "Not all level 2 categories also have a level 3 category. Therefore assign all categories to level 2, as all venues can be categorized on this level."
   ]
  },
  {
   "cell_type": "markdown",
   "metadata": {
    "Collapsed": "false"
   },
   "source": [
    "#### Create dictionary to look up Category LVL of a Category ID"
   ]
  },
  {
   "cell_type": "code",
   "execution_count": 23,
   "metadata": {
    "Collapsed": "false"
   },
   "outputs": [],
   "source": [
    "def create_lvl_dict(df):\n",
    "    \n",
    "    levels_dict = {}\n",
    "    \n",
    "    lvl = len(df.columns) // 2\n",
    "    levels = [str(i) for i in range(1, (lvl+1))]\n",
    "    for level in levels:\n",
    "        column = f'{level}_ID'\n",
    "        cat_id = list(df[column][df[column].notnull()].unique())\n",
    "        lvl_list = [level] * len(cat_id)\n",
    "        levels_dict.update(dict(zip(cat_id, lvl_list)))\n",
    "    \n",
    "    return levels_dict\n",
    "        "
   ]
  },
  {
   "cell_type": "code",
   "execution_count": 24,
   "metadata": {
    "Collapsed": "false"
   },
   "outputs": [],
   "source": [
    "cat_lvl = create_lvl_dict(foursquare_cat)"
   ]
  },
  {
   "cell_type": "markdown",
   "metadata": {
    "Collapsed": "false"
   },
   "source": [
    "### Create list of venues per neighborhood"
   ]
  },
  {
   "cell_type": "markdown",
   "metadata": {
    "Collapsed": "false"
   },
   "source": [
    "#### Get list of venus via Foursquare API"
   ]
  },
  {
   "cell_type": "code",
   "execution_count": null,
   "metadata": {
    "Collapsed": "false"
   },
   "outputs": [],
   "source": [
    "# Build one DataFrame with top venues per neighborhood\n",
    "def getNearbyVenues(neighborhoods, latitudes, longitudes, radius=500):\n",
    "    \n",
    "    venues_list = []\n",
    "    # Iterate through list of neighborhoods\n",
    "    for neighborhood, lat, lng in zip(neighborhoods, latitudes, longitudes):\n",
    "        # create the API request URL\n",
    "        url = 'https://api.foursquare.com/v2/venues/explore'\n",
    "        params = dict(client_id=os.getenv('FS_CLIENT_ID'),\n",
    "                      client_secret=os.getenv('FS_CLIENT_SECRET'),\n",
    "                      v='20190106',\n",
    "                      ll=f'{lat},{lng}',\n",
    "                      radius=radius,\n",
    "                      limit=100\n",
    "                     )\n",
    "\n",
    "        # make the GET request\n",
    "        results = requests.get(url=url, params=params).json()\n",
    "        try:\n",
    "            results = results['response']['groups'][0]['items']\n",
    "\n",
    "        except:\n",
    "            print('Something went wrong with the query. Here are some information:')\n",
    "            print(f'Neighborhood: {neighborhood}, lat,lng: {lat},{lng}')\n",
    "            print(results)\n",
    "        # List of list with only relevant information per venue\n",
    "        # Multiple entries per venue, if multiple categories have been assigned\n",
    "        for v in results: \n",
    "            venues_list.append([(neighborhood,\n",
    "                                 lat,\n",
    "                                 lng,\n",
    "                                 v['venue']['name'],\n",
    "                                 v['venue']['location']['lat'],\n",
    "                                 v['venue']['location']['lng'],\n",
    "                                 n['id']) for n in v['venue']['categories']]\n",
    "                              )\n",
    "\n",
    "        # Create DataFrame\n",
    "        columns = ['Neighborhood ID', 'Neighborhood Latitude', 'Neighborhood Longitude',\n",
    "                   'Venue', 'Venue Latitude', 'Venue Longitude', 'Venue Category ID']\n",
    "        nearby_venues = pd.DataFrame([item for venue_list in venues_list for item in venue_list])\n",
    "        nearby_venues.columns = columns\n",
    "        nearby_venues.set_index('Neighborhood ID')\n",
    "    \n",
    "    return nearby_venues"
   ]
  },
  {
   "cell_type": "code",
   "execution_count": null,
   "metadata": {
    "Collapsed": "false"
   },
   "outputs": [],
   "source": [
    "# Create DataFrame with one row per venue returned matching the neighborhood it belongs to \n",
    "dus_venues = getNearbyVenues(neighborhoods=dus_data['Neighborhood ID'],\n",
    "                             latitudes = dus_data_geo['Latitude'],\n",
    "                             longitudes = dus_data_geo['Longitude'],\n",
    "                             radius=700\n",
    "                            )\n",
    "\n",
    "print(dus_venues.shape)\n",
    "dus_venues.head()"
   ]
  },
  {
   "cell_type": "markdown",
   "metadata": {
    "Collapsed": "false"
   },
   "source": [
    "Pickle results to continue working on the data at a later point in time."
   ]
  },
  {
   "cell_type": "code",
   "execution_count": null,
   "metadata": {
    "Collapsed": "false"
   },
   "outputs": [],
   "source": [
    "dus_venues.to_pickle('dus_venues.pkl', compression='gzip')"
   ]
  },
  {
   "cell_type": "code",
   "execution_count": 25,
   "metadata": {
    "Collapsed": "false"
   },
   "outputs": [],
   "source": [
    "dus_venues = pd.read_pickle('dus_venues.pkl', compression='gzip')"
   ]
  },
  {
   "cell_type": "markdown",
   "metadata": {
    "Collapsed": "false"
   },
   "source": [
    "### Combine Venue and Category information"
   ]
  },
  {
   "cell_type": "markdown",
   "metadata": {
    "Collapsed": "false"
   },
   "source": [
    "As defined earlier target is to map all venues to a category on the second level. Before this it is required to analyse the initial category level assignments."
   ]
  },
  {
   "cell_type": "code",
   "execution_count": 26,
   "metadata": {
    "Collapsed": "false"
   },
   "outputs": [
    {
     "data": {
      "text/plain": [
       "2    745\n",
       "3    305\n",
       "4     23\n",
       "1      1\n",
       "Name: Venue Category Lvl, dtype: int64"
      ]
     },
     "execution_count": 26,
     "metadata": {},
     "output_type": "execute_result"
    }
   ],
   "source": [
    "kwargs = {'Venue Category Lvl': dus_venues['Venue Category ID'].map(lambda x: cat_lvl[x])}\n",
    "\n",
    "dus_venues_analysis = (dus_venues.assign(**kwargs))\n",
    "dus_venues_analysis['Venue Category Lvl'].astype('int64').value_counts()"
   ]
  },
  {
   "cell_type": "markdown",
   "metadata": {
    "Collapsed": "false"
   },
   "source": [
    "One venue has been assigned to category level 1 and therefore needs to be assigned manually to a category at level 2."
   ]
  },
  {
   "cell_type": "code",
   "execution_count": 27,
   "metadata": {
    "Collapsed": "false"
   },
   "outputs": [
    {
     "data": {
      "text/html": [
       "<div>\n",
       "<style scoped>\n",
       "    .dataframe tbody tr th:only-of-type {\n",
       "        vertical-align: middle;\n",
       "    }\n",
       "\n",
       "    .dataframe tbody tr th {\n",
       "        vertical-align: top;\n",
       "    }\n",
       "\n",
       "    .dataframe thead th {\n",
       "        text-align: right;\n",
       "    }\n",
       "</style>\n",
       "<table border=\"1\" class=\"dataframe\">\n",
       "  <thead>\n",
       "    <tr style=\"text-align: right;\">\n",
       "      <th></th>\n",
       "      <th>Neighborhood ID</th>\n",
       "      <th>Neighborhood Latitude</th>\n",
       "      <th>Neighborhood Longitude</th>\n",
       "      <th>Venue</th>\n",
       "      <th>Venue Latitude</th>\n",
       "      <th>Venue Longitude</th>\n",
       "      <th>Venue Category ID</th>\n",
       "      <th>Venue Category Lvl</th>\n",
       "    </tr>\n",
       "  </thead>\n",
       "  <tbody>\n",
       "    <tr>\n",
       "      <th>579</th>\n",
       "      <td>031</td>\n",
       "      <td>51.214279</td>\n",
       "      <td>6.783253</td>\n",
       "      <td>Düssel</td>\n",
       "      <td>51.208952</td>\n",
       "      <td>6.785794</td>\n",
       "      <td>4d4b7105d754a06377d81259</td>\n",
       "      <td>1</td>\n",
       "    </tr>\n",
       "  </tbody>\n",
       "</table>\n",
       "</div>"
      ],
      "text/plain": [
       "    Neighborhood ID  Neighborhood Latitude  Neighborhood Longitude   Venue  \\\n",
       "579             031              51.214279                6.783253  Düssel   \n",
       "\n",
       "     Venue Latitude  Venue Longitude         Venue Category ID  \\\n",
       "579       51.208952         6.785794  4d4b7105d754a06377d81259   \n",
       "\n",
       "    Venue Category Lvl  \n",
       "579                  1  "
      ]
     },
     "execution_count": 27,
     "metadata": {},
     "output_type": "execute_result"
    }
   ],
   "source": [
    "dus_venues_analysis[dus_venues_analysis['Venue Category Lvl'] == '1']"
   ]
  },
  {
   "cell_type": "markdown",
   "metadata": {
    "Collapsed": "false"
   },
   "source": [
    "The 'Düssel' is a canal in the midst of the city and thus will be assigned to this category."
   ]
  },
  {
   "cell_type": "code",
   "execution_count": 28,
   "metadata": {
    "Collapsed": "false"
   },
   "outputs": [],
   "source": [
    "# Get category id for category 'Canal'\n",
    "canal_id = foursquare_cat['2_ID'][foursquare_cat['2'] == 'Canal'].values[0]\n",
    "\n",
    "# Assign this category_id to venue 'Düssel'\n",
    "# dus_venues.loc[dus_venues['Venue'] == 'Düssel', 'Venue Category ID'] = canal_id\n",
    "dus_venues.at[579, 'Venue Category ID'] = canal_id"
   ]
  },
  {
   "cell_type": "code",
   "execution_count": 29,
   "metadata": {
    "Collapsed": "false"
   },
   "outputs": [
    {
     "data": {
      "text/html": [
       "<div>\n",
       "<style scoped>\n",
       "    .dataframe tbody tr th:only-of-type {\n",
       "        vertical-align: middle;\n",
       "    }\n",
       "\n",
       "    .dataframe tbody tr th {\n",
       "        vertical-align: top;\n",
       "    }\n",
       "\n",
       "    .dataframe thead th {\n",
       "        text-align: right;\n",
       "    }\n",
       "</style>\n",
       "<table border=\"1\" class=\"dataframe\">\n",
       "  <thead>\n",
       "    <tr style=\"text-align: right;\">\n",
       "      <th></th>\n",
       "      <th>Neighborhood ID</th>\n",
       "      <th>Neighborhood Latitude</th>\n",
       "      <th>Neighborhood Longitude</th>\n",
       "      <th>Venue</th>\n",
       "      <th>Venue Latitude</th>\n",
       "      <th>Venue Longitude</th>\n",
       "      <th>Venue Category ID</th>\n",
       "    </tr>\n",
       "  </thead>\n",
       "  <tbody>\n",
       "    <tr>\n",
       "      <th>579</th>\n",
       "      <td>031</td>\n",
       "      <td>51.214279</td>\n",
       "      <td>6.783253</td>\n",
       "      <td>Düssel</td>\n",
       "      <td>51.208952</td>\n",
       "      <td>6.785794</td>\n",
       "      <td>56aa371be4b08b9a8d573562</td>\n",
       "    </tr>\n",
       "  </tbody>\n",
       "</table>\n",
       "</div>"
      ],
      "text/plain": [
       "    Neighborhood ID  Neighborhood Latitude  Neighborhood Longitude   Venue  \\\n",
       "579             031              51.214279                6.783253  Düssel   \n",
       "\n",
       "     Venue Latitude  Venue Longitude         Venue Category ID  \n",
       "579       51.208952         6.785794  56aa371be4b08b9a8d573562  "
      ]
     },
     "execution_count": 29,
     "metadata": {},
     "output_type": "execute_result"
    }
   ],
   "source": [
    "dus_venues[dus_venues['Venue'] == 'Düssel']"
   ]
  },
  {
   "cell_type": "code",
   "execution_count": 30,
   "metadata": {
    "Collapsed": "false"
   },
   "outputs": [],
   "source": [
    "def harmonize_cat_level(cat_ids, target_lvl, cat_lvl, foursquare_cat):\n",
    "    \n",
    "    categories = []\n",
    "    \n",
    "    for cat_id in cat_ids:\n",
    "        level = cat_lvl[cat_id]\n",
    "        if level != target_lvl:\n",
    "            cat_id = foursquare_cat.at[foursquare_cat.index[foursquare_cat[f'{level}_ID'] == cat_id][0],\n",
    "                                       f'{target_lvl}_ID']\n",
    "        \n",
    "        category = foursquare_cat.at[foursquare_cat.index[foursquare_cat[f'{target_lvl}_ID'] == cat_id][0],\n",
    "                                     target_lvl]\n",
    "        categories.append(category)\n",
    "    \n",
    "    return categories"
   ]
  },
  {
   "cell_type": "code",
   "execution_count": 31,
   "metadata": {
    "Collapsed": "false"
   },
   "outputs": [
    {
     "data": {
      "text/html": [
       "<div>\n",
       "<style scoped>\n",
       "    .dataframe tbody tr th:only-of-type {\n",
       "        vertical-align: middle;\n",
       "    }\n",
       "\n",
       "    .dataframe tbody tr th {\n",
       "        vertical-align: top;\n",
       "    }\n",
       "\n",
       "    .dataframe thead th {\n",
       "        text-align: right;\n",
       "    }\n",
       "</style>\n",
       "<table border=\"1\" class=\"dataframe\">\n",
       "  <thead>\n",
       "    <tr style=\"text-align: right;\">\n",
       "      <th></th>\n",
       "      <th>Neighborhood ID</th>\n",
       "      <th>Neighborhood Latitude</th>\n",
       "      <th>Neighborhood Longitude</th>\n",
       "      <th>Venue</th>\n",
       "      <th>Venue Latitude</th>\n",
       "      <th>Venue Longitude</th>\n",
       "      <th>Venue Category ID</th>\n",
       "      <th>Venue Category</th>\n",
       "    </tr>\n",
       "  </thead>\n",
       "  <tbody>\n",
       "    <tr>\n",
       "      <th>0</th>\n",
       "      <td>011</td>\n",
       "      <td>51.228143</td>\n",
       "      <td>6.772752</td>\n",
       "      <td>Elephant Bar</td>\n",
       "      <td>51.226851</td>\n",
       "      <td>6.772636</td>\n",
       "      <td>4bf58dd8d48988d11e941735</td>\n",
       "      <td>Bar</td>\n",
       "    </tr>\n",
       "    <tr>\n",
       "      <th>1</th>\n",
       "      <td>011</td>\n",
       "      <td>51.228143</td>\n",
       "      <td>6.772752</td>\n",
       "      <td>Bar Chérie</td>\n",
       "      <td>51.226886</td>\n",
       "      <td>6.772424</td>\n",
       "      <td>4bf58dd8d48988d116941735</td>\n",
       "      <td>Bar</td>\n",
       "    </tr>\n",
       "    <tr>\n",
       "      <th>2</th>\n",
       "      <td>011</td>\n",
       "      <td>51.228143</td>\n",
       "      <td>6.772752</td>\n",
       "      <td>Kreuzherreneck</td>\n",
       "      <td>51.228895</td>\n",
       "      <td>6.773122</td>\n",
       "      <td>4bf58dd8d48988d116941735</td>\n",
       "      <td>Bar</td>\n",
       "    </tr>\n",
       "    <tr>\n",
       "      <th>3</th>\n",
       "      <td>011</td>\n",
       "      <td>51.228143</td>\n",
       "      <td>6.772752</td>\n",
       "      <td>Brauerei Kürzer</td>\n",
       "      <td>51.226973</td>\n",
       "      <td>6.773423</td>\n",
       "      <td>50327c8591d4c4b30a586d5d</td>\n",
       "      <td>Brewery</td>\n",
       "    </tr>\n",
       "    <tr>\n",
       "      <th>4</th>\n",
       "      <td>011</td>\n",
       "      <td>51.228143</td>\n",
       "      <td>6.772752</td>\n",
       "      <td>Rheintreppen</td>\n",
       "      <td>51.227463</td>\n",
       "      <td>6.770819</td>\n",
       "      <td>4bf58dd8d48988d164941735</td>\n",
       "      <td>Plaza</td>\n",
       "    </tr>\n",
       "  </tbody>\n",
       "</table>\n",
       "</div>"
      ],
      "text/plain": [
       "  Neighborhood ID  Neighborhood Latitude  Neighborhood Longitude  \\\n",
       "0             011              51.228143                6.772752   \n",
       "1             011              51.228143                6.772752   \n",
       "2             011              51.228143                6.772752   \n",
       "3             011              51.228143                6.772752   \n",
       "4             011              51.228143                6.772752   \n",
       "\n",
       "             Venue  Venue Latitude  Venue Longitude         Venue Category ID  \\\n",
       "0     Elephant Bar       51.226851         6.772636  4bf58dd8d48988d11e941735   \n",
       "1       Bar Chérie       51.226886         6.772424  4bf58dd8d48988d116941735   \n",
       "2   Kreuzherreneck       51.228895         6.773122  4bf58dd8d48988d116941735   \n",
       "3  Brauerei Kürzer       51.226973         6.773423  50327c8591d4c4b30a586d5d   \n",
       "4     Rheintreppen       51.227463         6.770819  4bf58dd8d48988d164941735   \n",
       "\n",
       "  Venue Category  \n",
       "0            Bar  \n",
       "1            Bar  \n",
       "2            Bar  \n",
       "3        Brewery  \n",
       "4          Plaza  "
      ]
     },
     "execution_count": 31,
     "metadata": {},
     "output_type": "execute_result"
    }
   ],
   "source": [
    "target_lvl = '2'\n",
    "\n",
    "dus_venues['Venue Category'] = harmonize_cat_level(dus_venues['Venue Category ID'], target_lvl, cat_lvl, foursquare_cat)\n",
    "dus_venues.head()"
   ]
  },
  {
   "cell_type": "markdown",
   "metadata": {
    "Collapsed": "false"
   },
   "source": [
    "## Blabla "
   ]
  },
  {
   "cell_type": "code",
   "execution_count": null,
   "metadata": {
    "Collapsed": "false"
   },
   "outputs": [],
   "source": [
    "def return_top_nationalities(neighborhood, top, threshold=1):\n",
    "    top += 1\n",
    "    top_nationalities = (neighborhood.sort_values(ascending=False)\n",
    "                                     .head(top)[1:top] # Germany is in all neighborhoods top 1 nationality, therefore drop it\n",
    "                                     .index\n",
    "                        )\n",
    "    return top_nationalities"
   ]
  },
  {
   "cell_type": "code",
   "execution_count": null,
   "metadata": {
    "Collapsed": "false"
   },
   "outputs": [],
   "source": [
    "top = 10\n",
    "top_nationalities_dict = {}\n",
    "nationality_t = nationality.apply(lambda x: x / x.sum(), axis=1).transpose()\n",
    "\n",
    "for neighborhood in nationality_t:\n",
    "    top_nationalities_dict[neighborhood] = return_top_nationalities(nationality_t[neighborhood], top)\n",
    "\n",
    "columns = [str(x) for x in range(1, top + 1)]\n",
    "top_nationalities = pd.DataFrame(top_nationalities_dict).transpose()\n",
    "top_nationalities.columns = columns\n",
    "top_nationalities.head()"
   ]
  },
  {
   "cell_type": "code",
   "execution_count": null,
   "metadata": {
    "Collapsed": "false"
   },
   "outputs": [],
   "source": [
    "# Join neighborhoods and nationality data on 'Neighborhood ID' and calculate percentage of nationality per neighborhood\n",
    "dus_data = neighborhoods.merge(top_nationalities,\n",
    "                               how='inner',\n",
    "                               left_index=True,\n",
    "                               right_index=True\n",
    "                              )\n",
    "print(dus_data.shape)\n",
    "dus_data.head()"
   ]
  },
  {
   "cell_type": "markdown",
   "metadata": {
    "Collapsed": "false"
   },
   "source": [
    "#### Visualize data on a map"
   ]
  },
  {
   "cell_type": "code",
   "execution_count": null,
   "metadata": {
    "Collapsed": "false"
   },
   "outputs": [],
   "source": [
    "dus_centre = Nominatim(user_agent='dus')\n",
    "location = dus_centre.geocode(query='Unterbilk, Düsseldorf', country_codes='de')\n",
    "dus_latitude = location.latitude\n",
    "dus_longitude = location.longitude\n",
    "\n",
    "print(f'The coordinates of Duesseldorf are {dus_latitude}, {dus_longitude}.')"
   ]
  },
  {
   "cell_type": "code",
   "execution_count": null,
   "metadata": {
    "Collapsed": "false"
   },
   "outputs": [],
   "source": [
    "# create map centered on Duesseldorf\n",
    "map_dus = folium.Map(location=[dus_latitude, dus_longitude],\n",
    "                     zoom_start=11,\n",
    "                     min_zoom=10,\n",
    "                     max_zoom=19,\n",
    "                     zoom_control=False\n",
    "                    )\n",
    "\n",
    "# for code, lat, lng in zip(dus_data['Postal Code'], dus_data['Latitude'], dus_data['Longitude']):\n",
    "#     folium.Marker(location=[lat, lng],\n",
    "#                   icon=folium.DivIcon(html=f\"\"\"<div style=\"color: black;\">{code}</div>\"\"\")\n",
    "#                  ).add_to(map_dus)\n",
    "\n",
    "# generate choropleth map to show postal code areas\n",
    "folium.GeoJson(data=dus_data[['geometry', 'Neighborhood', '1', '2', '3']],\n",
    "               tooltip=folium.features.GeoJsonTooltip(['Neighborhood', '1', '2', '3'])\n",
    "              ).add_to(map_dus)\n",
    "\n",
    "map_dus"
   ]
  },
  {
   "cell_type": "code",
   "execution_count": null,
   "metadata": {
    "Collapsed": "false"
   },
   "outputs": [],
   "source": [
    "# Build one DataFrame with top venues per neighborhood\n",
    "def getNearbyVenues(postal_codes, names, latitudes, longitudes, radius=500):\n",
    "    \n",
    "    venues_list = []\n",
    "    # Iterate through list of neighborhoods\n",
    "    for postal_code, name, lat, lng in zip(postal_codes, names, latitudes, longitudes):\n",
    "        # create the API request URL\n",
    "        url = 'https://api.foursquare.com/v2/venues/explore'\n",
    "        params = dict(client_id=os.getenv('FS_CLIENT_ID'),\n",
    "                      client_secret=os.getenv('FS_CLIENT_SECRET'),\n",
    "                      v='20180323',\n",
    "                      ll=f'{lat},{lng}',\n",
    "                      radius=radius,\n",
    "                      limit=100\n",
    "                     )\n",
    "\n",
    "        # make the GET request\n",
    "        results = requests.get(url=url, params=params).json()\n",
    "        try:\n",
    "            results = results['response']['groups'][0]['items']\n",
    "\n",
    "        except:\n",
    "            print('Something went wrong with the query. Here are some information:')\n",
    "            print(f'Postal Code: {postal_code}, Section: {section}')\n",
    "            print(results)\n",
    "        # List of list with only relevant information per venue\n",
    "        # Multiple entries per venue, if multiple categories have been assigned\n",
    "        for v in results: \n",
    "            venues_list.append([(postal_code,\n",
    "                                 name,\n",
    "                                 lat,\n",
    "                                 lng,\n",
    "                                 v['venue']['name'],\n",
    "                                 v['venue']['location']['lat'],\n",
    "                                 v['venue']['location']['lng'],\n",
    "                                 n['name']) for n in v['venue']['categories']]\n",
    "                              )\n",
    "\n",
    "        # Create DataFrame\n",
    "        columns = ['Postal Code', 'Neighborhood', 'Neighborhood Latitude', 'Neighborhood Longitude',\n",
    "                   'Venue', 'Venue Latitude', 'Venue Longitude', 'Venue Category']\n",
    "        nearby_venues = pd.DataFrame([item for venue_list in venues_list for item in venue_list])\n",
    "        nearby_venues.columns = columns\n",
    "    \n",
    "    return(nearby_venues)"
   ]
  },
  {
   "cell_type": "code",
   "execution_count": null,
   "metadata": {
    "Collapsed": "false"
   },
   "outputs": [],
   "source": [
    "# Create DataFrame with one row per venue returned matching the neighborhood it belongs to \n",
    "dus_venues = getNearbyVenues(postal_codes=dus_data['Postal Code'],\n",
    "                             names=dus_data['Neighborhood'],\n",
    "                             latitudes=dus_data['Latitude'],\n",
    "                             longitudes=dus_data['Longitude']\n",
    "                            )"
   ]
  },
  {
   "cell_type": "code",
   "execution_count": null,
   "metadata": {
    "Collapsed": "false"
   },
   "outputs": [],
   "source": [
    "dus_venues.head()"
   ]
  },
  {
   "cell_type": "code",
   "execution_count": null,
   "metadata": {
    "Collapsed": "false"
   },
   "outputs": [],
   "source": [
    "dus_venues.to_pickle('dus_venues.pkl', compression=\"gzip\")"
   ]
  },
  {
   "cell_type": "code",
   "execution_count": null,
   "metadata": {
    "Collapsed": "false"
   },
   "outputs": [],
   "source": [
    "venue_counts = (dus_venues['Postal Code'].value_counts()\n",
    "                                        .to_frame()\n",
    "                                        .reset_index(drop=False)\n",
    "                                        .rename(columns={'index':'Postal Code', 'Postal Code':'Venues'})\n",
    "               )\n",
    "venue_counts"
   ]
  },
  {
   "cell_type": "markdown",
   "metadata": {
    "Collapsed": "false"
   },
   "source": [
    "For 35 of the 37 postal code areas, min. one venue has been returned."
   ]
  },
  {
   "cell_type": "code",
   "execution_count": null,
   "metadata": {
    "Collapsed": "false"
   },
   "outputs": [],
   "source": [
    "len(dus_venues['Postal Code'].value_counts())"
   ]
  },
  {
   "cell_type": "code",
   "execution_count": null,
   "metadata": {
    "Collapsed": "false"
   },
   "outputs": [],
   "source": [
    "color_scale = np.array(['#053061','#2166ac','#4393c3','#92c5de','#d1e5f0','#fddbc7','#f4a582','#d6604d','#b2182b','#67001f'])\n",
    "sns.palplot(sns.color_palette(color_scale))"
   ]
  },
  {
   "cell_type": "code",
   "execution_count": null,
   "metadata": {
    "Collapsed": "false"
   },
   "outputs": [],
   "source": [
    "# Create map centered on Duesseldorf\n",
    "map_dus = folium.Map(location=[dus_latitude, dus_longitude],\n",
    "                     zoom_start=11,\n",
    "                     min_zoom=10,\n",
    "                     max_zoom=19,\n",
    "                     zoom_control=False\n",
    "                    )\n",
    "\n",
    "# for code, lat, lng in zip(dus_data['Postal Code'], dus_data['Latitude'], dus_data['Longitude']):\n",
    "#     folium.Marker(location=[lat, lng],\n",
    "#                   icon=folium.DivIcon(html=f\"\"\"<div style=\"color: black;\">{code}</div>\"\"\")\n",
    "#                  ).add_to(map_dus)\n",
    "\n",
    "# Define bins for coloring\n",
    "threshold_scale = list(range(0,101,20))\n",
    "threshold_scale[-1] = threshold_scale[-1] + 0.1\n",
    "\n",
    "# Generate choropleth map to show postal code areas\n",
    "folium.Choropleth(\n",
    "    geo_data='dus_postal_code_geo.json',\n",
    "    key_on='feature.properties.plz',\n",
    "    data=venue_counts,\n",
    "    columns=['Postal Code', 'Venues'],\n",
    "    fill_color='BuGn',\n",
    "    threshold_scale=threshold_scale,\n",
    "    fill_opacity=0.7, \n",
    "    line_opacity=0.5,\n",
    "    legend_name='Venues per Postal Code'\n",
    ").add_to(map_dus)\n",
    "\n",
    "map_dus"
   ]
  },
  {
   "cell_type": "code",
   "execution_count": null,
   "metadata": {
    "Collapsed": "false"
   },
   "outputs": [],
   "source": [
    "dus_venues_one_hot = pd.get_dummies(dus_venues[['Postal Code', 'Venue Category']], columns=['Venue Category'])"
   ]
  },
  {
   "cell_type": "code",
   "execution_count": null,
   "metadata": {
    "Collapsed": "false"
   },
   "outputs": [],
   "source": [
    "dus_venues_mean = dus_venues_one_hot.groupby(by='Postal Code').agg('mean').reset_index(drop=False)"
   ]
  },
  {
   "cell_type": "code",
   "execution_count": null,
   "metadata": {
    "Collapsed": "false"
   },
   "outputs": [],
   "source": []
  }
 ],
 "metadata": {
  "kernelspec": {
   "display_name": "Python (ibm_capstone)",
   "language": "python",
   "name": "ibm_capstone"
  },
  "language_info": {
   "codemirror_mode": {
    "name": "ipython",
    "version": 3
   },
   "file_extension": ".py",
   "mimetype": "text/x-python",
   "name": "python",
   "nbconvert_exporter": "python",
   "pygments_lexer": "ipython3",
   "version": "3.7.6"
  },
  "toc-autonumbering": false,
  "toc-showtags": false
 },
 "nbformat": 4,
 "nbformat_minor": 4
}
