{
 "cells": [
  {
   "cell_type": "code",
   "execution_count": 2,
   "metadata": {
    "Collapsed": "false"
   },
   "outputs": [],
   "source": [
    "def create_html(table):\n",
    "    table_header = table[:1]\n",
    "    table_body = table[1:]\n",
    "    n_cols = len(table_header[0].split('\\t'))\n",
    "    header = add_tags(table_header, 'th', n_cols)\n",
    "    body = add_tags(table_body, 'td', n_cols)\n",
    "    return str(''.join(header) + ''.join(body))\n",
    "\n",
    "def add_tags(data, tag, n_cols):\n",
    "    t_data = []\n",
    "    for item in data:\n",
    "        item = item.strip().split('\\t')\n",
    "        item = item + [' ']*(n_cols - len(item))\n",
    "        item = [f'<{tag}>{x}</{tag}>' for x in item]\n",
    "        t_data.append(f'<tr>{\"\".join(item)}</tr>')\n",
    "    return t_data"
   ]
  },
  {
   "cell_type": "code",
   "execution_count": 5,
   "metadata": {
    "Collapsed": "false"
   },
   "outputs": [
    {
     "name": "stdin",
     "output_type": "stream",
     "text": [
      "Enter the table id: social_area_env\n"
     ]
    },
    {
     "name": "stdout",
     "output_type": "stream",
     "text": [
      "Copy and paste below text into markdown field:\n",
      "\n",
      "<table id=\"social_area_env\"><tr><th>Column</th><th>Translation</th><th>Description</th></tr><tr><td>Stadtbezirk</td><td>Department</td><td>ID of the department.</td></tr><tr><td>Sozialraum</td><td>Social Area</td><td>ID of the social area.</td></tr><tr><td>Fläche in ha</td><td>Area in ha</td><td>Size of area in hectare.</td></tr><tr><td>Einwohner je km2</td><td>Population per sqkm</td><td>Population per square kilometre.</td></tr><tr><td>Wohnfläche Anteil in %</td><td>Perc. of living space</td><td>Percentage of areas with living spaces.</td></tr><tr><td>Grünfläche Anteil in %</td><td>Perc. of green space</td><td>Percentage of areas with green spaces.</td></tr><tr><td>Von Verkehrslärm betroffene Bevölkerung in %</td><td>Perc. affected by traffic noise</td><td>Percentage of population affected by traffic noise.</td></tr></table>\n"
     ]
    }
   ],
   "source": [
    "with open('table_social_area_env.txt', 'r') as txt:\n",
    "    text = txt.readlines()\n",
    "\n",
    "html_table = create_html(text)\n",
    "table_id = input('Enter the table id:')\n",
    "print('Copy and paste below text into markdown field:\\n')\n",
    "print(f'<table id=\"{table_id}\">{html_table}</table>')"
   ]
  }
 ],
 "metadata": {
  "kernelspec": {
   "display_name": "Python (data_science)",
   "language": "python",
   "name": "data_science"
  },
  "language_info": {
   "codemirror_mode": {
    "name": "ipython",
    "version": 3
   },
   "file_extension": ".py",
   "mimetype": "text/x-python",
   "name": "python",
   "nbconvert_exporter": "python",
   "pygments_lexer": "ipython3",
   "version": "3.7.6"
  }
 },
 "nbformat": 4,
 "nbformat_minor": 4
}
