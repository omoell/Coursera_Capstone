{
 "cells": [
  {
   "cell_type": "code",
   "execution_count": 2,
   "metadata": {
    "Collapsed": "false"
   },
   "outputs": [],
   "source": [
    "def create_html(table):\n",
    "    table_header = table[:1]\n",
    "    table_body = table[1:]\n",
    "    n_cols = len(table_header[0].split('\\t'))\n",
    "    header = add_tags(table_header, 'th', n_cols)\n",
    "    body = add_tags(table_body, 'td', n_cols)\n",
    "    return str(''.join(header) + ''.join(body))\n",
    "\n",
    "def add_tags(data, tag, n_cols):\n",
    "    t_data = []\n",
    "    for item in data:\n",
    "        item = item.strip().split('\\t')\n",
    "        item = item + [' ']*(n_cols - len(item))\n",
    "        item = [f'<{tag}>{x}</{tag}>' for x in item]\n",
    "        t_data.append(f'<tr>{\"\".join(item)}</tr>')\n",
    "    return t_data"
   ]
  },
  {
   "cell_type": "code",
   "execution_count": 4,
   "metadata": {
    "Collapsed": "false"
   },
   "outputs": [
    {
     "name": "stdin",
     "output_type": "stream",
     "text": [
      "Enter the table id: dus_venues\n"
     ]
    },
    {
     "name": "stdout",
     "output_type": "stream",
     "text": [
      "Copy and paste below text into markdown field:\n",
      "\n",
      "<table id=\"dus_venues\"><tr><th>Column</th><th>Translation</th><th>Description</th></tr><tr><td>Neighborhood ID</td><td>Neighborhood ID</td><td>ID of the neighborhood.</td></tr><tr><td>Neighborhood Latitude</td><td>Neighborhood Latitude</td><td>Latitude of the centre of the neighborhood.</td></tr><tr><td>Neighborhood Longitude</td><td>Neighborhood Longitude</td><td>Longitude of the centre of the neighborhood.</td></tr><tr><td>Venue</td><td>Venue</td><td>Name of a venue recommended by foursquare.</td></tr><tr><td>Venue Latitude</td><td>Venue Latitude</td><td>Latitude of the venue.</td></tr><tr><td>Venue Longitude</td><td>Venue Longitude</td><td>Longitude of the venue.</td></tr><tr><td>Venue Category ID</td><td>Venue Category ID</td><td>ID of the category that has been assigned to the venue.</td></tr></table>\n"
     ]
    }
   ],
   "source": [
    "with open('table_dus_venues.txt', 'r') as txt:\n",
    "    text = txt.readlines()\n",
    "\n",
    "html_table = create_html(text)\n",
    "table_id = input('Enter the table id:')\n",
    "print('Copy and paste below text into markdown field:\\n')\n",
    "print(f'<table id=\"{table_id}\">{html_table}</table>')"
   ]
  }
 ],
 "metadata": {
  "kernelspec": {
   "display_name": "Python (data_science)",
   "language": "python",
   "name": "data_science"
  },
  "language_info": {
   "codemirror_mode": {
    "name": "ipython",
    "version": 3
   },
   "file_extension": ".py",
   "mimetype": "text/x-python",
   "name": "python",
   "nbconvert_exporter": "python",
   "pygments_lexer": "ipython3",
   "version": "3.7.6"
  }
 },
 "nbformat": 4,
 "nbformat_minor": 4
}
